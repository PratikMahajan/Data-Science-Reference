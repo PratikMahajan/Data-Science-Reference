{
 "cells": [
  {
   "cell_type": "markdown",
   "metadata": {
    "collapsed": true
   },
   "source": [
    "# Assignment 3\n",
    "## Exploratory Data Analysis \n",
    "### StackOverflow Survey Data\n",
    "\n",
    "This is an Exploratory Data Analysis of StackOverflow Developer Survey. The dataset has a lot of information which can be used to know a lot about developers and the tech environment. \n",
    "\n",
    "**Dataset**:\n",
    "\n",
    "As mentioned by StackOverflow\n",
    "\n",
    "\"Each year, we at Stack Overflow ask the developer community about everything from their favorite technologies to their job preferences. This year marks the eighth year we’ve published our Annual Developer Survey results—with the largest number of respondents yet. Over 100,000 developers took the 30-minute survey in January 2018.\n",
    "\n",
    "This year, we covered a few new topics ranging from artificial intelligence to ethics in coding. We also found that underrepresented groups in tech responded to our survey at even lower rates than we would expect from their participation in the workforce. Want to dive into the results yourself and see what you can learn about salaries or machine learning or diversity in tech? We look forward to seeing what you find!\""
   ]
  },
  {
   "cell_type": "code",
   "execution_count": 1,
   "metadata": {},
   "outputs": [
    {
     "data": {
      "text/html": [
       "<script>requirejs.config({paths: { 'plotly': ['https://cdn.plot.ly/plotly-latest.min']},});if(!window.Plotly) {{require(['plotly'],function(plotly) {window.Plotly=plotly;});}}</script>"
      ],
      "text/vnd.plotly.v1+html": [
       "<script>requirejs.config({paths: { 'plotly': ['https://cdn.plot.ly/plotly-latest.min']},});if(!window.Plotly) {{require(['plotly'],function(plotly) {window.Plotly=plotly;});}}</script>"
      ]
     },
     "metadata": {},
     "output_type": "display_data"
    }
   ],
   "source": [
    "# Importing libraries\n",
    "import numpy as np # For linear algebra\n",
    "import pandas as pd # Python's extensive data analyis toolkit\n",
    "# Matolotlib for visualizations\n",
    "import matplotlib.pyplot as plt\n",
    "import matplotlib.gridspec as gridspec\n",
    "%matplotlib inline\n",
    "# Seaborn for statistical insights\n",
    "import seaborn as sns\n",
    "sns.set_style('darkgrid')\n",
    "# PLotly libraries for interactive visualizations\n",
    "from plotly import tools\n",
    "import plotly.plotly as py\n",
    "from plotly.offline import init_notebook_mode, iplot\n",
    "init_notebook_mode(connected=True)\n",
    "import plotly.graph_objs as go\n",
    "import plotly.figure_factory as ff\n",
    "# Squarify for treemaps\n",
    "import squarify\n",
    "# Random for well, random stuff\n",
    "import random\n",
    "# operator for sorting dictionaries\n",
    "import operator\n"
   ]
  },
  {
   "cell_type": "markdown",
   "metadata": {},
   "source": [
    "### Description of Data"
   ]
  },
  {
   "cell_type": "code",
   "execution_count": 2,
   "metadata": {},
   "outputs": [
    {
     "name": "stderr",
     "output_type": "stream",
     "text": [
      "/Users/mahajan/Pratik-Files/Northeastern/ADS/Assignment3/venv/lib/python2.7/site-packages/IPython/core/interactiveshell.py:2714: DtypeWarning:\n",
      "\n",
      "Columns (8,12,13,14,15,16,50,51,52,53,55,56,57,58,59,60,61,62,63,64,65,66,67,68,69,70,71,72,73,74,75,76,77,78,79,80,81,82,83,84,85,93,94,95,96,97,98,99,100,101,102,103,104,105,106,107,108,109,110,111,112,113,114,115,116,117,118,119,120,121,122,123,124,125,126,127,128) have mixed types. Specify dtype option on import or set low_memory=False.\n",
      "\n"
     ]
    }
   ],
   "source": [
    "data = pd.read_csv('StackOverflow.csv')"
   ]
  },
  {
   "cell_type": "code",
   "execution_count": 3,
   "metadata": {},
   "outputs": [
    {
     "data": {
      "text/html": [
       "<div>\n",
       "<style scoped>\n",
       "    .dataframe tbody tr th:only-of-type {\n",
       "        vertical-align: middle;\n",
       "    }\n",
       "\n",
       "    .dataframe tbody tr th {\n",
       "        vertical-align: top;\n",
       "    }\n",
       "\n",
       "    .dataframe thead th {\n",
       "        text-align: right;\n",
       "    }\n",
       "</style>\n",
       "<table border=\"1\" class=\"dataframe\">\n",
       "  <thead>\n",
       "    <tr style=\"text-align: right;\">\n",
       "      <th></th>\n",
       "      <th>Respondent</th>\n",
       "      <th>AssessJob1</th>\n",
       "      <th>AssessJob2</th>\n",
       "      <th>AssessJob3</th>\n",
       "      <th>AssessJob4</th>\n",
       "      <th>AssessJob5</th>\n",
       "      <th>AssessJob6</th>\n",
       "      <th>AssessJob7</th>\n",
       "      <th>AssessJob8</th>\n",
       "      <th>AssessJob9</th>\n",
       "      <th>...</th>\n",
       "      <th>JobEmailPriorities6</th>\n",
       "      <th>JobEmailPriorities7</th>\n",
       "      <th>ConvertedSalary</th>\n",
       "      <th>AdsPriorities1</th>\n",
       "      <th>AdsPriorities2</th>\n",
       "      <th>AdsPriorities3</th>\n",
       "      <th>AdsPriorities4</th>\n",
       "      <th>AdsPriorities5</th>\n",
       "      <th>AdsPriorities6</th>\n",
       "      <th>AdsPriorities7</th>\n",
       "    </tr>\n",
       "  </thead>\n",
       "  <tbody>\n",
       "    <tr>\n",
       "      <th>count</th>\n",
       "      <td>98855.000000</td>\n",
       "      <td>66985.000000</td>\n",
       "      <td>66985.000000</td>\n",
       "      <td>66985.000000</td>\n",
       "      <td>66985.000000</td>\n",
       "      <td>66985.000000</td>\n",
       "      <td>66985.000000</td>\n",
       "      <td>66985.000000</td>\n",
       "      <td>66985.000000</td>\n",
       "      <td>66985.000000</td>\n",
       "      <td>...</td>\n",
       "      <td>46213.00000</td>\n",
       "      <td>46213.000000</td>\n",
       "      <td>4.770200e+04</td>\n",
       "      <td>60479.000000</td>\n",
       "      <td>60479.000000</td>\n",
       "      <td>60479.000000</td>\n",
       "      <td>60479.000000</td>\n",
       "      <td>60479.000000</td>\n",
       "      <td>60479.000000</td>\n",
       "      <td>60479.000000</td>\n",
       "    </tr>\n",
       "    <tr>\n",
       "      <th>mean</th>\n",
       "      <td>50822.971635</td>\n",
       "      <td>6.397089</td>\n",
       "      <td>6.673524</td>\n",
       "      <td>5.906875</td>\n",
       "      <td>4.065791</td>\n",
       "      <td>3.953243</td>\n",
       "      <td>4.407196</td>\n",
       "      <td>5.673181</td>\n",
       "      <td>4.225200</td>\n",
       "      <td>7.640009</td>\n",
       "      <td>...</td>\n",
       "      <td>4.97425</td>\n",
       "      <td>4.836388</td>\n",
       "      <td>9.578086e+04</td>\n",
       "      <td>2.726880</td>\n",
       "      <td>3.805784</td>\n",
       "      <td>3.340945</td>\n",
       "      <td>3.782470</td>\n",
       "      <td>4.383604</td>\n",
       "      <td>5.138809</td>\n",
       "      <td>4.821459</td>\n",
       "    </tr>\n",
       "    <tr>\n",
       "      <th>std</th>\n",
       "      <td>29321.650410</td>\n",
       "      <td>2.788428</td>\n",
       "      <td>2.531202</td>\n",
       "      <td>2.642734</td>\n",
       "      <td>2.541196</td>\n",
       "      <td>2.520499</td>\n",
       "      <td>2.502069</td>\n",
       "      <td>2.923998</td>\n",
       "      <td>2.507411</td>\n",
       "      <td>2.407457</td>\n",
       "      <td>...</td>\n",
       "      <td>1.86063</td>\n",
       "      <td>1.659844</td>\n",
       "      <td>2.023482e+05</td>\n",
       "      <td>1.881078</td>\n",
       "      <td>1.821323</td>\n",
       "      <td>1.673485</td>\n",
       "      <td>1.844864</td>\n",
       "      <td>1.931746</td>\n",
       "      <td>1.853249</td>\n",
       "      <td>1.874895</td>\n",
       "    </tr>\n",
       "    <tr>\n",
       "      <th>min</th>\n",
       "      <td>1.000000</td>\n",
       "      <td>1.000000</td>\n",
       "      <td>1.000000</td>\n",
       "      <td>1.000000</td>\n",
       "      <td>1.000000</td>\n",
       "      <td>1.000000</td>\n",
       "      <td>1.000000</td>\n",
       "      <td>1.000000</td>\n",
       "      <td>1.000000</td>\n",
       "      <td>1.000000</td>\n",
       "      <td>...</td>\n",
       "      <td>1.00000</td>\n",
       "      <td>1.000000</td>\n",
       "      <td>0.000000e+00</td>\n",
       "      <td>1.000000</td>\n",
       "      <td>1.000000</td>\n",
       "      <td>1.000000</td>\n",
       "      <td>1.000000</td>\n",
       "      <td>1.000000</td>\n",
       "      <td>1.000000</td>\n",
       "      <td>1.000000</td>\n",
       "    </tr>\n",
       "    <tr>\n",
       "      <th>25%</th>\n",
       "      <td>25443.500000</td>\n",
       "      <td>4.000000</td>\n",
       "      <td>5.000000</td>\n",
       "      <td>4.000000</td>\n",
       "      <td>2.000000</td>\n",
       "      <td>2.000000</td>\n",
       "      <td>2.000000</td>\n",
       "      <td>3.000000</td>\n",
       "      <td>2.000000</td>\n",
       "      <td>6.000000</td>\n",
       "      <td>...</td>\n",
       "      <td>4.00000</td>\n",
       "      <td>4.000000</td>\n",
       "      <td>2.384400e+04</td>\n",
       "      <td>1.000000</td>\n",
       "      <td>2.000000</td>\n",
       "      <td>2.000000</td>\n",
       "      <td>2.000000</td>\n",
       "      <td>3.000000</td>\n",
       "      <td>4.000000</td>\n",
       "      <td>3.000000</td>\n",
       "    </tr>\n",
       "    <tr>\n",
       "      <th>50%</th>\n",
       "      <td>50823.000000</td>\n",
       "      <td>7.000000</td>\n",
       "      <td>7.000000</td>\n",
       "      <td>6.000000</td>\n",
       "      <td>4.000000</td>\n",
       "      <td>3.000000</td>\n",
       "      <td>4.000000</td>\n",
       "      <td>6.000000</td>\n",
       "      <td>4.000000</td>\n",
       "      <td>8.000000</td>\n",
       "      <td>...</td>\n",
       "      <td>5.00000</td>\n",
       "      <td>5.000000</td>\n",
       "      <td>5.507500e+04</td>\n",
       "      <td>2.000000</td>\n",
       "      <td>4.000000</td>\n",
       "      <td>3.000000</td>\n",
       "      <td>4.000000</td>\n",
       "      <td>5.000000</td>\n",
       "      <td>6.000000</td>\n",
       "      <td>5.000000</td>\n",
       "    </tr>\n",
       "    <tr>\n",
       "      <th>75%</th>\n",
       "      <td>76219.500000</td>\n",
       "      <td>9.000000</td>\n",
       "      <td>9.000000</td>\n",
       "      <td>8.000000</td>\n",
       "      <td>6.000000</td>\n",
       "      <td>6.000000</td>\n",
       "      <td>6.000000</td>\n",
       "      <td>8.000000</td>\n",
       "      <td>6.000000</td>\n",
       "      <td>10.000000</td>\n",
       "      <td>...</td>\n",
       "      <td>7.00000</td>\n",
       "      <td>6.000000</td>\n",
       "      <td>9.300000e+04</td>\n",
       "      <td>4.000000</td>\n",
       "      <td>5.000000</td>\n",
       "      <td>5.000000</td>\n",
       "      <td>5.000000</td>\n",
       "      <td>6.000000</td>\n",
       "      <td>7.000000</td>\n",
       "      <td>7.000000</td>\n",
       "    </tr>\n",
       "    <tr>\n",
       "      <th>max</th>\n",
       "      <td>101592.000000</td>\n",
       "      <td>10.000000</td>\n",
       "      <td>10.000000</td>\n",
       "      <td>10.000000</td>\n",
       "      <td>10.000000</td>\n",
       "      <td>10.000000</td>\n",
       "      <td>10.000000</td>\n",
       "      <td>10.000000</td>\n",
       "      <td>10.000000</td>\n",
       "      <td>10.000000</td>\n",
       "      <td>...</td>\n",
       "      <td>7.00000</td>\n",
       "      <td>7.000000</td>\n",
       "      <td>2.000000e+06</td>\n",
       "      <td>7.000000</td>\n",
       "      <td>7.000000</td>\n",
       "      <td>7.000000</td>\n",
       "      <td>7.000000</td>\n",
       "      <td>7.000000</td>\n",
       "      <td>7.000000</td>\n",
       "      <td>7.000000</td>\n",
       "    </tr>\n",
       "  </tbody>\n",
       "</table>\n",
       "<p>8 rows × 42 columns</p>\n",
       "</div>"
      ],
      "text/plain": [
       "          Respondent    AssessJob1    AssessJob2    AssessJob3    AssessJob4  \\\n",
       "count   98855.000000  66985.000000  66985.000000  66985.000000  66985.000000   \n",
       "mean    50822.971635      6.397089      6.673524      5.906875      4.065791   \n",
       "std     29321.650410      2.788428      2.531202      2.642734      2.541196   \n",
       "min         1.000000      1.000000      1.000000      1.000000      1.000000   \n",
       "25%     25443.500000      4.000000      5.000000      4.000000      2.000000   \n",
       "50%     50823.000000      7.000000      7.000000      6.000000      4.000000   \n",
       "75%     76219.500000      9.000000      9.000000      8.000000      6.000000   \n",
       "max    101592.000000     10.000000     10.000000     10.000000     10.000000   \n",
       "\n",
       "         AssessJob5    AssessJob6    AssessJob7    AssessJob8    AssessJob9  \\\n",
       "count  66985.000000  66985.000000  66985.000000  66985.000000  66985.000000   \n",
       "mean       3.953243      4.407196      5.673181      4.225200      7.640009   \n",
       "std        2.520499      2.502069      2.923998      2.507411      2.407457   \n",
       "min        1.000000      1.000000      1.000000      1.000000      1.000000   \n",
       "25%        2.000000      2.000000      3.000000      2.000000      6.000000   \n",
       "50%        3.000000      4.000000      6.000000      4.000000      8.000000   \n",
       "75%        6.000000      6.000000      8.000000      6.000000     10.000000   \n",
       "max       10.000000     10.000000     10.000000     10.000000     10.000000   \n",
       "\n",
       "            ...        JobEmailPriorities6  JobEmailPriorities7  \\\n",
       "count       ...                46213.00000         46213.000000   \n",
       "mean        ...                    4.97425             4.836388   \n",
       "std         ...                    1.86063             1.659844   \n",
       "min         ...                    1.00000             1.000000   \n",
       "25%         ...                    4.00000             4.000000   \n",
       "50%         ...                    5.00000             5.000000   \n",
       "75%         ...                    7.00000             6.000000   \n",
       "max         ...                    7.00000             7.000000   \n",
       "\n",
       "       ConvertedSalary  AdsPriorities1  AdsPriorities2  AdsPriorities3  \\\n",
       "count     4.770200e+04    60479.000000    60479.000000    60479.000000   \n",
       "mean      9.578086e+04        2.726880        3.805784        3.340945   \n",
       "std       2.023482e+05        1.881078        1.821323        1.673485   \n",
       "min       0.000000e+00        1.000000        1.000000        1.000000   \n",
       "25%       2.384400e+04        1.000000        2.000000        2.000000   \n",
       "50%       5.507500e+04        2.000000        4.000000        3.000000   \n",
       "75%       9.300000e+04        4.000000        5.000000        5.000000   \n",
       "max       2.000000e+06        7.000000        7.000000        7.000000   \n",
       "\n",
       "       AdsPriorities4  AdsPriorities5  AdsPriorities6  AdsPriorities7  \n",
       "count    60479.000000    60479.000000    60479.000000    60479.000000  \n",
       "mean         3.782470        4.383604        5.138809        4.821459  \n",
       "std          1.844864        1.931746        1.853249        1.874895  \n",
       "min          1.000000        1.000000        1.000000        1.000000  \n",
       "25%          2.000000        3.000000        4.000000        3.000000  \n",
       "50%          4.000000        5.000000        6.000000        5.000000  \n",
       "75%          5.000000        6.000000        7.000000        7.000000  \n",
       "max          7.000000        7.000000        7.000000        7.000000  \n",
       "\n",
       "[8 rows x 42 columns]"
      ]
     },
     "execution_count": 3,
     "metadata": {},
     "output_type": "execute_result"
    }
   ],
   "source": [
    "data.describe()"
   ]
  },
  {
   "cell_type": "code",
   "execution_count": 4,
   "metadata": {},
   "outputs": [
    {
     "data": {
      "text/html": [
       "<div>\n",
       "<style scoped>\n",
       "    .dataframe tbody tr th:only-of-type {\n",
       "        vertical-align: middle;\n",
       "    }\n",
       "\n",
       "    .dataframe tbody tr th {\n",
       "        vertical-align: top;\n",
       "    }\n",
       "\n",
       "    .dataframe thead th {\n",
       "        text-align: right;\n",
       "    }\n",
       "</style>\n",
       "<table border=\"1\" class=\"dataframe\">\n",
       "  <thead>\n",
       "    <tr style=\"text-align: right;\">\n",
       "      <th></th>\n",
       "      <th>Respondent</th>\n",
       "      <th>Hobby</th>\n",
       "      <th>OpenSource</th>\n",
       "      <th>Country</th>\n",
       "      <th>Student</th>\n",
       "      <th>Employment</th>\n",
       "      <th>FormalEducation</th>\n",
       "      <th>UndergradMajor</th>\n",
       "      <th>CompanySize</th>\n",
       "      <th>DevType</th>\n",
       "      <th>...</th>\n",
       "      <th>Exercise</th>\n",
       "      <th>Gender</th>\n",
       "      <th>SexualOrientation</th>\n",
       "      <th>EducationParents</th>\n",
       "      <th>RaceEthnicity</th>\n",
       "      <th>Age</th>\n",
       "      <th>Dependents</th>\n",
       "      <th>MilitaryUS</th>\n",
       "      <th>SurveyTooLong</th>\n",
       "      <th>SurveyEasy</th>\n",
       "    </tr>\n",
       "  </thead>\n",
       "  <tbody>\n",
       "    <tr>\n",
       "      <th>0</th>\n",
       "      <td>1</td>\n",
       "      <td>Yes</td>\n",
       "      <td>No</td>\n",
       "      <td>Kenya</td>\n",
       "      <td>No</td>\n",
       "      <td>Employed part-time</td>\n",
       "      <td>Bachelor’s degree (BA, BS, B.Eng., etc.)</td>\n",
       "      <td>Mathematics or statistics</td>\n",
       "      <td>20 to 99 employees</td>\n",
       "      <td>Full-stack developer</td>\n",
       "      <td>...</td>\n",
       "      <td>3 - 4 times per week</td>\n",
       "      <td>Male</td>\n",
       "      <td>Straight or heterosexual</td>\n",
       "      <td>Bachelor’s degree (BA, BS, B.Eng., etc.)</td>\n",
       "      <td>Black or of African descent</td>\n",
       "      <td>25 - 34 years old</td>\n",
       "      <td>Yes</td>\n",
       "      <td>NaN</td>\n",
       "      <td>The survey was an appropriate length</td>\n",
       "      <td>Very easy</td>\n",
       "    </tr>\n",
       "    <tr>\n",
       "      <th>1</th>\n",
       "      <td>3</td>\n",
       "      <td>Yes</td>\n",
       "      <td>Yes</td>\n",
       "      <td>United Kingdom</td>\n",
       "      <td>No</td>\n",
       "      <td>Employed full-time</td>\n",
       "      <td>Bachelor’s degree (BA, BS, B.Eng., etc.)</td>\n",
       "      <td>A natural science (ex. biology, chemistry, phy...</td>\n",
       "      <td>10,000 or more employees</td>\n",
       "      <td>Database administrator;DevOps specialist;Full-...</td>\n",
       "      <td>...</td>\n",
       "      <td>Daily or almost every day</td>\n",
       "      <td>Male</td>\n",
       "      <td>Straight or heterosexual</td>\n",
       "      <td>Bachelor’s degree (BA, BS, B.Eng., etc.)</td>\n",
       "      <td>White or of European descent</td>\n",
       "      <td>35 - 44 years old</td>\n",
       "      <td>Yes</td>\n",
       "      <td>NaN</td>\n",
       "      <td>The survey was an appropriate length</td>\n",
       "      <td>Somewhat easy</td>\n",
       "    </tr>\n",
       "    <tr>\n",
       "      <th>2</th>\n",
       "      <td>4</td>\n",
       "      <td>Yes</td>\n",
       "      <td>Yes</td>\n",
       "      <td>United States</td>\n",
       "      <td>No</td>\n",
       "      <td>Employed full-time</td>\n",
       "      <td>Associate degree</td>\n",
       "      <td>Computer science, computer engineering, or sof...</td>\n",
       "      <td>20 to 99 employees</td>\n",
       "      <td>Engineering manager;Full-stack developer</td>\n",
       "      <td>...</td>\n",
       "      <td>NaN</td>\n",
       "      <td>NaN</td>\n",
       "      <td>NaN</td>\n",
       "      <td>NaN</td>\n",
       "      <td>NaN</td>\n",
       "      <td>NaN</td>\n",
       "      <td>NaN</td>\n",
       "      <td>NaN</td>\n",
       "      <td>NaN</td>\n",
       "      <td>NaN</td>\n",
       "    </tr>\n",
       "    <tr>\n",
       "      <th>3</th>\n",
       "      <td>5</td>\n",
       "      <td>No</td>\n",
       "      <td>No</td>\n",
       "      <td>United States</td>\n",
       "      <td>No</td>\n",
       "      <td>Employed full-time</td>\n",
       "      <td>Bachelor’s degree (BA, BS, B.Eng., etc.)</td>\n",
       "      <td>Computer science, computer engineering, or sof...</td>\n",
       "      <td>100 to 499 employees</td>\n",
       "      <td>Full-stack developer</td>\n",
       "      <td>...</td>\n",
       "      <td>I don't typically exercise</td>\n",
       "      <td>Male</td>\n",
       "      <td>Straight or heterosexual</td>\n",
       "      <td>Some college/university study without earning ...</td>\n",
       "      <td>White or of European descent</td>\n",
       "      <td>35 - 44 years old</td>\n",
       "      <td>No</td>\n",
       "      <td>No</td>\n",
       "      <td>The survey was an appropriate length</td>\n",
       "      <td>Somewhat easy</td>\n",
       "    </tr>\n",
       "    <tr>\n",
       "      <th>4</th>\n",
       "      <td>7</td>\n",
       "      <td>Yes</td>\n",
       "      <td>No</td>\n",
       "      <td>South Africa</td>\n",
       "      <td>Yes, part-time</td>\n",
       "      <td>Employed full-time</td>\n",
       "      <td>Some college/university study without earning ...</td>\n",
       "      <td>Computer science, computer engineering, or sof...</td>\n",
       "      <td>10,000 or more employees</td>\n",
       "      <td>Data or business analyst;Desktop or enterprise...</td>\n",
       "      <td>...</td>\n",
       "      <td>3 - 4 times per week</td>\n",
       "      <td>Male</td>\n",
       "      <td>Straight or heterosexual</td>\n",
       "      <td>Some college/university study without earning ...</td>\n",
       "      <td>White or of European descent</td>\n",
       "      <td>18 - 24 years old</td>\n",
       "      <td>Yes</td>\n",
       "      <td>NaN</td>\n",
       "      <td>The survey was an appropriate length</td>\n",
       "      <td>Somewhat easy</td>\n",
       "    </tr>\n",
       "  </tbody>\n",
       "</table>\n",
       "<p>5 rows × 129 columns</p>\n",
       "</div>"
      ],
      "text/plain": [
       "   Respondent Hobby OpenSource         Country         Student  \\\n",
       "0           1   Yes         No           Kenya              No   \n",
       "1           3   Yes        Yes  United Kingdom              No   \n",
       "2           4   Yes        Yes   United States              No   \n",
       "3           5    No         No   United States              No   \n",
       "4           7   Yes         No    South Africa  Yes, part-time   \n",
       "\n",
       "           Employment                                    FormalEducation  \\\n",
       "0  Employed part-time           Bachelor’s degree (BA, BS, B.Eng., etc.)   \n",
       "1  Employed full-time           Bachelor’s degree (BA, BS, B.Eng., etc.)   \n",
       "2  Employed full-time                                   Associate degree   \n",
       "3  Employed full-time           Bachelor’s degree (BA, BS, B.Eng., etc.)   \n",
       "4  Employed full-time  Some college/university study without earning ...   \n",
       "\n",
       "                                      UndergradMajor  \\\n",
       "0                          Mathematics or statistics   \n",
       "1  A natural science (ex. biology, chemistry, phy...   \n",
       "2  Computer science, computer engineering, or sof...   \n",
       "3  Computer science, computer engineering, or sof...   \n",
       "4  Computer science, computer engineering, or sof...   \n",
       "\n",
       "                CompanySize  \\\n",
       "0        20 to 99 employees   \n",
       "1  10,000 or more employees   \n",
       "2        20 to 99 employees   \n",
       "3      100 to 499 employees   \n",
       "4  10,000 or more employees   \n",
       "\n",
       "                                             DevType      ...        \\\n",
       "0                               Full-stack developer      ...         \n",
       "1  Database administrator;DevOps specialist;Full-...      ...         \n",
       "2           Engineering manager;Full-stack developer      ...         \n",
       "3                               Full-stack developer      ...         \n",
       "4  Data or business analyst;Desktop or enterprise...      ...         \n",
       "\n",
       "                     Exercise Gender         SexualOrientation  \\\n",
       "0        3 - 4 times per week   Male  Straight or heterosexual   \n",
       "1   Daily or almost every day   Male  Straight or heterosexual   \n",
       "2                         NaN    NaN                       NaN   \n",
       "3  I don't typically exercise   Male  Straight or heterosexual   \n",
       "4        3 - 4 times per week   Male  Straight or heterosexual   \n",
       "\n",
       "                                    EducationParents  \\\n",
       "0           Bachelor’s degree (BA, BS, B.Eng., etc.)   \n",
       "1           Bachelor’s degree (BA, BS, B.Eng., etc.)   \n",
       "2                                                NaN   \n",
       "3  Some college/university study without earning ...   \n",
       "4  Some college/university study without earning ...   \n",
       "\n",
       "                  RaceEthnicity                Age Dependents  MilitaryUS  \\\n",
       "0   Black or of African descent  25 - 34 years old        Yes         NaN   \n",
       "1  White or of European descent  35 - 44 years old        Yes         NaN   \n",
       "2                           NaN                NaN        NaN         NaN   \n",
       "3  White or of European descent  35 - 44 years old         No          No   \n",
       "4  White or of European descent  18 - 24 years old        Yes         NaN   \n",
       "\n",
       "                          SurveyTooLong     SurveyEasy  \n",
       "0  The survey was an appropriate length      Very easy  \n",
       "1  The survey was an appropriate length  Somewhat easy  \n",
       "2                                   NaN            NaN  \n",
       "3  The survey was an appropriate length  Somewhat easy  \n",
       "4  The survey was an appropriate length  Somewhat easy  \n",
       "\n",
       "[5 rows x 129 columns]"
      ]
     },
     "execution_count": 4,
     "metadata": {},
     "output_type": "execute_result"
    }
   ],
   "source": [
    "data.head()"
   ]
  },
  {
   "cell_type": "markdown",
   "metadata": {},
   "source": [
    "### Checking % of missing values from data"
   ]
  },
  {
   "cell_type": "code",
   "execution_count": 5,
   "metadata": {},
   "outputs": [
    {
     "data": {
      "text/html": [
       "<div>\n",
       "<style scoped>\n",
       "    .dataframe tbody tr th:only-of-type {\n",
       "        vertical-align: middle;\n",
       "    }\n",
       "\n",
       "    .dataframe tbody tr th {\n",
       "        vertical-align: top;\n",
       "    }\n",
       "\n",
       "    .dataframe thead th {\n",
       "        text-align: right;\n",
       "    }\n",
       "</style>\n",
       "<table border=\"1\" class=\"dataframe\">\n",
       "  <thead>\n",
       "    <tr style=\"text-align: right;\">\n",
       "      <th></th>\n",
       "      <th>Total</th>\n",
       "      <th>Percent</th>\n",
       "    </tr>\n",
       "  </thead>\n",
       "  <tbody>\n",
       "    <tr>\n",
       "      <th>TimeAfterBootcamp</th>\n",
       "      <td>92203</td>\n",
       "      <td>93.270952</td>\n",
       "    </tr>\n",
       "    <tr>\n",
       "      <th>MilitaryUS</th>\n",
       "      <td>83074</td>\n",
       "      <td>84.036215</td>\n",
       "    </tr>\n",
       "    <tr>\n",
       "      <th>HackathonReasons</th>\n",
       "      <td>73164</td>\n",
       "      <td>74.011431</td>\n",
       "    </tr>\n",
       "    <tr>\n",
       "      <th>ErgonomicDevices</th>\n",
       "      <td>64797</td>\n",
       "      <td>65.547519</td>\n",
       "    </tr>\n",
       "    <tr>\n",
       "      <th>AdBlockerReasons</th>\n",
       "      <td>61110</td>\n",
       "      <td>61.817814</td>\n",
       "    </tr>\n",
       "    <tr>\n",
       "      <th>StackOverflowJobsRecommend</th>\n",
       "      <td>60538</td>\n",
       "      <td>61.239189</td>\n",
       "    </tr>\n",
       "    <tr>\n",
       "      <th>JobEmailPriorities1</th>\n",
       "      <td>52642</td>\n",
       "      <td>53.251732</td>\n",
       "    </tr>\n",
       "    <tr>\n",
       "      <th>JobEmailPriorities2</th>\n",
       "      <td>52642</td>\n",
       "      <td>53.251732</td>\n",
       "    </tr>\n",
       "    <tr>\n",
       "      <th>JobEmailPriorities3</th>\n",
       "      <td>52642</td>\n",
       "      <td>53.251732</td>\n",
       "    </tr>\n",
       "    <tr>\n",
       "      <th>JobEmailPriorities4</th>\n",
       "      <td>52642</td>\n",
       "      <td>53.251732</td>\n",
       "    </tr>\n",
       "    <tr>\n",
       "      <th>JobEmailPriorities6</th>\n",
       "      <td>52642</td>\n",
       "      <td>53.251732</td>\n",
       "    </tr>\n",
       "    <tr>\n",
       "      <th>JobEmailPriorities5</th>\n",
       "      <td>52642</td>\n",
       "      <td>53.251732</td>\n",
       "    </tr>\n",
       "    <tr>\n",
       "      <th>JobEmailPriorities7</th>\n",
       "      <td>52642</td>\n",
       "      <td>53.251732</td>\n",
       "    </tr>\n",
       "    <tr>\n",
       "      <th>ConvertedSalary</th>\n",
       "      <td>51153</td>\n",
       "      <td>51.745486</td>\n",
       "    </tr>\n",
       "    <tr>\n",
       "      <th>JobContactPriorities3</th>\n",
       "      <td>50149</td>\n",
       "      <td>50.729857</td>\n",
       "    </tr>\n",
       "    <tr>\n",
       "      <th>JobContactPriorities4</th>\n",
       "      <td>50149</td>\n",
       "      <td>50.729857</td>\n",
       "    </tr>\n",
       "    <tr>\n",
       "      <th>JobContactPriorities2</th>\n",
       "      <td>50149</td>\n",
       "      <td>50.729857</td>\n",
       "    </tr>\n",
       "    <tr>\n",
       "      <th>JobContactPriorities1</th>\n",
       "      <td>50149</td>\n",
       "      <td>50.729857</td>\n",
       "    </tr>\n",
       "    <tr>\n",
       "      <th>JobContactPriorities5</th>\n",
       "      <td>50149</td>\n",
       "      <td>50.729857</td>\n",
       "    </tr>\n",
       "    <tr>\n",
       "      <th>Salary</th>\n",
       "      <td>48277</td>\n",
       "      <td>48.836174</td>\n",
       "    </tr>\n",
       "    <tr>\n",
       "      <th>SalaryType</th>\n",
       "      <td>47785</td>\n",
       "      <td>48.338476</td>\n",
       "    </tr>\n",
       "    <tr>\n",
       "      <th>FrameworkWorkedWith</th>\n",
       "      <td>47235</td>\n",
       "      <td>47.782105</td>\n",
       "    </tr>\n",
       "    <tr>\n",
       "      <th>TimeFullyProductive</th>\n",
       "      <td>46983</td>\n",
       "      <td>47.527186</td>\n",
       "    </tr>\n",
       "    <tr>\n",
       "      <th>AdBlockerDisable</th>\n",
       "      <td>43957</td>\n",
       "      <td>44.466137</td>\n",
       "    </tr>\n",
       "    <tr>\n",
       "      <th>FrameworkDesireNextYear</th>\n",
       "      <td>43637</td>\n",
       "      <td>44.142431</td>\n",
       "    </tr>\n",
       "    <tr>\n",
       "      <th>CommunicationTools</th>\n",
       "      <td>41885</td>\n",
       "      <td>42.370138</td>\n",
       "    </tr>\n",
       "    <tr>\n",
       "      <th>SelfTaughtTypes</th>\n",
       "      <td>41501</td>\n",
       "      <td>41.981690</td>\n",
       "    </tr>\n",
       "    <tr>\n",
       "      <th>RaceEthnicity</th>\n",
       "      <td>41382</td>\n",
       "      <td>41.861312</td>\n",
       "    </tr>\n",
       "    <tr>\n",
       "      <th>DatabaseDesireNextYear</th>\n",
       "      <td>41357</td>\n",
       "      <td>41.836022</td>\n",
       "    </tr>\n",
       "    <tr>\n",
       "      <th>CurrencySymbol</th>\n",
       "      <td>40205</td>\n",
       "      <td>40.670679</td>\n",
       "    </tr>\n",
       "    <tr>\n",
       "      <th>...</th>\n",
       "      <td>...</td>\n",
       "      <td>...</td>\n",
       "    </tr>\n",
       "    <tr>\n",
       "      <th>LanguageDesireNextYear</th>\n",
       "      <td>25611</td>\n",
       "      <td>25.907643</td>\n",
       "    </tr>\n",
       "    <tr>\n",
       "      <th>VersionControl</th>\n",
       "      <td>24557</td>\n",
       "      <td>24.841434</td>\n",
       "    </tr>\n",
       "    <tr>\n",
       "      <th>AdsAgreeDisagree2</th>\n",
       "      <td>24442</td>\n",
       "      <td>24.725102</td>\n",
       "    </tr>\n",
       "    <tr>\n",
       "      <th>AdsAgreeDisagree3</th>\n",
       "      <td>24441</td>\n",
       "      <td>24.724091</td>\n",
       "    </tr>\n",
       "    <tr>\n",
       "      <th>AdsAgreeDisagree1</th>\n",
       "      <td>24370</td>\n",
       "      <td>24.652268</td>\n",
       "    </tr>\n",
       "    <tr>\n",
       "      <th>StackOverflowJobs</th>\n",
       "      <td>23558</td>\n",
       "      <td>23.830863</td>\n",
       "    </tr>\n",
       "    <tr>\n",
       "      <th>IDE</th>\n",
       "      <td>23457</td>\n",
       "      <td>23.728694</td>\n",
       "    </tr>\n",
       "    <tr>\n",
       "      <th>HopeFiveYears</th>\n",
       "      <td>23137</td>\n",
       "      <td>23.404987</td>\n",
       "    </tr>\n",
       "    <tr>\n",
       "      <th>StackOverflowConsiderMember</th>\n",
       "      <td>22848</td>\n",
       "      <td>23.112640</td>\n",
       "    </tr>\n",
       "    <tr>\n",
       "      <th>AdBlocker</th>\n",
       "      <td>22800</td>\n",
       "      <td>23.064084</td>\n",
       "    </tr>\n",
       "    <tr>\n",
       "      <th>OperatingSystem</th>\n",
       "      <td>22676</td>\n",
       "      <td>22.938648</td>\n",
       "    </tr>\n",
       "    <tr>\n",
       "      <th>NumberMonitors</th>\n",
       "      <td>22457</td>\n",
       "      <td>22.717111</td>\n",
       "    </tr>\n",
       "    <tr>\n",
       "      <th>StackOverflowRecommend</th>\n",
       "      <td>22366</td>\n",
       "      <td>22.625057</td>\n",
       "    </tr>\n",
       "    <tr>\n",
       "      <th>CareerSatisfaction</th>\n",
       "      <td>22351</td>\n",
       "      <td>22.609883</td>\n",
       "    </tr>\n",
       "    <tr>\n",
       "      <th>StackOverflowHasAccount</th>\n",
       "      <td>22064</td>\n",
       "      <td>22.319559</td>\n",
       "    </tr>\n",
       "    <tr>\n",
       "      <th>StackOverflowVisit</th>\n",
       "      <td>22044</td>\n",
       "      <td>22.299327</td>\n",
       "    </tr>\n",
       "    <tr>\n",
       "      <th>YearsCodingProf</th>\n",
       "      <td>20952</td>\n",
       "      <td>21.194679</td>\n",
       "    </tr>\n",
       "    <tr>\n",
       "      <th>LanguageWorkedWith</th>\n",
       "      <td>20521</td>\n",
       "      <td>20.758687</td>\n",
       "    </tr>\n",
       "    <tr>\n",
       "      <th>LastNewJob</th>\n",
       "      <td>19966</td>\n",
       "      <td>20.197259</td>\n",
       "    </tr>\n",
       "    <tr>\n",
       "      <th>UndergradMajor</th>\n",
       "      <td>19819</td>\n",
       "      <td>20.048556</td>\n",
       "    </tr>\n",
       "    <tr>\n",
       "      <th>JobSearchStatus</th>\n",
       "      <td>19367</td>\n",
       "      <td>19.591321</td>\n",
       "    </tr>\n",
       "    <tr>\n",
       "      <th>DevType</th>\n",
       "      <td>6757</td>\n",
       "      <td>6.835264</td>\n",
       "    </tr>\n",
       "    <tr>\n",
       "      <th>YearsCoding</th>\n",
       "      <td>5020</td>\n",
       "      <td>5.078145</td>\n",
       "    </tr>\n",
       "    <tr>\n",
       "      <th>FormalEducation</th>\n",
       "      <td>4152</td>\n",
       "      <td>4.200091</td>\n",
       "    </tr>\n",
       "    <tr>\n",
       "      <th>Student</th>\n",
       "      <td>3954</td>\n",
       "      <td>3.999798</td>\n",
       "    </tr>\n",
       "    <tr>\n",
       "      <th>Employment</th>\n",
       "      <td>3534</td>\n",
       "      <td>3.574933</td>\n",
       "    </tr>\n",
       "    <tr>\n",
       "      <th>Country</th>\n",
       "      <td>412</td>\n",
       "      <td>0.416772</td>\n",
       "    </tr>\n",
       "    <tr>\n",
       "      <th>OpenSource</th>\n",
       "      <td>0</td>\n",
       "      <td>0.000000</td>\n",
       "    </tr>\n",
       "    <tr>\n",
       "      <th>Hobby</th>\n",
       "      <td>0</td>\n",
       "      <td>0.000000</td>\n",
       "    </tr>\n",
       "    <tr>\n",
       "      <th>Respondent</th>\n",
       "      <td>0</td>\n",
       "      <td>0.000000</td>\n",
       "    </tr>\n",
       "  </tbody>\n",
       "</table>\n",
       "<p>129 rows × 2 columns</p>\n",
       "</div>"
      ],
      "text/plain": [
       "                             Total    Percent\n",
       "TimeAfterBootcamp            92203  93.270952\n",
       "MilitaryUS                   83074  84.036215\n",
       "HackathonReasons             73164  74.011431\n",
       "ErgonomicDevices             64797  65.547519\n",
       "AdBlockerReasons             61110  61.817814\n",
       "StackOverflowJobsRecommend   60538  61.239189\n",
       "JobEmailPriorities1          52642  53.251732\n",
       "JobEmailPriorities2          52642  53.251732\n",
       "JobEmailPriorities3          52642  53.251732\n",
       "JobEmailPriorities4          52642  53.251732\n",
       "JobEmailPriorities6          52642  53.251732\n",
       "JobEmailPriorities5          52642  53.251732\n",
       "JobEmailPriorities7          52642  53.251732\n",
       "ConvertedSalary              51153  51.745486\n",
       "JobContactPriorities3        50149  50.729857\n",
       "JobContactPriorities4        50149  50.729857\n",
       "JobContactPriorities2        50149  50.729857\n",
       "JobContactPriorities1        50149  50.729857\n",
       "JobContactPriorities5        50149  50.729857\n",
       "Salary                       48277  48.836174\n",
       "SalaryType                   47785  48.338476\n",
       "FrameworkWorkedWith          47235  47.782105\n",
       "TimeFullyProductive          46983  47.527186\n",
       "AdBlockerDisable             43957  44.466137\n",
       "FrameworkDesireNextYear      43637  44.142431\n",
       "CommunicationTools           41885  42.370138\n",
       "SelfTaughtTypes              41501  41.981690\n",
       "RaceEthnicity                41382  41.861312\n",
       "DatabaseDesireNextYear       41357  41.836022\n",
       "CurrencySymbol               40205  40.670679\n",
       "...                            ...        ...\n",
       "LanguageDesireNextYear       25611  25.907643\n",
       "VersionControl               24557  24.841434\n",
       "AdsAgreeDisagree2            24442  24.725102\n",
       "AdsAgreeDisagree3            24441  24.724091\n",
       "AdsAgreeDisagree1            24370  24.652268\n",
       "StackOverflowJobs            23558  23.830863\n",
       "IDE                          23457  23.728694\n",
       "HopeFiveYears                23137  23.404987\n",
       "StackOverflowConsiderMember  22848  23.112640\n",
       "AdBlocker                    22800  23.064084\n",
       "OperatingSystem              22676  22.938648\n",
       "NumberMonitors               22457  22.717111\n",
       "StackOverflowRecommend       22366  22.625057\n",
       "CareerSatisfaction           22351  22.609883\n",
       "StackOverflowHasAccount      22064  22.319559\n",
       "StackOverflowVisit           22044  22.299327\n",
       "YearsCodingProf              20952  21.194679\n",
       "LanguageWorkedWith           20521  20.758687\n",
       "LastNewJob                   19966  20.197259\n",
       "UndergradMajor               19819  20.048556\n",
       "JobSearchStatus              19367  19.591321\n",
       "DevType                       6757   6.835264\n",
       "YearsCoding                   5020   5.078145\n",
       "FormalEducation               4152   4.200091\n",
       "Student                       3954   3.999798\n",
       "Employment                    3534   3.574933\n",
       "Country                        412   0.416772\n",
       "OpenSource                       0   0.000000\n",
       "Hobby                            0   0.000000\n",
       "Respondent                       0   0.000000\n",
       "\n",
       "[129 rows x 2 columns]"
      ]
     },
     "execution_count": 5,
     "metadata": {},
     "output_type": "execute_result"
    }
   ],
   "source": [
    "total = data.isnull().sum().sort_values(ascending = False)\n",
    "percent = (data.isnull().sum()/data.isnull().count()*100).sort_values(ascending = False)\n",
    "missing_data  = pd.concat([total, percent], axis=1, keys=['Total', 'Percent'])\n",
    "missing_data"
   ]
  },
  {
   "cell_type": "markdown",
   "metadata": {},
   "source": [
    "As we can see above, there are lot of missing values in some columns. Here we are displaying the percentage of missing values in each column of out dataset. We will try to remove missing values from the columns that we will be using and ignore rest of the columns. \n"
   ]
  },
  {
   "cell_type": "markdown",
   "metadata": {},
   "source": [
    "### Cleaning Missing Values "
   ]
  },
  {
   "cell_type": "code",
   "execution_count": 6,
   "metadata": {},
   "outputs": [],
   "source": [
    "# cleaning data and handling missing values\n",
    "data['Student'] = data['Student'].fillna('Unknown')\n",
    "data[\"Country\"] = data[\"Country\"].fillna('Unknown')\n",
    "data[\"DevType\"] = data[\"DevType\"].fillna('Not mentioned')\n",
    "\n",
    "data[\"Employment\"][data[\"Employment\"] == \"Employed full-time\"] = \"FullTime\"\n",
    "data[\"Employment\"][data[\"Employment\"] == \"Independent contractor, freelancer, or self-employed\"] = \"SelfEmployed\"\n",
    "data[\"Employment\"][data[\"Employment\"] == \"Not employed, but looking for work\"] = \"SearchingJob\"\n",
    "data[\"Employment\"][data[\"Employment\"] == \"Employed part-time\"] = \"PartTime\"\n",
    "data[\"Employment\"][data[\"Employment\"] == \"Not employed, and not looking for work\"] = \"Unemployed\"\n",
    "data[\"Employment\"] = data[\"Employment\"].fillna(\"Unknown\")\n",
    "\n",
    "data[\"FormalEducation\"][data[\"FormalEducation\"] == \"Bachelor’s degree (BA, BS, B.Eng., etc.)\"] = \"Bachelor's\"\n",
    "data[\"FormalEducation\"][data[\"FormalEducation\"] == \"Master’s degree (MA, MS, M.Eng., MBA, etc.)\"] = \"Master's\"\n",
    "data[\"FormalEducation\"][data[\"FormalEducation\"] == \"Some college/university study without earning a degree\"] = \"PursuingEducation\"\n",
    "data[\"FormalEducation\"][data[\"FormalEducation\"] == \"Secondary school (e.g. American high school, German Realschule or Gymnasium, etc.)\"] = \"SecondarySchool\"\n",
    "data[\"FormalEducation\"][data[\"FormalEducation\"] == \"Other doctoral degree (Ph.D, Ed.D., etc.)\"] = \"Doctoral Degree\"\n",
    "data[\"FormalEducation\"][data[\"FormalEducation\"] == \"Primary/elementary school\"] = \"Elementary School\"\n",
    "data[\"FormalEducation\"][data[\"FormalEducation\"] == \"Professional degree (JD, MD, etc.)\"] = \"Professional Degree\"\n",
    "data[\"FormalEducation\"][data[\"FormalEducation\"] == \"I never completed any formal education\"] = \"No formal education\"\n",
    "data[\"FormalEducation\"] = data[\"FormalEducation\"].fillna(\"Unknown\")"
   ]
  },
  {
   "cell_type": "markdown",
   "metadata": {},
   "source": [
    "Here we are substituting the Unknows values with a text to identify that the values are unknown. Similarly we are substituting the other values with a Known values. "
   ]
  },
  {
   "cell_type": "markdown",
   "metadata": {},
   "source": [
    "## Visualizing hobbies and its relationship with open source contributions and education status"
   ]
  },
  {
   "cell_type": "code",
   "execution_count": 7,
   "metadata": {},
   "outputs": [
    {
     "data": {
      "image/png": "[encoded data removed]",
      "text/plain": [
       "<Figure size 1080x720 with 3 Axes>"
      ]
     },
     "metadata": {},
     "output_type": "display_data"
    }
   ],
   "source": [
    "gs = gridspec.GridSpec(2, 2)\n",
    "\n",
    "fig = plt.figure(figsize=(15,10))\n",
    "\n",
    "ax1 = fig.add_subplot(gs[0, :])\n",
    "sns.factorplot(\"Hobby\",data=data,kind=\"count\",ax=ax1,hue=\"Student\",palette=sns.color_palette(\"Paired\", 10))\n",
    "\n",
    "ax2 = fig.add_subplot(gs[1, 1])\n",
    "sns.factorplot(\"Hobby\",data=data,kind=\"count\",ax=ax2,hue=\"OpenSource\",palette=sns.color_palette(\"colorblind\", 10))\n",
    "\n",
    "ax3 = fig.add_subplot(gs[1, 0])\n",
    "sns.factorplot(\"Hobby\",data=data,kind=\"count\",ax=ax3,palette=sns.color_palette(\"PuOr\", 10))\n",
    "\n",
    "\n",
    "plt.close(2)\n",
    "plt.close(3)\n",
    "plt.close(4)"
   ]
  },
  {
   "cell_type": "markdown",
   "metadata": {},
   "source": [
    "Here we can see that 90% of developers code as their hobby "
   ]
  },
  {
   "cell_type": "markdown",
   "metadata": {},
   "source": [
    "### Visualizing open source contributions and its relationship with hobbies and education status"
   ]
  },
  {
   "cell_type": "code",
   "execution_count": 8,
   "metadata": {},
   "outputs": [
    {
     "data": {
      "image/png": "[encoded data removed]",
      "text/plain": [
       "<Figure size 1080x720 with 3 Axes>"
      ]
     },
     "metadata": {},
     "output_type": "display_data"
    }
   ],
   "source": [
    "gs = gridspec.GridSpec(2, 2)\n",
    "\n",
    "fig = plt.figure(figsize=(15,10))\n",
    "\n",
    "ax1 = fig.add_subplot(gs[0, :])\n",
    "sns.factorplot(\"OpenSource\",data=data,kind=\"count\",ax=ax1,hue=\"Student\",palette=sns.color_palette(\"Paired\", 10))\n",
    "\n",
    "ax2 = fig.add_subplot(gs[1, 1])\n",
    "sns.factorplot(\"OpenSource\",data=data,kind=\"count\",ax=ax2,hue=\"Hobby\",palette=sns.color_palette(\"muted\", 10))\n",
    "\n",
    "ax3 = fig.add_subplot(gs[1, 0])\n",
    "sns.factorplot(\"OpenSource\",data=data,kind=\"count\",ax=ax3,palette=sns.color_palette(\"Spectral\", 10))\n",
    "\n",
    "plt.close(2)\n",
    "plt.close(3)\n",
    "plt.close(4)"
   ]
  },
  {
   "cell_type": "markdown",
   "metadata": {},
   "source": [
    "Here we can see that majority of opensource contributions are done as hobby and majority of it is done bu working professionals"
   ]
  },
  {
   "cell_type": "markdown",
   "metadata": {},
   "source": [
    "### TreeMap of Developers and Top-Country "
   ]
  },
  {
   "cell_type": "code",
   "execution_count": 9,
   "metadata": {},
   "outputs": [
    {
     "data": {
      "application/vnd.plotly.v1+json": {
       "data": [
        {
         "mode": "text",
         "text": [
          "20309",
          "15981",
          "13721",
          "6459",
          "6221",
          "3393",
          "2869",
          "2572",
          "2505",
          "2122",
          "2018",
          "1841",
          "1769",
          "1535",
          "1279",
          "1164",
          "1050",
          "1037",
          "1010",
          "1004",
          "1003",
          "921",
          "793",
          "788",
          "784",
          "743",
          "736",
          "697",
          "653",
          "637",
          "630",
          "611"
         ],
         "type": "scatter",
         "x": [
          9.177583329118406,
          9.177583329118406,
          29.11331230447895,
          44.93572897536055,
          26.240390891959024,
          38.426300839395985,
          46.36349327655537,
          22.164462946567912,
          22.164462946567912,
          22.164462946567912,
          28.951772779936856,
          28.951772779936856,
          28.951772779936856,
          35.41618375976151,
          41.80753384542279,
          47.35624324814864,
          34.24309092858072,
          38.84105922165287,
          43.35090162506384,
          47.78804016950434,
          34.65859749410785,
          34.65859749410785,
          34.65859749410785,
          39.71247228361026,
          39.71247228361026,
          39.71247228361026,
          44.082327800235994,
          48.063559848246236,
          44.05284173913508,
          48.034073787145324,
          44.0586287244843,
          48.03986077249455
         ],
         "y": [
          13.99076880683384,
          38.99076880683384,
          8.063613841604731,
          8.063613841604731,
          21.115240150243746,
          21.115240150243746,
          21.115240150243746,
          30.37207011056605,
          38.798503397278054,
          46.47805959535102,
          30.387513119972855,
          38.58025904658302,
          46.24437223524919,
          28.88689130215264,
          28.88689130215264,
          28.88689130215264,
          34.54023894798019,
          34.54023894798019,
          34.54023894798019,
          34.54023894798019,
          39.7338018374094,
          44.19152363041873,
          48.16269574747589,
          39.55270407475617,
          43.82733947155037,
          47.97960935126076,
          39.68562205707879,
          39.68562205707879,
          44.00987935324114,
          44.00987935324114,
          48.02923125062891,
          48.029231250628904
         ]
        }
       ],
       "layout": {
        "annotations": [
         {
          "showarrow": false,
          "text": "United States",
          "x": 9.177583329118406,
          "y": 13.99076880683384
         },
         {
          "showarrow": false,
          "text": "Others",
          "x": 9.177583329118406,
          "y": 38.99076880683384
         },
         {
          "showarrow": false,
          "text": "India",
          "x": 29.11331230447895,
          "y": 8.063613841604731
         },
         {
          "showarrow": false,
          "text": "Germany",
          "x": 44.93572897536055,
          "y": 8.063613841604731
         },
         {
          "showarrow": false,
          "text": "United Kingdom",
          "x": 26.240390891959024,
          "y": 21.115240150243746
         },
         {
          "showarrow": false,
          "text": "Canada",
          "x": 38.426300839395985,
          "y": 21.115240150243746
         },
         {
          "showarrow": false,
          "text": "Russian Federation",
          "x": 46.36349327655537,
          "y": 21.115240150243746
         },
         {
          "showarrow": false,
          "text": "France",
          "x": 22.164462946567912,
          "y": 30.37207011056605
         },
         {
          "showarrow": false,
          "text": "Brazil",
          "x": 22.164462946567912,
          "y": 38.798503397278054
         },
         {
          "showarrow": false,
          "text": "Poland",
          "x": 22.164462946567912,
          "y": 46.47805959535102
         },
         {
          "showarrow": false,
          "text": "Australia",
          "x": 28.951772779936856,
          "y": 30.387513119972855
         },
         {
          "showarrow": false,
          "text": "Netherlands",
          "x": 28.951772779936856,
          "y": 38.58025904658302
         },
         {
          "showarrow": false,
          "text": "Spain",
          "x": 28.951772779936856,
          "y": 46.24437223524919
         },
         {
          "showarrow": false,
          "text": "Italy",
          "x": 35.41618375976151,
          "y": 28.88689130215264
         },
         {
          "showarrow": false,
          "text": "Ukraine",
          "x": 41.80753384542279,
          "y": 28.88689130215264
         },
         {
          "showarrow": false,
          "text": "Sweden",
          "x": 47.35624324814864,
          "y": 28.88689130215264
         },
         {
          "showarrow": false,
          "text": "Pakistan",
          "x": 34.24309092858072,
          "y": 34.54023894798019
         },
         {
          "showarrow": false,
          "text": "China",
          "x": 38.84105922165287,
          "y": 34.54023894798019
         },
         {
          "showarrow": false,
          "text": "Switzerland",
          "x": 43.35090162506384,
          "y": 34.54023894798019
         },
         {
          "showarrow": false,
          "text": "Turkey",
          "x": 47.78804016950434,
          "y": 34.54023894798019
         },
         {
          "showarrow": false,
          "text": "Israel",
          "x": 34.65859749410785,
          "y": 39.7338018374094
         },
         {
          "showarrow": false,
          "text": "Iran, Islamic Republic of...",
          "x": 34.65859749410785,
          "y": 44.19152363041873
         },
         {
          "showarrow": false,
          "text": "Romania",
          "x": 34.65859749410785,
          "y": 48.16269574747589
         },
         {
          "showarrow": false,
          "text": "Austria",
          "x": 39.71247228361026,
          "y": 39.55270407475617
         },
         {
          "showarrow": false,
          "text": "Czech Republic",
          "x": 39.71247228361026,
          "y": 43.82733947155037
         },
         {
          "showarrow": false,
          "text": "Belgium",
          "x": 39.71247228361026,
          "y": 47.97960935126076
         },
         {
          "showarrow": false,
          "text": "Mexico",
          "x": 44.082327800235994,
          "y": 39.68562205707879
         },
         {
          "showarrow": false,
          "text": "Bangladesh",
          "x": 48.063559848246236,
          "y": 39.68562205707879
         },
         {
          "showarrow": false,
          "text": "Denmark",
          "x": 44.05284173913508,
          "y": 44.00987935324114
         },
         {
          "showarrow": false,
          "text": "South Africa",
          "x": 48.034073787145324,
          "y": 44.00987935324114
         },
         {
          "showarrow": false,
          "text": "Indonesia",
          "x": 44.0586287244843,
          "y": 48.02923125062891
         },
         {
          "showarrow": false,
          "text": "Argentina",
          "x": 48.03986077249455,
          "y": 48.029231250628904
         }
        ],
        "font": {
         "color": "#FFFFFF"
        },
        "height": 1000,
        "hovermode": "closest",
        "margin": {
         "l": 0,
         "pad": 0,
         "r": 0
        },
        "shapes": [
         {
          "fillcolor": "#41B5A3",
          "line": {
           "width": 1
          },
          "type": "rect",
          "x0": 0,
          "x1": 18.35516665823681,
          "y0": 0,
          "y1": 27.98153761366768
         },
         {
          "fillcolor": "#FFAF87",
          "line": {
           "width": 1
          },
          "type": "rect",
          "x0": 0,
          "x1": 18.35516665823681,
          "y0": 27.98153761366768,
          "y1": 50
         },
         {
          "fillcolor": "#FF8E72",
          "line": {
           "width": 1
          },
          "type": "rect",
          "x0": 18.35516665823681,
          "x1": 39.87145795072109,
          "y0": 0,
          "y1": 16.127227683209462
         },
         {
          "fillcolor": "#ED6A5E",
          "line": {
           "width": 1
          },
          "type": "rect",
          "x0": 39.87145795072109,
          "x1": 50,
          "y0": 0,
          "y1": 16.127227683209462
         },
         {
          "fillcolor": "#377771",
          "line": {
           "width": 1
          },
          "type": "rect",
          "x0": 18.35516665823681,
          "x1": 34.125615125681236,
          "y0": 16.127227683209462,
          "y1": 26.10325261727803
         },
         {
          "fillcolor": "#E89005",
          "line": {
           "width": 1
          },
          "type": "rect",
          "x0": 34.125615125681236,
          "x1": 42.72698655311074,
          "y0": 16.127227683209462,
          "y1": 26.10325261727803
         },
         {
          "fillcolor": "#C6000D",
          "line": {
           "width": 1
          },
          "type": "rect",
          "x0": 42.72698655311074,
          "x1": 50,
          "y0": 16.127227683209462,
          "y1": 26.10325261727803
         },
         {
          "fillcolor": "#000000",
          "line": {
           "width": 1
          },
          "type": "rect",
          "x0": 18.35516665823681,
          "x1": 25.973759234899013,
          "y0": 26.10325261727803,
          "y1": 34.64088760385407
         },
         {
          "fillcolor": "#05668D",
          "line": {
           "width": 1
          },
          "type": "rect",
          "x0": 18.35516665823681,
          "x1": 25.973759234899013,
          "y0": 34.64088760385407,
          "y1": 42.95611919070204
         },
         {
          "fillcolor": "#028090",
          "line": {
           "width": 1
          },
          "type": "rect",
          "x0": 18.35516665823681,
          "x1": 25.973759234899013,
          "y0": 42.95611919070204,
          "y1": 50
         },
         {
          "fillcolor": "#9FD35C",
          "line": {
           "width": 1
          },
          "type": "rect",
          "x0": 25.973759234899013,
          "x1": 31.9297863249747,
          "y0": 26.10325261727803,
          "y1": 34.67177362266768
         },
         {
          "fillcolor": "#02C39A",
          "line": {
           "width": 1
          },
          "type": "rect",
          "x0": 25.973759234899013,
          "x1": 31.9297863249747,
          "y0": 34.67177362266768,
          "y1": 42.488744470498375
         },
         {
          "fillcolor": "#F0F3BD",
          "line": {
           "width": 1
          },
          "type": "rect",
          "x0": 25.973759234899013,
          "x1": 31.9297863249747,
          "y0": 42.488744470498375,
          "y1": 50
         },
         {
          "fillcolor": "#41B5A3",
          "line": {
           "width": 1
          },
          "type": "rect",
          "x0": 31.9297863249747,
          "x1": 38.90258119454831,
          "y0": 26.10325261727803,
          "y1": 31.670529987027255
         },
         {
          "fillcolor": "#FF6F59",
          "line": {
           "width": 1
          },
          "type": "rect",
          "x0": 38.90258119454831,
          "x1": 44.712486496297274,
          "y0": 26.10325261727803,
          "y1": 31.670529987027255
         },
         {
          "fillcolor": "#254441",
          "line": {
           "width": 1
          },
          "type": "rect",
          "x0": 44.712486496297274,
          "x1": 50,
          "y0": 26.10325261727803,
          "y1": 31.670529987027255
         },
         {
          "fillcolor": "#B2B09B",
          "line": {
           "width": 1
          },
          "type": "rect",
          "x0": 31.9297863249747,
          "x1": 36.556395532186734,
          "y0": 31.670529987027255,
          "y1": 37.40994790893313
         },
         {
          "fillcolor": "#EF3054",
          "line": {
           "width": 1
          },
          "type": "rect",
          "x0": 36.556395532186734,
          "x1": 41.125722911119006,
          "y0": 31.670529987027255,
          "y1": 37.40994790893313
         },
         {
          "fillcolor": "#9D9CE8",
          "line": {
           "width": 1
          },
          "type": "rect",
          "x0": 41.125722911119006,
          "x1": 45.57608033900868,
          "y0": 31.670529987027255,
          "y1": 37.40994790893313
         },
         {
          "fillcolor": "#0F4777",
          "line": {
           "width": 1
          },
          "type": "rect",
          "x0": 45.57608033900868,
          "x1": 50,
          "y0": 31.670529987027255,
          "y1": 37.40994790893313
         },
         {
          "fillcolor": "#5F67DD",
          "line": {
           "width": 1
          },
          "type": "rect",
          "x0": 31.9297863249747,
          "x1": 37.38740866324101,
          "y0": 37.40994790893313,
          "y1": 42.05765576588568
         },
         {
          "fillcolor": "#235077",
          "line": {
           "width": 1
          },
          "type": "rect",
          "x0": 31.9297863249747,
          "x1": 37.38740866324101,
          "y0": 42.05765576588568,
          "y1": 46.32539149495177
         },
         {
          "fillcolor": "#CCE4F9",
          "line": {
           "width": 1
          },
          "type": "rect",
          "x0": 31.9297863249747,
          "x1": 37.38740866324101,
          "y0": 46.32539149495177,
          "y1": 50
         },
         {
          "fillcolor": "#1748D1",
          "line": {
           "width": 1
          },
          "type": "rect",
          "x0": 37.38740866324101,
          "x1": 42.03753590397951,
          "y0": 37.40994790893313,
          "y1": 41.695460240579216
         },
         {
          "fillcolor": "#8BB3D6",
          "line": {
           "width": 1
          },
          "type": "rect",
          "x0": 37.38740866324101,
          "x1": 42.03753590397951,
          "y0": 41.695460240579216,
          "y1": 45.95921870252152
         },
         {
          "fillcolor": "#467196",
          "line": {
           "width": 1
          },
          "type": "rect",
          "x0": 37.38740866324101,
          "x1": 42.03753590397951,
          "y0": 45.95921870252152,
          "y1": 50
         },
         {
          "fillcolor": "#F2C4A2",
          "line": {
           "width": 1
          },
          "type": "rect",
          "x0": 42.03753590397951,
          "x1": 46.12711969649247,
          "y0": 37.40994790893313,
          "y1": 41.96129620522446
         },
         {
          "fillcolor": "#F2B1A4",
          "line": {
           "width": 1
          },
          "type": "rect",
          "x0": 46.12711969649247,
          "x1": 49.99999999999999,
          "y0": 37.40994790893313,
          "y1": 41.96129620522446
         },
         {
          "fillcolor": "#C42746",
          "line": {
           "width": 1
          },
          "type": "rect",
          "x0": 42.03753590397951,
          "x1": 46.068147574290656,
          "y0": 41.96129620522446,
          "y1": 46.05846250125782
         },
         {
          "fillcolor": "#330C25",
          "line": {
           "width": 1
          },
          "type": "rect",
          "x0": 46.068147574290656,
          "x1": 50,
          "y0": 41.96129620522446,
          "y1": 46.05846250125782
         },
         {
          "fillcolor": "#41B5A3",
          "line": {
           "width": 1
          },
          "type": "rect",
          "x0": 42.03753590397951,
          "x1": 46.0797215449891,
          "y0": 46.05846250125782,
          "y1": 50
         },
         {
          "fillcolor": "#FFAF87",
          "line": {
           "width": 1
          },
          "type": "rect",
          "x0": 46.0797215449891,
          "x1": 50,
          "y0": 46.05846250125782,
          "y1": 49.999999999999986
         }
        ],
        "width": 850,
        "xaxis": {
         "showgrid": false,
         "zeroline": false
        },
        "yaxis": {
         "showgrid": false,
         "zeroline": false
        }
       }
      },
      "text/html": [
       "<div id=\"eef2f792-0049-4241-8f23-e9c4c74cd1cd\" style=\"height: 1000px; width: 850px;\" class=\"plotly-graph-div\"></div><script type=\"text/javascript\">require([\"plotly\"], function(Plotly) { window.PLOTLYENV=window.PLOTLYENV || {};window.PLOTLYENV.BASE_URL=\"https://plot.ly\";Plotly.newPlot(\"eef2f792-0049-4241-8f23-e9c4c74cd1cd\", [{\"y\": [13.99076880683384, 38.99076880683384, 8.063613841604731, 8.063613841604731, 21.115240150243746, 21.115240150243746, 21.115240150243746, 30.37207011056605, 38.798503397278054, 46.47805959535102, 30.387513119972855, 38.58025904658302, 46.24437223524919, 28.88689130215264, 28.88689130215264, 28.88689130215264, 34.54023894798019, 34.54023894798019, 34.54023894798019, 34.54023894798019, 39.7338018374094, 44.19152363041873, 48.16269574747589, 39.55270407475617, 43.82733947155037, 47.97960935126076, 39.68562205707879, 39.68562205707879, 44.00987935324114, 44.00987935324114, 48.02923125062891, 48.029231250628904], \"text\": [\"20309\", \"15981\", \"13721\", \"6459\", \"6221\", \"3393\", \"2869\", \"2572\", \"2505\", \"2122\", \"2018\", \"1841\", \"1769\", \"1535\", \"1279\", \"1164\", \"1050\", \"1037\", \"1010\", \"1004\", \"1003\", \"921\", \"793\", \"788\", \"784\", \"743\", \"736\", \"697\", \"653\", \"637\", \"630\", \"611\"], \"type\": \"scatter\", \"mode\": \"text\", \"x\": [9.177583329118406, 9.177583329118406, 29.11331230447895, 44.93572897536055, 26.240390891959024, 38.426300839395985, 46.36349327655537, 22.164462946567912, 22.164462946567912, 22.164462946567912, 28.951772779936856, 28.951772779936856, 28.951772779936856, 35.41618375976151, 41.80753384542279, 47.35624324814864, 34.24309092858072, 38.84105922165287, 43.35090162506384, 47.78804016950434, 34.65859749410785, 34.65859749410785, 34.65859749410785, 39.71247228361026, 39.71247228361026, 39.71247228361026, 44.082327800235994, 48.063559848246236, 44.05284173913508, 48.034073787145324, 44.0586287244843, 48.03986077249455]}], {\"yaxis\": {\"zeroline\": false, \"showgrid\": false}, \"height\": 1000, \"shapes\": [{\"fillcolor\": \"#41B5A3\", \"y1\": 27.98153761366768, \"y0\": 0.0, \"line\": {\"width\": 1}, \"x1\": 18.35516665823681, \"type\": \"rect\", \"x0\": 0.0}, {\"fillcolor\": \"#FFAF87\", \"y1\": 50.0, \"y0\": 27.98153761366768, \"line\": {\"width\": 1}, \"x1\": 18.35516665823681, \"type\": \"rect\", \"x0\": 0.0}, {\"fillcolor\": \"#FF8E72\", \"y1\": 16.127227683209462, \"y0\": 0.0, \"line\": {\"width\": 1}, \"x1\": 39.87145795072109, \"type\": \"rect\", \"x0\": 18.35516665823681}, {\"fillcolor\": \"#ED6A5E\", \"y1\": 16.127227683209462, \"y0\": 0.0, \"line\": {\"width\": 1}, \"x1\": 50.0, \"type\": \"rect\", \"x0\": 39.87145795072109}, {\"fillcolor\": \"#377771\", \"y1\": 26.10325261727803, \"y0\": 16.127227683209462, \"line\": {\"width\": 1}, \"x1\": 34.125615125681236, \"type\": \"rect\", \"x0\": 18.35516665823681}, {\"fillcolor\": \"#E89005\", \"y1\": 26.10325261727803, \"y0\": 16.127227683209462, \"line\": {\"width\": 1}, \"x1\": 42.72698655311074, \"type\": \"rect\", \"x0\": 34.125615125681236}, {\"fillcolor\": \"#C6000D\", \"y1\": 26.10325261727803, \"y0\": 16.127227683209462, \"line\": {\"width\": 1}, \"x1\": 50.0, \"type\": \"rect\", \"x0\": 42.72698655311074}, {\"fillcolor\": \"#000000\", \"y1\": 34.64088760385407, \"y0\": 26.10325261727803, \"line\": {\"width\": 1}, \"x1\": 25.973759234899013, \"type\": \"rect\", \"x0\": 18.35516665823681}, {\"fillcolor\": \"#05668D\", \"y1\": 42.95611919070204, \"y0\": 34.64088760385407, \"line\": {\"width\": 1}, \"x1\": 25.973759234899013, \"type\": \"rect\", \"x0\": 18.35516665823681}, {\"fillcolor\": \"#028090\", \"y1\": 50.0, \"y0\": 42.95611919070204, \"line\": {\"width\": 1}, \"x1\": 25.973759234899013, \"type\": \"rect\", \"x0\": 18.35516665823681}, {\"fillcolor\": \"#9FD35C\", \"y1\": 34.67177362266768, \"y0\": 26.10325261727803, \"line\": {\"width\": 1}, \"x1\": 31.9297863249747, \"type\": \"rect\", \"x0\": 25.973759234899013}, {\"fillcolor\": \"#02C39A\", \"y1\": 42.488744470498375, \"y0\": 34.67177362266768, \"line\": {\"width\": 1}, \"x1\": 31.9297863249747, \"type\": \"rect\", \"x0\": 25.973759234899013}, {\"fillcolor\": \"#F0F3BD\", \"y1\": 50.0, \"y0\": 42.488744470498375, \"line\": {\"width\": 1}, \"x1\": 31.9297863249747, \"type\": \"rect\", \"x0\": 25.973759234899013}, {\"fillcolor\": \"#41B5A3\", \"y1\": 31.670529987027255, \"y0\": 26.10325261727803, \"line\": {\"width\": 1}, \"x1\": 38.90258119454831, \"type\": \"rect\", \"x0\": 31.9297863249747}, {\"fillcolor\": \"#FF6F59\", \"y1\": 31.670529987027255, \"y0\": 26.10325261727803, \"line\": {\"width\": 1}, \"x1\": 44.712486496297274, \"type\": \"rect\", \"x0\": 38.90258119454831}, {\"fillcolor\": \"#254441\", \"y1\": 31.670529987027255, \"y0\": 26.10325261727803, \"line\": {\"width\": 1}, \"x1\": 50.0, \"type\": \"rect\", \"x0\": 44.712486496297274}, {\"fillcolor\": \"#B2B09B\", \"y1\": 37.40994790893313, \"y0\": 31.670529987027255, \"line\": {\"width\": 1}, \"x1\": 36.556395532186734, \"type\": \"rect\", \"x0\": 31.9297863249747}, {\"fillcolor\": \"#EF3054\", \"y1\": 37.40994790893313, \"y0\": 31.670529987027255, \"line\": {\"width\": 1}, \"x1\": 41.125722911119006, \"type\": \"rect\", \"x0\": 36.556395532186734}, {\"fillcolor\": \"#9D9CE8\", \"y1\": 37.40994790893313, \"y0\": 31.670529987027255, \"line\": {\"width\": 1}, \"x1\": 45.57608033900868, \"type\": \"rect\", \"x0\": 41.125722911119006}, {\"fillcolor\": \"#0F4777\", \"y1\": 37.40994790893313, \"y0\": 31.670529987027255, \"line\": {\"width\": 1}, \"x1\": 50.0, \"type\": \"rect\", \"x0\": 45.57608033900868}, {\"fillcolor\": \"#5F67DD\", \"y1\": 42.05765576588568, \"y0\": 37.40994790893313, \"line\": {\"width\": 1}, \"x1\": 37.38740866324101, \"type\": \"rect\", \"x0\": 31.9297863249747}, {\"fillcolor\": \"#235077\", \"y1\": 46.32539149495177, \"y0\": 42.05765576588568, \"line\": {\"width\": 1}, \"x1\": 37.38740866324101, \"type\": \"rect\", \"x0\": 31.9297863249747}, {\"fillcolor\": \"#CCE4F9\", \"y1\": 50.0, \"y0\": 46.32539149495177, \"line\": {\"width\": 1}, \"x1\": 37.38740866324101, \"type\": \"rect\", \"x0\": 31.9297863249747}, {\"fillcolor\": \"#1748D1\", \"y1\": 41.695460240579216, \"y0\": 37.40994790893313, \"line\": {\"width\": 1}, \"x1\": 42.03753590397951, \"type\": \"rect\", \"x0\": 37.38740866324101}, {\"fillcolor\": \"#8BB3D6\", \"y1\": 45.95921870252152, \"y0\": 41.695460240579216, \"line\": {\"width\": 1}, \"x1\": 42.03753590397951, \"type\": \"rect\", \"x0\": 37.38740866324101}, {\"fillcolor\": \"#467196\", \"y1\": 50.0, \"y0\": 45.95921870252152, \"line\": {\"width\": 1}, \"x1\": 42.03753590397951, \"type\": \"rect\", \"x0\": 37.38740866324101}, {\"fillcolor\": \"#F2C4A2\", \"y1\": 41.96129620522446, \"y0\": 37.40994790893313, \"line\": {\"width\": 1}, \"x1\": 46.12711969649247, \"type\": \"rect\", \"x0\": 42.03753590397951}, {\"fillcolor\": \"#F2B1A4\", \"y1\": 41.96129620522446, \"y0\": 37.40994790893313, \"line\": {\"width\": 1}, \"x1\": 49.99999999999999, \"type\": \"rect\", \"x0\": 46.12711969649247}, {\"fillcolor\": \"#C42746\", \"y1\": 46.05846250125782, \"y0\": 41.96129620522446, \"line\": {\"width\": 1}, \"x1\": 46.068147574290656, \"type\": \"rect\", \"x0\": 42.03753590397951}, {\"fillcolor\": \"#330C25\", \"y1\": 46.05846250125782, \"y0\": 41.96129620522446, \"line\": {\"width\": 1}, \"x1\": 50.0, \"type\": \"rect\", \"x0\": 46.068147574290656}, {\"fillcolor\": \"#41B5A3\", \"y1\": 50.0, \"y0\": 46.05846250125782, \"line\": {\"width\": 1}, \"x1\": 46.0797215449891, \"type\": \"rect\", \"x0\": 42.03753590397951}, {\"fillcolor\": \"#FFAF87\", \"y1\": 49.999999999999986, \"y0\": 46.05846250125782, \"line\": {\"width\": 1}, \"x1\": 50.0, \"type\": \"rect\", \"x0\": 46.0797215449891}], \"width\": 850, \"xaxis\": {\"zeroline\": false, \"showgrid\": false}, \"hovermode\": \"closest\", \"font\": {\"color\": \"#FFFFFF\"}, \"margin\": {\"r\": 0, \"pad\": 0, \"l\": 0}, \"annotations\": [{\"y\": 13.99076880683384, \"text\": \"United States\", \"x\": 9.177583329118406, \"showarrow\": false}, {\"y\": 38.99076880683384, \"text\": \"Others\", \"x\": 9.177583329118406, \"showarrow\": false}, {\"y\": 8.063613841604731, \"text\": \"India\", \"x\": 29.11331230447895, \"showarrow\": false}, {\"y\": 8.063613841604731, \"text\": \"Germany\", \"x\": 44.93572897536055, \"showarrow\": false}, {\"y\": 21.115240150243746, \"text\": \"United Kingdom\", \"x\": 26.240390891959024, \"showarrow\": false}, {\"y\": 21.115240150243746, \"text\": \"Canada\", \"x\": 38.426300839395985, \"showarrow\": false}, {\"y\": 21.115240150243746, \"text\": \"Russian Federation\", \"x\": 46.36349327655537, \"showarrow\": false}, {\"y\": 30.37207011056605, \"text\": \"France\", \"x\": 22.164462946567912, \"showarrow\": false}, {\"y\": 38.798503397278054, \"text\": \"Brazil\", \"x\": 22.164462946567912, \"showarrow\": false}, {\"y\": 46.47805959535102, \"text\": \"Poland\", \"x\": 22.164462946567912, \"showarrow\": false}, {\"y\": 30.387513119972855, \"text\": \"Australia\", \"x\": 28.951772779936856, \"showarrow\": false}, {\"y\": 38.58025904658302, \"text\": \"Netherlands\", \"x\": 28.951772779936856, \"showarrow\": false}, {\"y\": 46.24437223524919, \"text\": \"Spain\", \"x\": 28.951772779936856, \"showarrow\": false}, {\"y\": 28.88689130215264, \"text\": \"Italy\", \"x\": 35.41618375976151, \"showarrow\": false}, {\"y\": 28.88689130215264, \"text\": \"Ukraine\", \"x\": 41.80753384542279, \"showarrow\": false}, {\"y\": 28.88689130215264, \"text\": \"Sweden\", \"x\": 47.35624324814864, \"showarrow\": false}, {\"y\": 34.54023894798019, \"text\": \"Pakistan\", \"x\": 34.24309092858072, \"showarrow\": false}, {\"y\": 34.54023894798019, \"text\": \"China\", \"x\": 38.84105922165287, \"showarrow\": false}, {\"y\": 34.54023894798019, \"text\": \"Switzerland\", \"x\": 43.35090162506384, \"showarrow\": false}, {\"y\": 34.54023894798019, \"text\": \"Turkey\", \"x\": 47.78804016950434, \"showarrow\": false}, {\"y\": 39.7338018374094, \"text\": \"Israel\", \"x\": 34.65859749410785, \"showarrow\": false}, {\"y\": 44.19152363041873, \"text\": \"Iran, Islamic Republic of...\", \"x\": 34.65859749410785, \"showarrow\": false}, {\"y\": 48.16269574747589, \"text\": \"Romania\", \"x\": 34.65859749410785, \"showarrow\": false}, {\"y\": 39.55270407475617, \"text\": \"Austria\", \"x\": 39.71247228361026, \"showarrow\": false}, {\"y\": 43.82733947155037, \"text\": \"Czech Republic\", \"x\": 39.71247228361026, \"showarrow\": false}, {\"y\": 47.97960935126076, \"text\": \"Belgium\", \"x\": 39.71247228361026, \"showarrow\": false}, {\"y\": 39.68562205707879, \"text\": \"Mexico\", \"x\": 44.082327800235994, \"showarrow\": false}, {\"y\": 39.68562205707879, \"text\": \"Bangladesh\", \"x\": 48.063559848246236, \"showarrow\": false}, {\"y\": 44.00987935324114, \"text\": \"Denmark\", \"x\": 44.05284173913508, \"showarrow\": false}, {\"y\": 44.00987935324114, \"text\": \"South Africa\", \"x\": 48.034073787145324, \"showarrow\": false}, {\"y\": 48.02923125062891, \"text\": \"Indonesia\", \"x\": 44.0586287244843, \"showarrow\": false}, {\"y\": 48.029231250628904, \"text\": \"Argentina\", \"x\": 48.03986077249455, \"showarrow\": false}]}, {\"linkText\": \"Export to plot.ly\", \"showLink\": true})});</script>"
      ],
      "text/vnd.plotly.v1+html": [
       "<div id=\"eef2f792-0049-4241-8f23-e9c4c74cd1cd\" style=\"height: 1000px; width: 850px;\" class=\"plotly-graph-div\"></div><script type=\"text/javascript\">require([\"plotly\"], function(Plotly) { window.PLOTLYENV=window.PLOTLYENV || {};window.PLOTLYENV.BASE_URL=\"https://plot.ly\";Plotly.newPlot(\"eef2f792-0049-4241-8f23-e9c4c74cd1cd\", [{\"y\": [13.99076880683384, 38.99076880683384, 8.063613841604731, 8.063613841604731, 21.115240150243746, 21.115240150243746, 21.115240150243746, 30.37207011056605, 38.798503397278054, 46.47805959535102, 30.387513119972855, 38.58025904658302, 46.24437223524919, 28.88689130215264, 28.88689130215264, 28.88689130215264, 34.54023894798019, 34.54023894798019, 34.54023894798019, 34.54023894798019, 39.7338018374094, 44.19152363041873, 48.16269574747589, 39.55270407475617, 43.82733947155037, 47.97960935126076, 39.68562205707879, 39.68562205707879, 44.00987935324114, 44.00987935324114, 48.02923125062891, 48.029231250628904], \"text\": [\"20309\", \"15981\", \"13721\", \"6459\", \"6221\", \"3393\", \"2869\", \"2572\", \"2505\", \"2122\", \"2018\", \"1841\", \"1769\", \"1535\", \"1279\", \"1164\", \"1050\", \"1037\", \"1010\", \"1004\", \"1003\", \"921\", \"793\", \"788\", \"784\", \"743\", \"736\", \"697\", \"653\", \"637\", \"630\", \"611\"], \"type\": \"scatter\", \"mode\": \"text\", \"x\": [9.177583329118406, 9.177583329118406, 29.11331230447895, 44.93572897536055, 26.240390891959024, 38.426300839395985, 46.36349327655537, 22.164462946567912, 22.164462946567912, 22.164462946567912, 28.951772779936856, 28.951772779936856, 28.951772779936856, 35.41618375976151, 41.80753384542279, 47.35624324814864, 34.24309092858072, 38.84105922165287, 43.35090162506384, 47.78804016950434, 34.65859749410785, 34.65859749410785, 34.65859749410785, 39.71247228361026, 39.71247228361026, 39.71247228361026, 44.082327800235994, 48.063559848246236, 44.05284173913508, 48.034073787145324, 44.0586287244843, 48.03986077249455]}], {\"yaxis\": {\"zeroline\": false, \"showgrid\": false}, \"height\": 1000, \"shapes\": [{\"fillcolor\": \"#41B5A3\", \"y1\": 27.98153761366768, \"y0\": 0.0, \"line\": {\"width\": 1}, \"x1\": 18.35516665823681, \"type\": \"rect\", \"x0\": 0.0}, {\"fillcolor\": \"#FFAF87\", \"y1\": 50.0, \"y0\": 27.98153761366768, \"line\": {\"width\": 1}, \"x1\": 18.35516665823681, \"type\": \"rect\", \"x0\": 0.0}, {\"fillcolor\": \"#FF8E72\", \"y1\": 16.127227683209462, \"y0\": 0.0, \"line\": {\"width\": 1}, \"x1\": 39.87145795072109, \"type\": \"rect\", \"x0\": 18.35516665823681}, {\"fillcolor\": \"#ED6A5E\", \"y1\": 16.127227683209462, \"y0\": 0.0, \"line\": {\"width\": 1}, \"x1\": 50.0, \"type\": \"rect\", \"x0\": 39.87145795072109}, {\"fillcolor\": \"#377771\", \"y1\": 26.10325261727803, \"y0\": 16.127227683209462, \"line\": {\"width\": 1}, \"x1\": 34.125615125681236, \"type\": \"rect\", \"x0\": 18.35516665823681}, {\"fillcolor\": \"#E89005\", \"y1\": 26.10325261727803, \"y0\": 16.127227683209462, \"line\": {\"width\": 1}, \"x1\": 42.72698655311074, \"type\": \"rect\", \"x0\": 34.125615125681236}, {\"fillcolor\": \"#C6000D\", \"y1\": 26.10325261727803, \"y0\": 16.127227683209462, \"line\": {\"width\": 1}, \"x1\": 50.0, \"type\": \"rect\", \"x0\": 42.72698655311074}, {\"fillcolor\": \"#000000\", \"y1\": 34.64088760385407, \"y0\": 26.10325261727803, \"line\": {\"width\": 1}, \"x1\": 25.973759234899013, \"type\": \"rect\", \"x0\": 18.35516665823681}, {\"fillcolor\": \"#05668D\", \"y1\": 42.95611919070204, \"y0\": 34.64088760385407, \"line\": {\"width\": 1}, \"x1\": 25.973759234899013, \"type\": \"rect\", \"x0\": 18.35516665823681}, {\"fillcolor\": \"#028090\", \"y1\": 50.0, \"y0\": 42.95611919070204, \"line\": {\"width\": 1}, \"x1\": 25.973759234899013, \"type\": \"rect\", \"x0\": 18.35516665823681}, {\"fillcolor\": \"#9FD35C\", \"y1\": 34.67177362266768, \"y0\": 26.10325261727803, \"line\": {\"width\": 1}, \"x1\": 31.9297863249747, \"type\": \"rect\", \"x0\": 25.973759234899013}, {\"fillcolor\": \"#02C39A\", \"y1\": 42.488744470498375, \"y0\": 34.67177362266768, \"line\": {\"width\": 1}, \"x1\": 31.9297863249747, \"type\": \"rect\", \"x0\": 25.973759234899013}, {\"fillcolor\": \"#F0F3BD\", \"y1\": 50.0, \"y0\": 42.488744470498375, \"line\": {\"width\": 1}, \"x1\": 31.9297863249747, \"type\": \"rect\", \"x0\": 25.973759234899013}, {\"fillcolor\": \"#41B5A3\", \"y1\": 31.670529987027255, \"y0\": 26.10325261727803, \"line\": {\"width\": 1}, \"x1\": 38.90258119454831, \"type\": \"rect\", \"x0\": 31.9297863249747}, {\"fillcolor\": \"#FF6F59\", \"y1\": 31.670529987027255, \"y0\": 26.10325261727803, \"line\": {\"width\": 1}, \"x1\": 44.712486496297274, \"type\": \"rect\", \"x0\": 38.90258119454831}, {\"fillcolor\": \"#254441\", \"y1\": 31.670529987027255, \"y0\": 26.10325261727803, \"line\": {\"width\": 1}, \"x1\": 50.0, \"type\": \"rect\", \"x0\": 44.712486496297274}, {\"fillcolor\": \"#B2B09B\", \"y1\": 37.40994790893313, \"y0\": 31.670529987027255, \"line\": {\"width\": 1}, \"x1\": 36.556395532186734, \"type\": \"rect\", \"x0\": 31.9297863249747}, {\"fillcolor\": \"#EF3054\", \"y1\": 37.40994790893313, \"y0\": 31.670529987027255, \"line\": {\"width\": 1}, \"x1\": 41.125722911119006, \"type\": \"rect\", \"x0\": 36.556395532186734}, {\"fillcolor\": \"#9D9CE8\", \"y1\": 37.40994790893313, \"y0\": 31.670529987027255, \"line\": {\"width\": 1}, \"x1\": 45.57608033900868, \"type\": \"rect\", \"x0\": 41.125722911119006}, {\"fillcolor\": \"#0F4777\", \"y1\": 37.40994790893313, \"y0\": 31.670529987027255, \"line\": {\"width\": 1}, \"x1\": 50.0, \"type\": \"rect\", \"x0\": 45.57608033900868}, {\"fillcolor\": \"#5F67DD\", \"y1\": 42.05765576588568, \"y0\": 37.40994790893313, \"line\": {\"width\": 1}, \"x1\": 37.38740866324101, \"type\": \"rect\", \"x0\": 31.9297863249747}, {\"fillcolor\": \"#235077\", \"y1\": 46.32539149495177, \"y0\": 42.05765576588568, \"line\": {\"width\": 1}, \"x1\": 37.38740866324101, \"type\": \"rect\", \"x0\": 31.9297863249747}, {\"fillcolor\": \"#CCE4F9\", \"y1\": 50.0, \"y0\": 46.32539149495177, \"line\": {\"width\": 1}, \"x1\": 37.38740866324101, \"type\": \"rect\", \"x0\": 31.9297863249747}, {\"fillcolor\": \"#1748D1\", \"y1\": 41.695460240579216, \"y0\": 37.40994790893313, \"line\": {\"width\": 1}, \"x1\": 42.03753590397951, \"type\": \"rect\", \"x0\": 37.38740866324101}, {\"fillcolor\": \"#8BB3D6\", \"y1\": 45.95921870252152, \"y0\": 41.695460240579216, \"line\": {\"width\": 1}, \"x1\": 42.03753590397951, \"type\": \"rect\", \"x0\": 37.38740866324101}, {\"fillcolor\": \"#467196\", \"y1\": 50.0, \"y0\": 45.95921870252152, \"line\": {\"width\": 1}, \"x1\": 42.03753590397951, \"type\": \"rect\", \"x0\": 37.38740866324101}, {\"fillcolor\": \"#F2C4A2\", \"y1\": 41.96129620522446, \"y0\": 37.40994790893313, \"line\": {\"width\": 1}, \"x1\": 46.12711969649247, \"type\": \"rect\", \"x0\": 42.03753590397951}, {\"fillcolor\": \"#F2B1A4\", \"y1\": 41.96129620522446, \"y0\": 37.40994790893313, \"line\": {\"width\": 1}, \"x1\": 49.99999999999999, \"type\": \"rect\", \"x0\": 46.12711969649247}, {\"fillcolor\": \"#C42746\", \"y1\": 46.05846250125782, \"y0\": 41.96129620522446, \"line\": {\"width\": 1}, \"x1\": 46.068147574290656, \"type\": \"rect\", \"x0\": 42.03753590397951}, {\"fillcolor\": \"#330C25\", \"y1\": 46.05846250125782, \"y0\": 41.96129620522446, \"line\": {\"width\": 1}, \"x1\": 50.0, \"type\": \"rect\", \"x0\": 46.068147574290656}, {\"fillcolor\": \"#41B5A3\", \"y1\": 50.0, \"y0\": 46.05846250125782, \"line\": {\"width\": 1}, \"x1\": 46.0797215449891, \"type\": \"rect\", \"x0\": 42.03753590397951}, {\"fillcolor\": \"#FFAF87\", \"y1\": 49.999999999999986, \"y0\": 46.05846250125782, \"line\": {\"width\": 1}, \"x1\": 50.0, \"type\": \"rect\", \"x0\": 46.0797215449891}], \"width\": 850, \"xaxis\": {\"zeroline\": false, \"showgrid\": false}, \"hovermode\": \"closest\", \"font\": {\"color\": \"#FFFFFF\"}, \"margin\": {\"r\": 0, \"pad\": 0, \"l\": 0}, \"annotations\": [{\"y\": 13.99076880683384, \"text\": \"United States\", \"x\": 9.177583329118406, \"showarrow\": false}, {\"y\": 38.99076880683384, \"text\": \"Others\", \"x\": 9.177583329118406, \"showarrow\": false}, {\"y\": 8.063613841604731, \"text\": \"India\", \"x\": 29.11331230447895, \"showarrow\": false}, {\"y\": 8.063613841604731, \"text\": \"Germany\", \"x\": 44.93572897536055, \"showarrow\": false}, {\"y\": 21.115240150243746, \"text\": \"United Kingdom\", \"x\": 26.240390891959024, \"showarrow\": false}, {\"y\": 21.115240150243746, \"text\": \"Canada\", \"x\": 38.426300839395985, \"showarrow\": false}, {\"y\": 21.115240150243746, \"text\": \"Russian Federation\", \"x\": 46.36349327655537, \"showarrow\": false}, {\"y\": 30.37207011056605, \"text\": \"France\", \"x\": 22.164462946567912, \"showarrow\": false}, {\"y\": 38.798503397278054, \"text\": \"Brazil\", \"x\": 22.164462946567912, \"showarrow\": false}, {\"y\": 46.47805959535102, \"text\": \"Poland\", \"x\": 22.164462946567912, \"showarrow\": false}, {\"y\": 30.387513119972855, \"text\": \"Australia\", \"x\": 28.951772779936856, \"showarrow\": false}, {\"y\": 38.58025904658302, \"text\": \"Netherlands\", \"x\": 28.951772779936856, \"showarrow\": false}, {\"y\": 46.24437223524919, \"text\": \"Spain\", \"x\": 28.951772779936856, \"showarrow\": false}, {\"y\": 28.88689130215264, \"text\": \"Italy\", \"x\": 35.41618375976151, \"showarrow\": false}, {\"y\": 28.88689130215264, \"text\": \"Ukraine\", \"x\": 41.80753384542279, \"showarrow\": false}, {\"y\": 28.88689130215264, \"text\": \"Sweden\", \"x\": 47.35624324814864, \"showarrow\": false}, {\"y\": 34.54023894798019, \"text\": \"Pakistan\", \"x\": 34.24309092858072, \"showarrow\": false}, {\"y\": 34.54023894798019, \"text\": \"China\", \"x\": 38.84105922165287, \"showarrow\": false}, {\"y\": 34.54023894798019, \"text\": \"Switzerland\", \"x\": 43.35090162506384, \"showarrow\": false}, {\"y\": 34.54023894798019, \"text\": \"Turkey\", \"x\": 47.78804016950434, \"showarrow\": false}, {\"y\": 39.7338018374094, \"text\": \"Israel\", \"x\": 34.65859749410785, \"showarrow\": false}, {\"y\": 44.19152363041873, \"text\": \"Iran, Islamic Republic of...\", \"x\": 34.65859749410785, \"showarrow\": false}, {\"y\": 48.16269574747589, \"text\": \"Romania\", \"x\": 34.65859749410785, \"showarrow\": false}, {\"y\": 39.55270407475617, \"text\": \"Austria\", \"x\": 39.71247228361026, \"showarrow\": false}, {\"y\": 43.82733947155037, \"text\": \"Czech Republic\", \"x\": 39.71247228361026, \"showarrow\": false}, {\"y\": 47.97960935126076, \"text\": \"Belgium\", \"x\": 39.71247228361026, \"showarrow\": false}, {\"y\": 39.68562205707879, \"text\": \"Mexico\", \"x\": 44.082327800235994, \"showarrow\": false}, {\"y\": 39.68562205707879, \"text\": \"Bangladesh\", \"x\": 48.063559848246236, \"showarrow\": false}, {\"y\": 44.00987935324114, \"text\": \"Denmark\", \"x\": 44.05284173913508, \"showarrow\": false}, {\"y\": 44.00987935324114, \"text\": \"South Africa\", \"x\": 48.034073787145324, \"showarrow\": false}, {\"y\": 48.02923125062891, \"text\": \"Indonesia\", \"x\": 44.0586287244843, \"showarrow\": false}, {\"y\": 48.029231250628904, \"text\": \"Argentina\", \"x\": 48.03986077249455, \"showarrow\": false}]}, {\"linkText\": \"Export to plot.ly\", \"showLink\": true})});</script>"
      ]
     },
     "metadata": {},
     "output_type": "display_data"
    }
   ],
   "source": [
    "# from: see for more details: Treepmaps from plot.ly https://plot.ly/python/treemaps/\n",
    "country = data[\"Country\"].dropna()\n",
    "for i in country.unique():\n",
    "    if country[country == i].count() < 600:   #Similar to running SQL Queries in pandas select i from country where country ==i see:https://stackoverflow.com/questions/17071871/select-rows-from-a-dataframe-based-on-values-in-a-column-in-pandas\n",
    "        country[country == i] = 'Others'\n",
    "# see for more details: Treepmaps from plot.ly https://plot.ly/python/treemaps/\n",
    "x = 0.\n",
    "y = 0.\n",
    "width = 50.\n",
    "height = 50.\n",
    "type_list = country.value_counts().index\n",
    "values = country.value_counts().values\n",
    "\n",
    "normed = squarify.normalize_sizes(values, width, height)\n",
    "rects = squarify.squarify(normed, x, y, width, height)\n",
    "\n",
    "# Colors from http://colorbrewer2.org/ \n",
    "color_brewer = ['#41B5A3','#FFAF87','#FF8E72','#ED6A5E','#377771','#E89005','#C6000D','#000000','#05668D','#028090','#9FD35C','#02C39A','#F0F3BD','#41B5A3','#FF6F59','#254441','#B2B09B','#EF3054','#9D9CE8','#0F4777','#5F67DD','#235077','#CCE4F9','#1748D1','#8BB3D6','#467196','#F2C4A2','#F2B1A4','#C42746','#330C25'] * 2\n",
    "shapes = []\n",
    "annotations = []\n",
    "counter = 0\n",
    "\n",
    "for r in rects:\n",
    "    shapes.append( \n",
    "        dict(\n",
    "            type = 'rect', \n",
    "            x0 = r['x'], \n",
    "            y0 = r['y'], \n",
    "            x1 = r['x']+r['dx'], \n",
    "            y1 = r['y']+r['dy'],\n",
    "            line = dict( width = 1 ),\n",
    "            fillcolor = color_brewer[counter]\n",
    "        ) \n",
    "    )\n",
    "    annotations.append(\n",
    "        dict(\n",
    "            x = r['x']+(r['dx']/2),\n",
    "            y = r['y']+(r['dy']/2),\n",
    "            text = \"{}\".format(type_list[counter]),\n",
    "            showarrow = False\n",
    "        )\n",
    "    )\n",
    "    counter = counter + 1\n",
    "    if counter >= len(color_brewer):\n",
    "        counter = 0\n",
    "\n",
    "# For hover text\n",
    "trace0 = go.Scatter(\n",
    "    x = [ r['x']+(r['dx']/2) for r in rects ], \n",
    "    y = [ r['y']+(r['dy']/2) for r in rects ],\n",
    "    text = [ str(v) for v in values ], \n",
    "    mode = 'text',\n",
    ")\n",
    "\n",
    "layout = dict(\n",
    "    height=1000, \n",
    "    width=850,\n",
    "    xaxis=dict(showgrid=False,zeroline=False),\n",
    "    yaxis=dict(showgrid=False,zeroline=False),\n",
    "    shapes=shapes,\n",
    "    annotations=annotations,\n",
    "    hovermode='closest',\n",
    "    font=dict(color=\"#FFFFFF\"),\n",
    "    margin = go.Margin(\n",
    "            l=0,\n",
    "            r=0,\n",
    "            pad=0\n",
    "        )\n",
    ")\n",
    "\n",
    "# With hovertext\n",
    "figure = dict(data=[trace0], layout=layout)\n",
    "iplot(figure, filename='squarify-treemap')\n",
    "\n",
    "# Without hovertext\n",
    "# figure = dict(data=[Scatter()], layout=layout)"
   ]
  },
  {
   "cell_type": "markdown",
   "metadata": {},
   "source": [
    "Out of 98,855 developers, Country having highest number of respondents :\n",
    "\n",
    "United States : 20,309 \n",
    "\n",
    "India : 13,721 \n",
    "\n",
    "Germany : 6,459 \n",
    "\n",
    "United Kingdom : 6,221 \n",
    "\n",
    "Canada : 3,393 \n"
   ]
  },
  {
   "cell_type": "markdown",
   "metadata": {},
   "source": [
    "### Frequency distribution of highest level of formal eduction"
   ]
  },
  {
   "cell_type": "code",
   "execution_count": 10,
   "metadata": {},
   "outputs": [
    {
     "data": {
      "text/plain": [
       "Text(0,0.5,'Degree')"
      ]
     },
     "execution_count": 10,
     "metadata": {},
     "output_type": "execute_result"
    },
    {
     "data": {
      "image/png": "[encoded data removed]",
      "text/plain": [
       "<Figure size 432x576 with 1 Axes>"
      ]
     },
     "metadata": {},
     "output_type": "display_data"
    }
   ],
   "source": [
    "fig = plt.figure(figsize=(6,8))\n",
    "ax = sns.countplot(y = data[\"FormalEducation\"],order=data[\"FormalEducation\"].value_counts().index,palette=\"prism\",linewidth=2,edgecolor=[\"grey\"]*data[\"FormalEducation\"].nunique())\n",
    "\n",
    "for i,j in enumerate(np.round((data[\"FormalEducation\"].value_counts()*100/data[\"FormalEducation\"].value_counts().sum()).values,2)):\n",
    "    ax.text(.7,i,j,weight = \"bold\",fontsize = 15,color=\"white\")\n",
    "\n",
    "plt.title(\"Frequency distribution of highest level of formal eduction\")\n",
    "plt.ylabel(\"Degree\")"
   ]
  },
  {
   "cell_type": "markdown",
   "metadata": {},
   "source": [
    "Here we can see that majority of developers have a Bachelors degree followed by Master's degree. \n",
    "\n",
    "About highest level of formal education of Developers :\n",
    "\n",
    "Around 46% Developers having Bachelor's degree.\n",
    "\n",
    "Around 23% Developers having Master's degree\n",
    "\n",
    "Around 12% having some college/university study without earning a degree\n",
    "\n",
    "Around 9% having Secondary schools(eg. American high school etc.)\n",
    "\n",
    "Approx 3% having Associate degree\n",
    "\n",
    "Around 2% having other doctral degree (Phd. , Ed.D etc.)\n",
    "\n",
    "Around 2% having Primary/elementry school\n",
    "\n",
    "Around 2% having Professional degree (JD, MD etc.)\n",
    "\n",
    "Around 1% never completed any formal education."
   ]
  },
  {
   "cell_type": "code",
   "execution_count": 11,
   "metadata": {},
   "outputs": [],
   "source": [
    "# from: see for more details: Treepmaps from plot.ly https://plot.ly/python/treemaps/\n",
    "def treemap(v):\n",
    "    x = 0.\n",
    "    y = 0.\n",
    "    width = 50.\n",
    "    height = 50.\n",
    "    type_list = v.index\n",
    "    values = v.values\n",
    "\n",
    "    normed = squarify.normalize_sizes(values, width, height)\n",
    "    rects = squarify.squarify(normed, x, y, width, height)\n",
    "\n",
    "    # Choose colors from http://colorbrewer2.org/ under \"Export\"\n",
    "    color_brewer = ['#41B5A3','#FFAF87','#FF8E72','#ED6A5E','#377771','#E89005','#C6000D','#000000','#05668D','#028090','#9FD35C','#02C39A','#F0F3BD','#41B5A3','#FF6F59','#254441','#B2B09B','#EF3054','#9D9CE8','#0F4777','#5F67DD','#235077','#CCE4F9','#1748D1','#8BB3D6','#467196','#F2C4A2','#F2B1A4','#C42746','#330C25']\n",
    "    shapes = []\n",
    "    annotations = []\n",
    "    counter = 0\n",
    "\n",
    "    for r in rects:\n",
    "        shapes.append( \n",
    "            dict(\n",
    "                type = 'rect', \n",
    "                x0 = r['x'], \n",
    "                y0 = r['y'], \n",
    "                x1 = r['x']+r['dx'], \n",
    "                y1 = r['y']+r['dy'],\n",
    "                line = dict( width = 1 ),\n",
    "                fillcolor = color_brewer[counter]\n",
    "            ) \n",
    "        )\n",
    "        annotations.append(\n",
    "            dict(\n",
    "                x = r['x']+(r['dx']/2),\n",
    "                y = r['y']+(r['dy']/2),\n",
    "                text = \"{}\".format(type_list[counter]),\n",
    "                showarrow = False\n",
    "            )\n",
    "        )\n",
    "        counter = counter + 1\n",
    "        if counter >= len(color_brewer):\n",
    "            counter = 0\n",
    "\n",
    "    # For hover text\n",
    "    trace0 = go.Scatter(\n",
    "        x = [ r['x']+(r['dx']/2) for r in rects ], \n",
    "        y = [ r['y']+(r['dy']/2) for r in rects ],\n",
    "        text = [ str(v) for v in values ], \n",
    "        mode = 'text',\n",
    "    )\n",
    "\n",
    "    layout = dict(\n",
    "        height=1000, \n",
    "        width=800,\n",
    "        xaxis=dict(showgrid=False,zeroline=False),\n",
    "        yaxis=dict(showgrid=False,zeroline=False),\n",
    "        shapes=shapes,\n",
    "        annotations=annotations,\n",
    "        hovermode='closest',\n",
    "        font=dict(color=\"#FFFFFF\"),\n",
    "        margin = go.Margin(\n",
    "                l=0,\n",
    "                r=0,\n",
    "                pad=0\n",
    "            )\n",
    "    )\n",
    "\n",
    "    # With hovertext\n",
    "    figure = dict(data=[trace0], layout=layout)\n",
    "    iplot(figure, filename='squarify-treemap')"
   ]
  },
  {
   "cell_type": "markdown",
   "metadata": {},
   "source": [
    "### Treemap of Employment types"
   ]
  },
  {
   "cell_type": "code",
   "execution_count": 12,
   "metadata": {},
   "outputs": [
    {
     "data": {
      "application/vnd.plotly.v1+json": {
       "data": [
        {
         "mode": "text",
         "text": [
          "70495",
          "9282",
          "5805",
          "5380",
          "4132",
          "3534",
          "227"
         ],
         "type": "scatter",
         "x": [
          17.82787921703505,
          42.82787921703505,
          42.82787921703505,
          42.827879217035054,
          39.41037683964608,
          46.58249762261102,
          46.58249762261097
         ],
         "y": [
          25,
          8.182299012693935,
          21.481840620592383,
          31.341678420310295,
          43.04213681241185,
          42.622186016457974,
          49.580049204046134
         ]
        }
       ],
       "layout": {
        "annotations": [
         {
          "showarrow": false,
          "text": "FullTime",
          "x": 17.82787921703505,
          "y": 25
         },
         {
          "showarrow": false,
          "text": "SelfEmployed",
          "x": 42.82787921703505,
          "y": 8.182299012693935
         },
         {
          "showarrow": false,
          "text": "SearchingJob",
          "x": 42.82787921703505,
          "y": 21.481840620592383
         },
         {
          "showarrow": false,
          "text": "PartTime",
          "x": 42.827879217035054,
          "y": 31.341678420310295
         },
         {
          "showarrow": false,
          "text": "Unemployed",
          "x": 39.41037683964608,
          "y": 43.04213681241185
         },
         {
          "showarrow": false,
          "text": "Unknown",
          "x": 46.58249762261102,
          "y": 42.622186016457974
         },
         {
          "showarrow": false,
          "text": "Retired",
          "x": 46.58249762261097,
          "y": 49.580049204046134
         }
        ],
        "font": {
         "color": "#FFFFFF"
        },
        "height": 1000,
        "hovermode": "closest",
        "margin": {
         "l": 0,
         "pad": 0,
         "r": 0
        },
        "shapes": [
         {
          "fillcolor": "#41B5A3",
          "line": {
           "width": 1
          },
          "type": "rect",
          "x0": 0,
          "x1": 35.6557584340701,
          "y0": 0,
          "y1": 50
         },
         {
          "fillcolor": "#FFAF87",
          "line": {
           "width": 1
          },
          "type": "rect",
          "x0": 35.6557584340701,
          "x1": 50,
          "y0": 0,
          "y1": 16.36459802538787
         },
         {
          "fillcolor": "#FF8E72",
          "line": {
           "width": 1
          },
          "type": "rect",
          "x0": 35.6557584340701,
          "x1": 50,
          "y0": 16.36459802538787,
          "y1": 26.599083215796895
         },
         {
          "fillcolor": "#ED6A5E",
          "line": {
           "width": 1
          },
          "type": "rect",
          "x0": 35.6557584340701,
          "x1": 50,
          "y0": 26.599083215796895,
          "y1": 36.084273624823695
         },
         {
          "fillcolor": "#377771",
          "line": {
           "width": 1
          },
          "type": "rect",
          "x0": 35.6557584340701,
          "x1": 43.164995245222045,
          "y0": 36.084273624823695,
          "y1": 50
         },
         {
          "fillcolor": "#E89005",
          "line": {
           "width": 1
          },
          "type": "rect",
          "x0": 43.164995245222045,
          "x1": 50,
          "y0": 36.084273624823695,
          "y1": 49.16009840809225
         },
         {
          "fillcolor": "#C6000D",
          "line": {
           "width": 1
          },
          "type": "rect",
          "x0": 43.164995245222045,
          "x1": 49.9999999999999,
          "y0": 49.16009840809225,
          "y1": 50.00000000000001
         }
        ],
        "width": 800,
        "xaxis": {
         "showgrid": false,
         "zeroline": false
        },
        "yaxis": {
         "showgrid": false,
         "zeroline": false
        }
       }
      },
      "text/html": [
       "<div id=\"3041789f-2e2e-4405-beb8-fe0ad9e1646f\" style=\"height: 1000px; width: 800px;\" class=\"plotly-graph-div\"></div><script type=\"text/javascript\">require([\"plotly\"], function(Plotly) { window.PLOTLYENV=window.PLOTLYENV || {};window.PLOTLYENV.BASE_URL=\"https://plot.ly\";Plotly.newPlot(\"3041789f-2e2e-4405-beb8-fe0ad9e1646f\", [{\"y\": [25.0, 8.182299012693935, 21.481840620592383, 31.341678420310295, 43.04213681241185, 42.622186016457974, 49.580049204046134], \"text\": [\"70495\", \"9282\", \"5805\", \"5380\", \"4132\", \"3534\", \"227\"], \"type\": \"scatter\", \"mode\": \"text\", \"x\": [17.82787921703505, 42.82787921703505, 42.82787921703505, 42.827879217035054, 39.41037683964608, 46.58249762261102, 46.58249762261097]}], {\"yaxis\": {\"zeroline\": false, \"showgrid\": false}, \"height\": 1000, \"shapes\": [{\"fillcolor\": \"#41B5A3\", \"y1\": 50.0, \"y0\": 0.0, \"line\": {\"width\": 1}, \"x1\": 35.6557584340701, \"type\": \"rect\", \"x0\": 0.0}, {\"fillcolor\": \"#FFAF87\", \"y1\": 16.36459802538787, \"y0\": 0.0, \"line\": {\"width\": 1}, \"x1\": 50.0, \"type\": \"rect\", \"x0\": 35.6557584340701}, {\"fillcolor\": \"#FF8E72\", \"y1\": 26.599083215796895, \"y0\": 16.36459802538787, \"line\": {\"width\": 1}, \"x1\": 50.0, \"type\": \"rect\", \"x0\": 35.6557584340701}, {\"fillcolor\": \"#ED6A5E\", \"y1\": 36.084273624823695, \"y0\": 26.599083215796895, \"line\": {\"width\": 1}, \"x1\": 50.0, \"type\": \"rect\", \"x0\": 35.6557584340701}, {\"fillcolor\": \"#377771\", \"y1\": 50.0, \"y0\": 36.084273624823695, \"line\": {\"width\": 1}, \"x1\": 43.164995245222045, \"type\": \"rect\", \"x0\": 35.6557584340701}, {\"fillcolor\": \"#E89005\", \"y1\": 49.16009840809225, \"y0\": 36.084273624823695, \"line\": {\"width\": 1}, \"x1\": 50.0, \"type\": \"rect\", \"x0\": 43.164995245222045}, {\"fillcolor\": \"#C6000D\", \"y1\": 50.00000000000001, \"y0\": 49.16009840809225, \"line\": {\"width\": 1}, \"x1\": 49.9999999999999, \"type\": \"rect\", \"x0\": 43.164995245222045}], \"width\": 800, \"xaxis\": {\"zeroline\": false, \"showgrid\": false}, \"hovermode\": \"closest\", \"font\": {\"color\": \"#FFFFFF\"}, \"margin\": {\"r\": 0, \"pad\": 0, \"l\": 0}, \"annotations\": [{\"y\": 25.0, \"text\": \"FullTime\", \"x\": 17.82787921703505, \"showarrow\": false}, {\"y\": 8.182299012693935, \"text\": \"SelfEmployed\", \"x\": 42.82787921703505, \"showarrow\": false}, {\"y\": 21.481840620592383, \"text\": \"SearchingJob\", \"x\": 42.82787921703505, \"showarrow\": false}, {\"y\": 31.341678420310295, \"text\": \"PartTime\", \"x\": 42.827879217035054, \"showarrow\": false}, {\"y\": 43.04213681241185, \"text\": \"Unemployed\", \"x\": 39.41037683964608, \"showarrow\": false}, {\"y\": 42.622186016457974, \"text\": \"Unknown\", \"x\": 46.58249762261102, \"showarrow\": false}, {\"y\": 49.580049204046134, \"text\": \"Retired\", \"x\": 46.58249762261097, \"showarrow\": false}]}, {\"linkText\": \"Export to plot.ly\", \"showLink\": true})});</script>"
      ],
      "text/vnd.plotly.v1+html": [
       "<div id=\"3041789f-2e2e-4405-beb8-fe0ad9e1646f\" style=\"height: 1000px; width: 800px;\" class=\"plotly-graph-div\"></div><script type=\"text/javascript\">require([\"plotly\"], function(Plotly) { window.PLOTLYENV=window.PLOTLYENV || {};window.PLOTLYENV.BASE_URL=\"https://plot.ly\";Plotly.newPlot(\"3041789f-2e2e-4405-beb8-fe0ad9e1646f\", [{\"y\": [25.0, 8.182299012693935, 21.481840620592383, 31.341678420310295, 43.04213681241185, 42.622186016457974, 49.580049204046134], \"text\": [\"70495\", \"9282\", \"5805\", \"5380\", \"4132\", \"3534\", \"227\"], \"type\": \"scatter\", \"mode\": \"text\", \"x\": [17.82787921703505, 42.82787921703505, 42.82787921703505, 42.827879217035054, 39.41037683964608, 46.58249762261102, 46.58249762261097]}], {\"yaxis\": {\"zeroline\": false, \"showgrid\": false}, \"height\": 1000, \"shapes\": [{\"fillcolor\": \"#41B5A3\", \"y1\": 50.0, \"y0\": 0.0, \"line\": {\"width\": 1}, \"x1\": 35.6557584340701, \"type\": \"rect\", \"x0\": 0.0}, {\"fillcolor\": \"#FFAF87\", \"y1\": 16.36459802538787, \"y0\": 0.0, \"line\": {\"width\": 1}, \"x1\": 50.0, \"type\": \"rect\", \"x0\": 35.6557584340701}, {\"fillcolor\": \"#FF8E72\", \"y1\": 26.599083215796895, \"y0\": 16.36459802538787, \"line\": {\"width\": 1}, \"x1\": 50.0, \"type\": \"rect\", \"x0\": 35.6557584340701}, {\"fillcolor\": \"#ED6A5E\", \"y1\": 36.084273624823695, \"y0\": 26.599083215796895, \"line\": {\"width\": 1}, \"x1\": 50.0, \"type\": \"rect\", \"x0\": 35.6557584340701}, {\"fillcolor\": \"#377771\", \"y1\": 50.0, \"y0\": 36.084273624823695, \"line\": {\"width\": 1}, \"x1\": 43.164995245222045, \"type\": \"rect\", \"x0\": 35.6557584340701}, {\"fillcolor\": \"#E89005\", \"y1\": 49.16009840809225, \"y0\": 36.084273624823695, \"line\": {\"width\": 1}, \"x1\": 50.0, \"type\": \"rect\", \"x0\": 43.164995245222045}, {\"fillcolor\": \"#C6000D\", \"y1\": 50.00000000000001, \"y0\": 49.16009840809225, \"line\": {\"width\": 1}, \"x1\": 49.9999999999999, \"type\": \"rect\", \"x0\": 43.164995245222045}], \"width\": 800, \"xaxis\": {\"zeroline\": false, \"showgrid\": false}, \"hovermode\": \"closest\", \"font\": {\"color\": \"#FFFFFF\"}, \"margin\": {\"r\": 0, \"pad\": 0, \"l\": 0}, \"annotations\": [{\"y\": 25.0, \"text\": \"FullTime\", \"x\": 17.82787921703505, \"showarrow\": false}, {\"y\": 8.182299012693935, \"text\": \"SelfEmployed\", \"x\": 42.82787921703505, \"showarrow\": false}, {\"y\": 21.481840620592383, \"text\": \"SearchingJob\", \"x\": 42.82787921703505, \"showarrow\": false}, {\"y\": 31.341678420310295, \"text\": \"PartTime\", \"x\": 42.827879217035054, \"showarrow\": false}, {\"y\": 43.04213681241185, \"text\": \"Unemployed\", \"x\": 39.41037683964608, \"showarrow\": false}, {\"y\": 42.622186016457974, \"text\": \"Unknown\", \"x\": 46.58249762261102, \"showarrow\": false}, {\"y\": 49.580049204046134, \"text\": \"Retired\", \"x\": 46.58249762261097, \"showarrow\": false}]}, {\"linkText\": \"Export to plot.ly\", \"showLink\": true})});</script>"
      ]
     },
     "metadata": {},
     "output_type": "display_data"
    }
   ],
   "source": [
    "treemap(data[\"Employment\"].value_counts())"
   ]
  },
  {
   "cell_type": "markdown",
   "metadata": {},
   "source": [
    "We can we that majority of developers do developement as a full-time job. \n",
    "\n",
    "Employment Status of Developers :\n",
    "\n",
    "Employeed full-time : 74%\n",
    "\n",
    "Independent Contractor, Freelancer or Self-employed : 9.74%\n",
    "\n",
    "Not employed but looking for work : 6.09%\n",
    "\n",
    "Employed part-time : 5.64%\n",
    "\n",
    "Not employeed and not looking for work : 4.33%\n",
    "\n",
    "Retired : 0.238%"
   ]
  },
  {
   "cell_type": "code",
   "execution_count": 13,
   "metadata": {},
   "outputs": [],
   "source": [
    "# from : see donut chart at https://plot.ly/python/pie-charts/\n",
    "def donut_graph(dt,name, title):\n",
    "    fig = {\n",
    "      \"data\": [\n",
    "        {\n",
    "          \"values\": dt.value_counts().values,\n",
    "          \"labels\": dt.value_counts().index,\n",
    "          \"domain\": {\"x\": [0, .95]},\n",
    "          \"name\": title,\n",
    "          \"hoverinfo\":\"label+percent+name\",\n",
    "          \"hole\": .7,\n",
    "          \"type\": \"pie\",\n",
    "          \"marker\": {\"colors\": [i for i in reversed(color_brewer)]},\n",
    "          \"textfont\": {\"color\": \"#FFFFFF\"}\n",
    "        }],\n",
    "      \"layout\": {\n",
    "            \"title\":title,\n",
    "            \"annotations\": [\n",
    "                {\n",
    "                    \"font\": {\n",
    "                        \"size\": 15\n",
    "                    },\n",
    "                    \"showarrow\": False,\n",
    "                    \"text\": name,\n",
    "                    \"x\": 0.47,\n",
    "                    \"y\": 0.5\n",
    "                }\n",
    "            ]\n",
    "        }\n",
    "    }\n",
    "    iplot(fig, filename='donut')"
   ]
  },
  {
   "cell_type": "markdown",
   "metadata": {},
   "source": [
    "### Company size distribution"
   ]
  },
  {
   "cell_type": "code",
   "execution_count": 14,
   "metadata": {},
   "outputs": [
    {
     "data": {
      "application/vnd.plotly.v1+json": {
       "data": [
        {
         "domain": {
          "x": [
           0,
           0.95
          ]
         },
         "hole": 0.7,
         "hoverinfo": "label+percent+name",
         "labels": [
          "20 to 99 employees",
          "100 to 499 employees",
          "10,000 or more employees",
          "10 to 19 employees",
          "1,000 to 4,999 employees",
          "Fewer than 10 employees",
          "500 to 999 employees",
          "5,000 to 9,999 employees"
         ],
         "marker": {
          "colors": [
           "#330C25",
           "#C42746",
           "#F2B1A4",
           "#F2C4A2",
           "#467196",
           "#8BB3D6",
           "#1748D1",
           "#CCE4F9",
           "#235077",
           "#5F67DD",
           "#0F4777",
           "#9D9CE8",
           "#EF3054",
           "#B2B09B",
           "#254441",
           "#FF6F59",
           "#41B5A3",
           "#F0F3BD",
           "#02C39A",
           "#9FD35C",
           "#028090",
           "#05668D",
           "#000000",
           "#C6000D",
           "#E89005",
           "#377771",
           "#ED6A5E",
           "#FF8E72",
           "#FFAF87",
           "#41B5A3",
           "#330C25",
           "#C42746",
           "#F2B1A4",
           "#F2C4A2",
           "#467196",
           "#8BB3D6",
           "#1748D1",
           "#CCE4F9",
           "#235077",
           "#5F67DD",
           "#0F4777",
           "#9D9CE8",
           "#EF3054",
           "#B2B09B",
           "#254441",
           "#FF6F59",
           "#41B5A3",
           "#F0F3BD",
           "#02C39A",
           "#9FD35C",
           "#028090",
           "#05668D",
           "#000000",
           "#C6000D",
           "#E89005",
           "#377771",
           "#ED6A5E",
           "#FF8E72",
           "#FFAF87",
           "#41B5A3"
          ]
         },
         "name": "Company size distribution",
         "textfont": {
          "color": "#FFFFFF"
         },
         "type": "pie",
         "values": [
          16996,
          14011,
          9757,
          8007,
          7634,
          7479,
          4630,
          3017
         ]
        }
       ],
       "layout": {
        "annotations": [
         {
          "font": {
           "size": 15
          },
          "showarrow": false,
          "text": "Company Size",
          "x": 0.47,
          "y": 0.5
         }
        ],
        "title": "Company size distribution"
       }
      },
      "text/html": [
       "<div id=\"0c9e0173-7ce8-44ec-b6bf-a922998999c1\" style=\"height: 525px; width: 100%;\" class=\"plotly-graph-div\"></div><script type=\"text/javascript\">require([\"plotly\"], function(Plotly) { window.PLOTLYENV=window.PLOTLYENV || {};window.PLOTLYENV.BASE_URL=\"https://plot.ly\";Plotly.newPlot(\"0c9e0173-7ce8-44ec-b6bf-a922998999c1\", [{\"domain\": {\"x\": [0, 0.95]}, \"name\": \"Company size distribution\", \"labels\": [\"20 to 99 employees\", \"100 to 499 employees\", \"10,000 or more employees\", \"10 to 19 employees\", \"1,000 to 4,999 employees\", \"Fewer than 10 employees\", \"500 to 999 employees\", \"5,000 to 9,999 employees\"], \"textfont\": {\"color\": \"#FFFFFF\"}, \"values\": [16996, 14011, 9757, 8007, 7634, 7479, 4630, 3017], \"hoverinfo\": \"label+percent+name\", \"marker\": {\"colors\": [\"#330C25\", \"#C42746\", \"#F2B1A4\", \"#F2C4A2\", \"#467196\", \"#8BB3D6\", \"#1748D1\", \"#CCE4F9\", \"#235077\", \"#5F67DD\", \"#0F4777\", \"#9D9CE8\", \"#EF3054\", \"#B2B09B\", \"#254441\", \"#FF6F59\", \"#41B5A3\", \"#F0F3BD\", \"#02C39A\", \"#9FD35C\", \"#028090\", \"#05668D\", \"#000000\", \"#C6000D\", \"#E89005\", \"#377771\", \"#ED6A5E\", \"#FF8E72\", \"#FFAF87\", \"#41B5A3\", \"#330C25\", \"#C42746\", \"#F2B1A4\", \"#F2C4A2\", \"#467196\", \"#8BB3D6\", \"#1748D1\", \"#CCE4F9\", \"#235077\", \"#5F67DD\", \"#0F4777\", \"#9D9CE8\", \"#EF3054\", \"#B2B09B\", \"#254441\", \"#FF6F59\", \"#41B5A3\", \"#F0F3BD\", \"#02C39A\", \"#9FD35C\", \"#028090\", \"#05668D\", \"#000000\", \"#C6000D\", \"#E89005\", \"#377771\", \"#ED6A5E\", \"#FF8E72\", \"#FFAF87\", \"#41B5A3\"]}, \"hole\": 0.7, \"type\": \"pie\"}], {\"annotations\": [{\"y\": 0.5, \"text\": \"Company Size\", \"font\": {\"size\": 15}, \"showarrow\": false, \"x\": 0.47}], \"title\": \"Company size distribution\"}, {\"linkText\": \"Export to plot.ly\", \"showLink\": true})});</script>"
      ],
      "text/vnd.plotly.v1+html": [
       "<div id=\"0c9e0173-7ce8-44ec-b6bf-a922998999c1\" style=\"height: 525px; width: 100%;\" class=\"plotly-graph-div\"></div><script type=\"text/javascript\">require([\"plotly\"], function(Plotly) { window.PLOTLYENV=window.PLOTLYENV || {};window.PLOTLYENV.BASE_URL=\"https://plot.ly\";Plotly.newPlot(\"0c9e0173-7ce8-44ec-b6bf-a922998999c1\", [{\"domain\": {\"x\": [0, 0.95]}, \"name\": \"Company size distribution\", \"labels\": [\"20 to 99 employees\", \"100 to 499 employees\", \"10,000 or more employees\", \"10 to 19 employees\", \"1,000 to 4,999 employees\", \"Fewer than 10 employees\", \"500 to 999 employees\", \"5,000 to 9,999 employees\"], \"textfont\": {\"color\": \"#FFFFFF\"}, \"values\": [16996, 14011, 9757, 8007, 7634, 7479, 4630, 3017], \"hoverinfo\": \"label+percent+name\", \"marker\": {\"colors\": [\"#330C25\", \"#C42746\", \"#F2B1A4\", \"#F2C4A2\", \"#467196\", \"#8BB3D6\", \"#1748D1\", \"#CCE4F9\", \"#235077\", \"#5F67DD\", \"#0F4777\", \"#9D9CE8\", \"#EF3054\", \"#B2B09B\", \"#254441\", \"#FF6F59\", \"#41B5A3\", \"#F0F3BD\", \"#02C39A\", \"#9FD35C\", \"#028090\", \"#05668D\", \"#000000\", \"#C6000D\", \"#E89005\", \"#377771\", \"#ED6A5E\", \"#FF8E72\", \"#FFAF87\", \"#41B5A3\", \"#330C25\", \"#C42746\", \"#F2B1A4\", \"#F2C4A2\", \"#467196\", \"#8BB3D6\", \"#1748D1\", \"#CCE4F9\", \"#235077\", \"#5F67DD\", \"#0F4777\", \"#9D9CE8\", \"#EF3054\", \"#B2B09B\", \"#254441\", \"#FF6F59\", \"#41B5A3\", \"#F0F3BD\", \"#02C39A\", \"#9FD35C\", \"#028090\", \"#05668D\", \"#000000\", \"#C6000D\", \"#E89005\", \"#377771\", \"#ED6A5E\", \"#FF8E72\", \"#FFAF87\", \"#41B5A3\"]}, \"hole\": 0.7, \"type\": \"pie\"}], {\"annotations\": [{\"y\": 0.5, \"text\": \"Company Size\", \"font\": {\"size\": 15}, \"showarrow\": false, \"x\": 0.47}], \"title\": \"Company size distribution\"}, {\"linkText\": \"Export to plot.ly\", \"showLink\": true})});</script>"
      ]
     },
     "metadata": {},
     "output_type": "display_data"
    }
   ],
   "source": [
    "donut_graph(data[\"CompanySize\"],\"Company Size\", \"Company size distribution\")"
   ]
  },
  {
   "cell_type": "markdown",
   "metadata": {},
   "source": [
    "Number of people are employed by the company or organization they work for :\n",
    "\n",
    "Around 10 % people work in company or organization having Fewer than 10 employees.\n",
    "\n",
    "Around 11 % people work in company or organization having 10 to 19 employees.\n",
    "\n",
    "Around 24 % people work in company or organization having 22 to 99 employees.\n",
    "\n",
    "Around 20 % people work in company or organization having 100 to 499 employees.\n",
    "\n",
    "Around 7 % people work in company or organization having 500 to 999 employees.\n",
    "\n",
    "Around 11 % people work in company or organization having 1,000 to 4,999 employees.\n",
    "\n",
    "Around 4 % people work in company or organization having 5,000 to 9,999 employees.\n",
    "\n",
    "Around 14 % people work in company or organization having 10,000 or employees."
   ]
  },
  {
   "cell_type": "markdown",
   "metadata": {},
   "source": [
    "### Frequency distribution of Undergraduate Major"
   ]
  },
  {
   "cell_type": "code",
   "execution_count": 15,
   "metadata": {},
   "outputs": [
    {
     "data": {
      "text/plain": [
       "Text(0.5,1,'Frequency distribution of Undergraduate Major')"
      ]
     },
     "execution_count": 15,
     "metadata": {},
     "output_type": "execute_result"
    },
    {
     "data": {
      "image/png": "[encoded data removed]",
      "text/plain": [
       "<Figure size 360x576 with 1 Axes>"
      ]
     },
     "metadata": {},
     "output_type": "display_data"
    }
   ],
   "source": [
    "plt.figure(figsize=(5,8))\n",
    "ax = sns.countplot(y = data[\"UndergradMajor\"],order=data[\"UndergradMajor\"].value_counts().index,color=\"black\",linewidth=2,edgecolor=[\"white\"]*data[\"UndergradMajor\"].nunique())\n",
    "plt.title(\"Frequency distribution of Undergraduate Major\")"
   ]
  },
  {
   "cell_type": "markdown",
   "metadata": {},
   "source": [
    "Main field of study of Developers : \n",
    "\n",
    "Majority of the Developers (63.7 %) having Computer Science, Computer engineering or Software engineering field of \n",
    "\n",
    "8.79 % Developers having engineering discipline(ex. civil, electrical or mechanical) \n",
    "\n",
    "8.23 % Developers having Information Systems, Information Tecnology or system administration. \n",
    "\n",
    "Approx 1 % Developers never declared their field of study."
   ]
  },
  {
   "cell_type": "markdown",
   "metadata": {},
   "source": [
    "### Frequency distribution of developer types"
   ]
  },
  {
   "cell_type": "code",
   "execution_count": 16,
   "metadata": {},
   "outputs": [
    {
     "data": {
      "image/png": "[encoded data removed]",
      "text/plain": [
       "<Figure size 648x720 with 1 Axes>"
      ]
     },
     "metadata": {},
     "output_type": "display_data"
    }
   ],
   "source": [
    "dev = data[\"DevType\"].str.split(\";\",expand=True)\n",
    "dev = dev.fillna(0)\n",
    "dev_new = pd.concat([dev[0],dev[1],dev[2],dev[3],dev[4],dev[5],dev[6],dev[7],dev[8],dev[9],dev[10],\n",
    "                    dev[11],dev[12],dev[13],dev[14],dev[15],dev[16],dev[17],dev[18],dev[19]],axis=0).to_frame()\n",
    "dev_new = dev_new[dev_new[0] != 0]\n",
    "dev_vc  = dev_new[0].value_counts().reset_index()\n",
    "\n",
    "fig = plt.figure(figsize=(9,10))\n",
    "ax = sns.barplot(dev_vc[0],dev_vc[\"index\"],color=\"red\",linewidth=2,edgecolor=[\"r\"]*dev_vc[\"index\"].nunique())\n",
    "ax.set_xlabel(\"count\")\n",
    "ax.set_ylabel(\"Developer type\")\n",
    "ax.set_title(\"Frequency distribution of developer types in respondents\")\n",
    "plt.show()"
   ]
  },
  {
   "cell_type": "markdown",
   "metadata": {},
   "source": [
    "Description of peoples who participated in the survey :\n",
    "\n",
    "Around 19% peoples are Back-end developers.\n",
    "\n",
    "Around 16% peoples are Full-stack developers.\n",
    "\n",
    "Around 13% peoples are Front-end developers.\n",
    "\n",
    "Around 7% peoples are Mobile developer.\n",
    "\n",
    "Around 6% peoples are Desktop or enterprise application developer.\n",
    "\n",
    "Around 6% peoples are Student."
   ]
  },
  {
   "cell_type": "code",
   "execution_count": 17,
   "metadata": {},
   "outputs": [],
   "source": [
    "# from see: Barcharts https://plot.ly/python/bar-charts/\n",
    "from collections import OrderedDict\n",
    "def horizontarBar(v,orient):\n",
    "    d = {}\n",
    "    for type in v:\n",
    "        type = str(type).split(';') #splitting values of columns that are separated with ;\n",
    "        for i in type: \n",
    "            if i in d:\n",
    "                d[i] = d[i] + 1\n",
    "            else:\n",
    "                d[i] = 0\n",
    "    d = sorted(d.items(), key=operator.itemgetter(1))\n",
    "    if orient == 'v':\n",
    "        d = list(reversed(d))\n",
    "#     print d\n",
    "#     d = dict(d)\n",
    "    d= OrderedDict(d)\n",
    "    if orient == 'v':\n",
    "        Y = list(d.values())\n",
    "        X = list(d.keys())\n",
    "    else: \n",
    "        Y = list(d.keys())\n",
    "        X = list(d.values())\n",
    "    trace = [go.Bar(\n",
    "                y=Y,\n",
    "                x=X,\n",
    "                orientation = orient,\n",
    "                marker=dict(color=color_brewer),\n",
    "    )]\n",
    "    layout = go.Layout(\n",
    "        margin = go.Margin(\n",
    "            l = 600 if orient == 'h' else 50\n",
    "        )\n",
    "    )\n",
    "    \n",
    "    fig = go.Figure(data=trace, layout=layout)\n",
    "    iplot(fig)"
   ]
  },
  {
   "cell_type": "markdown",
   "metadata": {},
   "source": [
    "### Most popular/used Programming Languages"
   ]
  },
  {
   "cell_type": "code",
   "execution_count": 18,
   "metadata": {},
   "outputs": [
    {
     "data": {
      "application/vnd.plotly.v1+json": {
       "data": [
        {
         "marker": {
          "color": [
           "#41B5A3",
           "#FFAF87",
           "#FF8E72",
           "#ED6A5E",
           "#377771",
           "#E89005",
           "#C6000D",
           "#000000",
           "#05668D",
           "#028090",
           "#9FD35C",
           "#02C39A",
           "#F0F3BD",
           "#41B5A3",
           "#FF6F59",
           "#254441",
           "#B2B09B",
           "#EF3054",
           "#9D9CE8",
           "#0F4777",
           "#5F67DD",
           "#235077",
           "#CCE4F9",
           "#1748D1",
           "#8BB3D6",
           "#467196",
           "#F2C4A2",
           "#F2B1A4",
           "#C42746",
           "#330C25",
           "#41B5A3",
           "#FFAF87",
           "#FF8E72",
           "#ED6A5E",
           "#377771",
           "#E89005",
           "#C6000D",
           "#000000",
           "#05668D",
           "#028090",
           "#9FD35C",
           "#02C39A",
           "#F0F3BD",
           "#41B5A3",
           "#FF6F59",
           "#254441",
           "#B2B09B",
           "#EF3054",
           "#9D9CE8",
           "#0F4777",
           "#5F67DD",
           "#235077",
           "#CCE4F9",
           "#1748D1",
           "#8BB3D6",
           "#467196",
           "#F2C4A2",
           "#F2B1A4",
           "#C42746",
           "#330C25"
          ]
         },
         "orientation": "v",
         "type": "bar",
         "x": [
          "JavaScript",
          "HTML",
          "CSS",
          "SQL",
          "Java",
          "Bash/Shell",
          "Python",
          "C#",
          "PHP",
          "C++",
          "C",
          "TypeScript",
          "Ruby",
          "Swift",
          "Assembly",
          "Go",
          "Objective-C",
          "VB.NET",
          "R",
          "Matlab",
          "VBA",
          "Kotlin",
          "Scala",
          "Groovy",
          "Perl",
          "Visual Basic 6",
          "Lua",
          "CoffeeScript",
          "Delphi/Object Pascal",
          "Haskell",
          "Rust",
          "F#",
          "Clojure",
          "Erlang",
          "Cobol",
          "Ocaml",
          "Julia",
          "Hack"
         ],
         "y": [
          54685,
          53627,
          50978,
          44669,
          35520,
          31171,
          30358,
          26953,
          24070,
          19871,
          18041,
          13625,
          7910,
          6309,
          5759,
          5531,
          5509,
          5253,
          4812,
          4563,
          3809,
          3507,
          3419,
          3372,
          3279,
          3086,
          2732,
          2602,
          2024,
          1960,
          1856,
          1114,
          1031,
          885,
          589,
          469,
          429,
          253
         ]
        }
       ],
       "layout": {
        "margin": {
         "l": 50
        }
       }
      },
      "text/html": [
       "<div id=\"43481d03-c0c3-40b5-b3c7-a1dcf5086bfd\" style=\"height: 525px; width: 100%;\" class=\"plotly-graph-div\"></div><script type=\"text/javascript\">require([\"plotly\"], function(Plotly) { window.PLOTLYENV=window.PLOTLYENV || {};window.PLOTLYENV.BASE_URL=\"https://plot.ly\";Plotly.newPlot(\"43481d03-c0c3-40b5-b3c7-a1dcf5086bfd\", [{\"marker\": {\"color\": [\"#41B5A3\", \"#FFAF87\", \"#FF8E72\", \"#ED6A5E\", \"#377771\", \"#E89005\", \"#C6000D\", \"#000000\", \"#05668D\", \"#028090\", \"#9FD35C\", \"#02C39A\", \"#F0F3BD\", \"#41B5A3\", \"#FF6F59\", \"#254441\", \"#B2B09B\", \"#EF3054\", \"#9D9CE8\", \"#0F4777\", \"#5F67DD\", \"#235077\", \"#CCE4F9\", \"#1748D1\", \"#8BB3D6\", \"#467196\", \"#F2C4A2\", \"#F2B1A4\", \"#C42746\", \"#330C25\", \"#41B5A3\", \"#FFAF87\", \"#FF8E72\", \"#ED6A5E\", \"#377771\", \"#E89005\", \"#C6000D\", \"#000000\", \"#05668D\", \"#028090\", \"#9FD35C\", \"#02C39A\", \"#F0F3BD\", \"#41B5A3\", \"#FF6F59\", \"#254441\", \"#B2B09B\", \"#EF3054\", \"#9D9CE8\", \"#0F4777\", \"#5F67DD\", \"#235077\", \"#CCE4F9\", \"#1748D1\", \"#8BB3D6\", \"#467196\", \"#F2C4A2\", \"#F2B1A4\", \"#C42746\", \"#330C25\"]}, \"y\": [54685, 53627, 50978, 44669, 35520, 31171, 30358, 26953, 24070, 19871, 18041, 13625, 7910, 6309, 5759, 5531, 5509, 5253, 4812, 4563, 3809, 3507, 3419, 3372, 3279, 3086, 2732, 2602, 2024, 1960, 1856, 1114, 1031, 885, 589, 469, 429, 253], \"type\": \"bar\", \"orientation\": \"v\", \"x\": [\"JavaScript\", \"HTML\", \"CSS\", \"SQL\", \"Java\", \"Bash/Shell\", \"Python\", \"C#\", \"PHP\", \"C++\", \"C\", \"TypeScript\", \"Ruby\", \"Swift\", \"Assembly\", \"Go\", \"Objective-C\", \"VB.NET\", \"R\", \"Matlab\", \"VBA\", \"Kotlin\", \"Scala\", \"Groovy\", \"Perl\", \"Visual Basic 6\", \"Lua\", \"CoffeeScript\", \"Delphi/Object Pascal\", \"Haskell\", \"Rust\", \"F#\", \"Clojure\", \"Erlang\", \"Cobol\", \"Ocaml\", \"Julia\", \"Hack\"]}], {\"margin\": {\"l\": 50}}, {\"linkText\": \"Export to plot.ly\", \"showLink\": true})});</script>"
      ],
      "text/vnd.plotly.v1+html": [
       "<div id=\"43481d03-c0c3-40b5-b3c7-a1dcf5086bfd\" style=\"height: 525px; width: 100%;\" class=\"plotly-graph-div\"></div><script type=\"text/javascript\">require([\"plotly\"], function(Plotly) { window.PLOTLYENV=window.PLOTLYENV || {};window.PLOTLYENV.BASE_URL=\"https://plot.ly\";Plotly.newPlot(\"43481d03-c0c3-40b5-b3c7-a1dcf5086bfd\", [{\"marker\": {\"color\": [\"#41B5A3\", \"#FFAF87\", \"#FF8E72\", \"#ED6A5E\", \"#377771\", \"#E89005\", \"#C6000D\", \"#000000\", \"#05668D\", \"#028090\", \"#9FD35C\", \"#02C39A\", \"#F0F3BD\", \"#41B5A3\", \"#FF6F59\", \"#254441\", \"#B2B09B\", \"#EF3054\", \"#9D9CE8\", \"#0F4777\", \"#5F67DD\", \"#235077\", \"#CCE4F9\", \"#1748D1\", \"#8BB3D6\", \"#467196\", \"#F2C4A2\", \"#F2B1A4\", \"#C42746\", \"#330C25\", \"#41B5A3\", \"#FFAF87\", \"#FF8E72\", \"#ED6A5E\", \"#377771\", \"#E89005\", \"#C6000D\", \"#000000\", \"#05668D\", \"#028090\", \"#9FD35C\", \"#02C39A\", \"#F0F3BD\", \"#41B5A3\", \"#FF6F59\", \"#254441\", \"#B2B09B\", \"#EF3054\", \"#9D9CE8\", \"#0F4777\", \"#5F67DD\", \"#235077\", \"#CCE4F9\", \"#1748D1\", \"#8BB3D6\", \"#467196\", \"#F2C4A2\", \"#F2B1A4\", \"#C42746\", \"#330C25\"]}, \"y\": [54685, 53627, 50978, 44669, 35520, 31171, 30358, 26953, 24070, 19871, 18041, 13625, 7910, 6309, 5759, 5531, 5509, 5253, 4812, 4563, 3809, 3507, 3419, 3372, 3279, 3086, 2732, 2602, 2024, 1960, 1856, 1114, 1031, 885, 589, 469, 429, 253], \"type\": \"bar\", \"orientation\": \"v\", \"x\": [\"JavaScript\", \"HTML\", \"CSS\", \"SQL\", \"Java\", \"Bash/Shell\", \"Python\", \"C#\", \"PHP\", \"C++\", \"C\", \"TypeScript\", \"Ruby\", \"Swift\", \"Assembly\", \"Go\", \"Objective-C\", \"VB.NET\", \"R\", \"Matlab\", \"VBA\", \"Kotlin\", \"Scala\", \"Groovy\", \"Perl\", \"Visual Basic 6\", \"Lua\", \"CoffeeScript\", \"Delphi/Object Pascal\", \"Haskell\", \"Rust\", \"F#\", \"Clojure\", \"Erlang\", \"Cobol\", \"Ocaml\", \"Julia\", \"Hack\"]}], {\"margin\": {\"l\": 50}}, {\"linkText\": \"Export to plot.ly\", \"showLink\": true})});</script>"
      ]
     },
     "metadata": {},
     "output_type": "display_data"
    }
   ],
   "source": [
    "horizontarBar(data[\"LanguageWorkedWith\"].dropna(),'v')"
   ]
  },
  {
   "cell_type": "markdown",
   "metadata": {},
   "source": [
    "### Languages developers desire to learn/work "
   ]
  },
  {
   "cell_type": "code",
   "execution_count": 19,
   "metadata": {},
   "outputs": [
    {
     "data": {
      "application/vnd.plotly.v1+json": {
       "data": [
        {
         "marker": {
          "color": [
           "#41B5A3",
           "#FFAF87",
           "#FF8E72",
           "#ED6A5E",
           "#377771",
           "#E89005",
           "#C6000D",
           "#000000",
           "#05668D",
           "#028090",
           "#9FD35C",
           "#02C39A",
           "#F0F3BD",
           "#41B5A3",
           "#FF6F59",
           "#254441",
           "#B2B09B",
           "#EF3054",
           "#9D9CE8",
           "#0F4777",
           "#5F67DD",
           "#235077",
           "#CCE4F9",
           "#1748D1",
           "#8BB3D6",
           "#467196",
           "#F2C4A2",
           "#F2B1A4",
           "#C42746",
           "#330C25",
           "#41B5A3",
           "#FFAF87",
           "#FF8E72",
           "#ED6A5E",
           "#377771",
           "#E89005",
           "#C6000D",
           "#000000",
           "#05668D",
           "#028090",
           "#9FD35C",
           "#02C39A",
           "#F0F3BD",
           "#41B5A3",
           "#FF6F59",
           "#254441",
           "#B2B09B",
           "#EF3054",
           "#9D9CE8",
           "#0F4777",
           "#5F67DD",
           "#235077",
           "#CCE4F9",
           "#1748D1",
           "#8BB3D6",
           "#467196",
           "#F2C4A2",
           "#F2B1A4",
           "#C42746",
           "#330C25"
          ]
         },
         "orientation": "v",
         "type": "bar",
         "x": [
          "JavaScript",
          "Python",
          "HTML",
          "CSS",
          "SQL",
          "Java",
          "Bash/Shell",
          "C#",
          "TypeScript",
          "Go",
          "C++",
          "PHP",
          "Kotlin",
          "C",
          "Swift",
          "Rust",
          "Ruby",
          "R",
          "Scala",
          "Haskell",
          "Assembly",
          "F#",
          "Objective-C",
          "Erlang",
          "Clojure",
          "Lua",
          "Matlab",
          "Groovy",
          "Perl",
          "CoffeeScript",
          "VB.NET",
          "Julia",
          "Ocaml",
          "VBA",
          "Delphi/Object Pascal",
          "Hack",
          "Visual Basic 6",
          "Cobol"
         ],
         "y": [
          38464,
          32794,
          31788,
          30198,
          28010,
          22555,
          20750,
          20418,
          16895,
          15528,
          15288,
          12243,
          11991,
          10315,
          9707,
          7856,
          7823,
          7040,
          6218,
          5116,
          4164,
          3751,
          3548,
          2759,
          2709,
          2335,
          2104,
          2044,
          1928,
          1855,
          1545,
          1353,
          1142,
          1066,
          1025,
          729,
          689,
          463
         ]
        }
       ],
       "layout": {
        "margin": {
         "l": 50
        }
       }
      },
      "text/html": [
       "<div id=\"3f396e33-4c9c-45cd-83f0-e8164cfc8de8\" style=\"height: 525px; width: 100%;\" class=\"plotly-graph-div\"></div><script type=\"text/javascript\">require([\"plotly\"], function(Plotly) { window.PLOTLYENV=window.PLOTLYENV || {};window.PLOTLYENV.BASE_URL=\"https://plot.ly\";Plotly.newPlot(\"3f396e33-4c9c-45cd-83f0-e8164cfc8de8\", [{\"marker\": {\"color\": [\"#41B5A3\", \"#FFAF87\", \"#FF8E72\", \"#ED6A5E\", \"#377771\", \"#E89005\", \"#C6000D\", \"#000000\", \"#05668D\", \"#028090\", \"#9FD35C\", \"#02C39A\", \"#F0F3BD\", \"#41B5A3\", \"#FF6F59\", \"#254441\", \"#B2B09B\", \"#EF3054\", \"#9D9CE8\", \"#0F4777\", \"#5F67DD\", \"#235077\", \"#CCE4F9\", \"#1748D1\", \"#8BB3D6\", \"#467196\", \"#F2C4A2\", \"#F2B1A4\", \"#C42746\", \"#330C25\", \"#41B5A3\", \"#FFAF87\", \"#FF8E72\", \"#ED6A5E\", \"#377771\", \"#E89005\", \"#C6000D\", \"#000000\", \"#05668D\", \"#028090\", \"#9FD35C\", \"#02C39A\", \"#F0F3BD\", \"#41B5A3\", \"#FF6F59\", \"#254441\", \"#B2B09B\", \"#EF3054\", \"#9D9CE8\", \"#0F4777\", \"#5F67DD\", \"#235077\", \"#CCE4F9\", \"#1748D1\", \"#8BB3D6\", \"#467196\", \"#F2C4A2\", \"#F2B1A4\", \"#C42746\", \"#330C25\"]}, \"y\": [38464, 32794, 31788, 30198, 28010, 22555, 20750, 20418, 16895, 15528, 15288, 12243, 11991, 10315, 9707, 7856, 7823, 7040, 6218, 5116, 4164, 3751, 3548, 2759, 2709, 2335, 2104, 2044, 1928, 1855, 1545, 1353, 1142, 1066, 1025, 729, 689, 463], \"type\": \"bar\", \"orientation\": \"v\", \"x\": [\"JavaScript\", \"Python\", \"HTML\", \"CSS\", \"SQL\", \"Java\", \"Bash/Shell\", \"C#\", \"TypeScript\", \"Go\", \"C++\", \"PHP\", \"Kotlin\", \"C\", \"Swift\", \"Rust\", \"Ruby\", \"R\", \"Scala\", \"Haskell\", \"Assembly\", \"F#\", \"Objective-C\", \"Erlang\", \"Clojure\", \"Lua\", \"Matlab\", \"Groovy\", \"Perl\", \"CoffeeScript\", \"VB.NET\", \"Julia\", \"Ocaml\", \"VBA\", \"Delphi/Object Pascal\", \"Hack\", \"Visual Basic 6\", \"Cobol\"]}], {\"margin\": {\"l\": 50}}, {\"linkText\": \"Export to plot.ly\", \"showLink\": true})});</script>"
      ],
      "text/vnd.plotly.v1+html": [
       "<div id=\"3f396e33-4c9c-45cd-83f0-e8164cfc8de8\" style=\"height: 525px; width: 100%;\" class=\"plotly-graph-div\"></div><script type=\"text/javascript\">require([\"plotly\"], function(Plotly) { window.PLOTLYENV=window.PLOTLYENV || {};window.PLOTLYENV.BASE_URL=\"https://plot.ly\";Plotly.newPlot(\"3f396e33-4c9c-45cd-83f0-e8164cfc8de8\", [{\"marker\": {\"color\": [\"#41B5A3\", \"#FFAF87\", \"#FF8E72\", \"#ED6A5E\", \"#377771\", \"#E89005\", \"#C6000D\", \"#000000\", \"#05668D\", \"#028090\", \"#9FD35C\", \"#02C39A\", \"#F0F3BD\", \"#41B5A3\", \"#FF6F59\", \"#254441\", \"#B2B09B\", \"#EF3054\", \"#9D9CE8\", \"#0F4777\", \"#5F67DD\", \"#235077\", \"#CCE4F9\", \"#1748D1\", \"#8BB3D6\", \"#467196\", \"#F2C4A2\", \"#F2B1A4\", \"#C42746\", \"#330C25\", \"#41B5A3\", \"#FFAF87\", \"#FF8E72\", \"#ED6A5E\", \"#377771\", \"#E89005\", \"#C6000D\", \"#000000\", \"#05668D\", \"#028090\", \"#9FD35C\", \"#02C39A\", \"#F0F3BD\", \"#41B5A3\", \"#FF6F59\", \"#254441\", \"#B2B09B\", \"#EF3054\", \"#9D9CE8\", \"#0F4777\", \"#5F67DD\", \"#235077\", \"#CCE4F9\", \"#1748D1\", \"#8BB3D6\", \"#467196\", \"#F2C4A2\", \"#F2B1A4\", \"#C42746\", \"#330C25\"]}, \"y\": [38464, 32794, 31788, 30198, 28010, 22555, 20750, 20418, 16895, 15528, 15288, 12243, 11991, 10315, 9707, 7856, 7823, 7040, 6218, 5116, 4164, 3751, 3548, 2759, 2709, 2335, 2104, 2044, 1928, 1855, 1545, 1353, 1142, 1066, 1025, 729, 689, 463], \"type\": \"bar\", \"orientation\": \"v\", \"x\": [\"JavaScript\", \"Python\", \"HTML\", \"CSS\", \"SQL\", \"Java\", \"Bash/Shell\", \"C#\", \"TypeScript\", \"Go\", \"C++\", \"PHP\", \"Kotlin\", \"C\", \"Swift\", \"Rust\", \"Ruby\", \"R\", \"Scala\", \"Haskell\", \"Assembly\", \"F#\", \"Objective-C\", \"Erlang\", \"Clojure\", \"Lua\", \"Matlab\", \"Groovy\", \"Perl\", \"CoffeeScript\", \"VB.NET\", \"Julia\", \"Ocaml\", \"VBA\", \"Delphi/Object Pascal\", \"Hack\", \"Visual Basic 6\", \"Cobol\"]}], {\"margin\": {\"l\": 50}}, {\"linkText\": \"Export to plot.ly\", \"showLink\": true})});</script>"
      ]
     },
     "metadata": {},
     "output_type": "display_data"
    }
   ],
   "source": [
    "horizontarBar(data[\"LanguageDesireNextYear\"].dropna(),'v')"
   ]
  },
  {
   "cell_type": "markdown",
   "metadata": {},
   "source": [
    "JavaScript is the most popular language on which developer worked and want to work in over the next year. Python is most in-demand language on which developers want to work "
   ]
  },
  {
   "cell_type": "markdown",
   "metadata": {},
   "source": [
    "### Most popular/used databases"
   ]
  },
  {
   "cell_type": "code",
   "execution_count": 20,
   "metadata": {},
   "outputs": [
    {
     "data": {
      "application/vnd.plotly.v1+json": {
       "data": [
        {
         "marker": {
          "color": [
           "#41B5A3",
           "#FFAF87",
           "#FF8E72",
           "#ED6A5E",
           "#377771",
           "#E89005",
           "#C6000D",
           "#000000",
           "#05668D",
           "#028090",
           "#9FD35C",
           "#02C39A",
           "#F0F3BD",
           "#41B5A3",
           "#FF6F59",
           "#254441",
           "#B2B09B",
           "#EF3054",
           "#9D9CE8",
           "#0F4777",
           "#5F67DD",
           "#235077",
           "#CCE4F9",
           "#1748D1",
           "#8BB3D6",
           "#467196",
           "#F2C4A2",
           "#F2B1A4",
           "#C42746",
           "#330C25",
           "#41B5A3",
           "#FFAF87",
           "#FF8E72",
           "#ED6A5E",
           "#377771",
           "#E89005",
           "#C6000D",
           "#000000",
           "#05668D",
           "#028090",
           "#9FD35C",
           "#02C39A",
           "#F0F3BD",
           "#41B5A3",
           "#FF6F59",
           "#254441",
           "#B2B09B",
           "#EF3054",
           "#9D9CE8",
           "#0F4777",
           "#5F67DD",
           "#235077",
           "#CCE4F9",
           "#1748D1",
           "#8BB3D6",
           "#467196",
           "#F2C4A2",
           "#F2B1A4",
           "#C42746",
           "#330C25"
          ]
         },
         "orientation": "v",
         "type": "bar",
         "x": [
          "MySQL",
          "SQL Server",
          "PostgreSQL",
          "MongoDB",
          "SQLite",
          "Redis",
          "Elasticsearch",
          "MariaDB",
          "Oracle",
          "Microsoft Azure (Tables, CosmosDB, SQL, etc)",
          "Google Cloud Storage",
          "Memcached",
          "Amazon DynamoDB",
          "Amazon RDS/Aurora",
          "Cassandra",
          "IBM Db2",
          "Neo4j",
          "Amazon Redshift",
          "Apache Hive",
          "Google BigQuery",
          "Apache HBase"
         ],
         "y": [
          38908,
          27292,
          21775,
          17182,
          13035,
          11943,
          9311,
          8852,
          7375,
          5202,
          3633,
          3614,
          3453,
          3387,
          2443,
          1676,
          1571,
          1463,
          1437,
          1383,
          1106
         ]
        }
       ],
       "layout": {
        "margin": {
         "l": 50
        }
       }
      },
      "text/html": [
       "<div id=\"ff542a55-1fbc-442c-97c7-027d010028af\" style=\"height: 525px; width: 100%;\" class=\"plotly-graph-div\"></div><script type=\"text/javascript\">require([\"plotly\"], function(Plotly) { window.PLOTLYENV=window.PLOTLYENV || {};window.PLOTLYENV.BASE_URL=\"https://plot.ly\";Plotly.newPlot(\"ff542a55-1fbc-442c-97c7-027d010028af\", [{\"marker\": {\"color\": [\"#41B5A3\", \"#FFAF87\", \"#FF8E72\", \"#ED6A5E\", \"#377771\", \"#E89005\", \"#C6000D\", \"#000000\", \"#05668D\", \"#028090\", \"#9FD35C\", \"#02C39A\", \"#F0F3BD\", \"#41B5A3\", \"#FF6F59\", \"#254441\", \"#B2B09B\", \"#EF3054\", \"#9D9CE8\", \"#0F4777\", \"#5F67DD\", \"#235077\", \"#CCE4F9\", \"#1748D1\", \"#8BB3D6\", \"#467196\", \"#F2C4A2\", \"#F2B1A4\", \"#C42746\", \"#330C25\", \"#41B5A3\", \"#FFAF87\", \"#FF8E72\", \"#ED6A5E\", \"#377771\", \"#E89005\", \"#C6000D\", \"#000000\", \"#05668D\", \"#028090\", \"#9FD35C\", \"#02C39A\", \"#F0F3BD\", \"#41B5A3\", \"#FF6F59\", \"#254441\", \"#B2B09B\", \"#EF3054\", \"#9D9CE8\", \"#0F4777\", \"#5F67DD\", \"#235077\", \"#CCE4F9\", \"#1748D1\", \"#8BB3D6\", \"#467196\", \"#F2C4A2\", \"#F2B1A4\", \"#C42746\", \"#330C25\"]}, \"y\": [38908, 27292, 21775, 17182, 13035, 11943, 9311, 8852, 7375, 5202, 3633, 3614, 3453, 3387, 2443, 1676, 1571, 1463, 1437, 1383, 1106], \"type\": \"bar\", \"orientation\": \"v\", \"x\": [\"MySQL\", \"SQL Server\", \"PostgreSQL\", \"MongoDB\", \"SQLite\", \"Redis\", \"Elasticsearch\", \"MariaDB\", \"Oracle\", \"Microsoft Azure (Tables, CosmosDB, SQL, etc)\", \"Google Cloud Storage\", \"Memcached\", \"Amazon DynamoDB\", \"Amazon RDS/Aurora\", \"Cassandra\", \"IBM Db2\", \"Neo4j\", \"Amazon Redshift\", \"Apache Hive\", \"Google BigQuery\", \"Apache HBase\"]}], {\"margin\": {\"l\": 50}}, {\"linkText\": \"Export to plot.ly\", \"showLink\": true})});</script>"
      ],
      "text/vnd.plotly.v1+html": [
       "<div id=\"ff542a55-1fbc-442c-97c7-027d010028af\" style=\"height: 525px; width: 100%;\" class=\"plotly-graph-div\"></div><script type=\"text/javascript\">require([\"plotly\"], function(Plotly) { window.PLOTLYENV=window.PLOTLYENV || {};window.PLOTLYENV.BASE_URL=\"https://plot.ly\";Plotly.newPlot(\"ff542a55-1fbc-442c-97c7-027d010028af\", [{\"marker\": {\"color\": [\"#41B5A3\", \"#FFAF87\", \"#FF8E72\", \"#ED6A5E\", \"#377771\", \"#E89005\", \"#C6000D\", \"#000000\", \"#05668D\", \"#028090\", \"#9FD35C\", \"#02C39A\", \"#F0F3BD\", \"#41B5A3\", \"#FF6F59\", \"#254441\", \"#B2B09B\", \"#EF3054\", \"#9D9CE8\", \"#0F4777\", \"#5F67DD\", \"#235077\", \"#CCE4F9\", \"#1748D1\", \"#8BB3D6\", \"#467196\", \"#F2C4A2\", \"#F2B1A4\", \"#C42746\", \"#330C25\", \"#41B5A3\", \"#FFAF87\", \"#FF8E72\", \"#ED6A5E\", \"#377771\", \"#E89005\", \"#C6000D\", \"#000000\", \"#05668D\", \"#028090\", \"#9FD35C\", \"#02C39A\", \"#F0F3BD\", \"#41B5A3\", \"#FF6F59\", \"#254441\", \"#B2B09B\", \"#EF3054\", \"#9D9CE8\", \"#0F4777\", \"#5F67DD\", \"#235077\", \"#CCE4F9\", \"#1748D1\", \"#8BB3D6\", \"#467196\", \"#F2C4A2\", \"#F2B1A4\", \"#C42746\", \"#330C25\"]}, \"y\": [38908, 27292, 21775, 17182, 13035, 11943, 9311, 8852, 7375, 5202, 3633, 3614, 3453, 3387, 2443, 1676, 1571, 1463, 1437, 1383, 1106], \"type\": \"bar\", \"orientation\": \"v\", \"x\": [\"MySQL\", \"SQL Server\", \"PostgreSQL\", \"MongoDB\", \"SQLite\", \"Redis\", \"Elasticsearch\", \"MariaDB\", \"Oracle\", \"Microsoft Azure (Tables, CosmosDB, SQL, etc)\", \"Google Cloud Storage\", \"Memcached\", \"Amazon DynamoDB\", \"Amazon RDS/Aurora\", \"Cassandra\", \"IBM Db2\", \"Neo4j\", \"Amazon Redshift\", \"Apache Hive\", \"Google BigQuery\", \"Apache HBase\"]}], {\"margin\": {\"l\": 50}}, {\"linkText\": \"Export to plot.ly\", \"showLink\": true})});</script>"
      ]
     },
     "metadata": {},
     "output_type": "display_data"
    }
   ],
   "source": [
    "horizontarBar(data[\"DatabaseWorkedWith\"].dropna(),'v')"
   ]
  },
  {
   "cell_type": "markdown",
   "metadata": {},
   "source": [
    "### Databases developers desire to learn/work"
   ]
  },
  {
   "cell_type": "code",
   "execution_count": 21,
   "metadata": {},
   "outputs": [
    {
     "data": {
      "application/vnd.plotly.v1+json": {
       "data": [
        {
         "marker": {
          "color": [
           "#41B5A3",
           "#FFAF87",
           "#FF8E72",
           "#ED6A5E",
           "#377771",
           "#E89005",
           "#C6000D",
           "#000000",
           "#05668D",
           "#028090",
           "#9FD35C",
           "#02C39A",
           "#F0F3BD",
           "#41B5A3",
           "#FF6F59",
           "#254441",
           "#B2B09B",
           "#EF3054",
           "#9D9CE8",
           "#0F4777",
           "#5F67DD",
           "#235077",
           "#CCE4F9",
           "#1748D1",
           "#8BB3D6",
           "#467196",
           "#F2C4A2",
           "#F2B1A4",
           "#C42746",
           "#330C25",
           "#41B5A3",
           "#FFAF87",
           "#FF8E72",
           "#ED6A5E",
           "#377771",
           "#E89005",
           "#C6000D",
           "#000000",
           "#05668D",
           "#028090",
           "#9FD35C",
           "#02C39A",
           "#F0F3BD",
           "#41B5A3",
           "#FF6F59",
           "#254441",
           "#B2B09B",
           "#EF3054",
           "#9D9CE8",
           "#0F4777",
           "#5F67DD",
           "#235077",
           "#CCE4F9",
           "#1748D1",
           "#8BB3D6",
           "#467196",
           "#F2C4A2",
           "#F2B1A4",
           "#C42746",
           "#330C25"
          ]
         },
         "orientation": "v",
         "type": "bar",
         "x": [
          "MySQL",
          "MongoDB",
          "PostgreSQL",
          "SQL Server",
          "Redis",
          "Elasticsearch",
          "SQLite",
          "Microsoft Azure (Tables, CosmosDB, SQL, etc)",
          "Google Cloud Storage",
          "MariaDB",
          "Amazon DynamoDB",
          "Cassandra",
          "Google BigQuery",
          "Amazon RDS/Aurora",
          "Oracle",
          "Neo4j",
          "Memcached",
          "Amazon Redshift",
          "Apache Hive",
          "Apache HBase",
          "IBM Db2"
         ],
         "y": [
          21964,
          20925,
          20012,
          16246,
          14187,
          14057,
          8422,
          8324,
          7514,
          7127,
          6060,
          5779,
          5035,
          4629,
          4350,
          3789,
          3586,
          3182,
          2652,
          2311,
          904
         ]
        }
       ],
       "layout": {
        "margin": {
         "l": 50
        }
       }
      },
      "text/html": [
       "<div id=\"b77af713-1288-4623-af86-c66c32d8c8ef\" style=\"height: 525px; width: 100%;\" class=\"plotly-graph-div\"></div><script type=\"text/javascript\">require([\"plotly\"], function(Plotly) { window.PLOTLYENV=window.PLOTLYENV || {};window.PLOTLYENV.BASE_URL=\"https://plot.ly\";Plotly.newPlot(\"b77af713-1288-4623-af86-c66c32d8c8ef\", [{\"marker\": {\"color\": [\"#41B5A3\", \"#FFAF87\", \"#FF8E72\", \"#ED6A5E\", \"#377771\", \"#E89005\", \"#C6000D\", \"#000000\", \"#05668D\", \"#028090\", \"#9FD35C\", \"#02C39A\", \"#F0F3BD\", \"#41B5A3\", \"#FF6F59\", \"#254441\", \"#B2B09B\", \"#EF3054\", \"#9D9CE8\", \"#0F4777\", \"#5F67DD\", \"#235077\", \"#CCE4F9\", \"#1748D1\", \"#8BB3D6\", \"#467196\", \"#F2C4A2\", \"#F2B1A4\", \"#C42746\", \"#330C25\", \"#41B5A3\", \"#FFAF87\", \"#FF8E72\", \"#ED6A5E\", \"#377771\", \"#E89005\", \"#C6000D\", \"#000000\", \"#05668D\", \"#028090\", \"#9FD35C\", \"#02C39A\", \"#F0F3BD\", \"#41B5A3\", \"#FF6F59\", \"#254441\", \"#B2B09B\", \"#EF3054\", \"#9D9CE8\", \"#0F4777\", \"#5F67DD\", \"#235077\", \"#CCE4F9\", \"#1748D1\", \"#8BB3D6\", \"#467196\", \"#F2C4A2\", \"#F2B1A4\", \"#C42746\", \"#330C25\"]}, \"y\": [21964, 20925, 20012, 16246, 14187, 14057, 8422, 8324, 7514, 7127, 6060, 5779, 5035, 4629, 4350, 3789, 3586, 3182, 2652, 2311, 904], \"type\": \"bar\", \"orientation\": \"v\", \"x\": [\"MySQL\", \"MongoDB\", \"PostgreSQL\", \"SQL Server\", \"Redis\", \"Elasticsearch\", \"SQLite\", \"Microsoft Azure (Tables, CosmosDB, SQL, etc)\", \"Google Cloud Storage\", \"MariaDB\", \"Amazon DynamoDB\", \"Cassandra\", \"Google BigQuery\", \"Amazon RDS/Aurora\", \"Oracle\", \"Neo4j\", \"Memcached\", \"Amazon Redshift\", \"Apache Hive\", \"Apache HBase\", \"IBM Db2\"]}], {\"margin\": {\"l\": 50}}, {\"linkText\": \"Export to plot.ly\", \"showLink\": true})});</script>"
      ],
      "text/vnd.plotly.v1+html": [
       "<div id=\"b77af713-1288-4623-af86-c66c32d8c8ef\" style=\"height: 525px; width: 100%;\" class=\"plotly-graph-div\"></div><script type=\"text/javascript\">require([\"plotly\"], function(Plotly) { window.PLOTLYENV=window.PLOTLYENV || {};window.PLOTLYENV.BASE_URL=\"https://plot.ly\";Plotly.newPlot(\"b77af713-1288-4623-af86-c66c32d8c8ef\", [{\"marker\": {\"color\": [\"#41B5A3\", \"#FFAF87\", \"#FF8E72\", \"#ED6A5E\", \"#377771\", \"#E89005\", \"#C6000D\", \"#000000\", \"#05668D\", \"#028090\", \"#9FD35C\", \"#02C39A\", \"#F0F3BD\", \"#41B5A3\", \"#FF6F59\", \"#254441\", \"#B2B09B\", \"#EF3054\", \"#9D9CE8\", \"#0F4777\", \"#5F67DD\", \"#235077\", \"#CCE4F9\", \"#1748D1\", \"#8BB3D6\", \"#467196\", \"#F2C4A2\", \"#F2B1A4\", \"#C42746\", \"#330C25\", \"#41B5A3\", \"#FFAF87\", \"#FF8E72\", \"#ED6A5E\", \"#377771\", \"#E89005\", \"#C6000D\", \"#000000\", \"#05668D\", \"#028090\", \"#9FD35C\", \"#02C39A\", \"#F0F3BD\", \"#41B5A3\", \"#FF6F59\", \"#254441\", \"#B2B09B\", \"#EF3054\", \"#9D9CE8\", \"#0F4777\", \"#5F67DD\", \"#235077\", \"#CCE4F9\", \"#1748D1\", \"#8BB3D6\", \"#467196\", \"#F2C4A2\", \"#F2B1A4\", \"#C42746\", \"#330C25\"]}, \"y\": [21964, 20925, 20012, 16246, 14187, 14057, 8422, 8324, 7514, 7127, 6060, 5779, 5035, 4629, 4350, 3789, 3586, 3182, 2652, 2311, 904], \"type\": \"bar\", \"orientation\": \"v\", \"x\": [\"MySQL\", \"MongoDB\", \"PostgreSQL\", \"SQL Server\", \"Redis\", \"Elasticsearch\", \"SQLite\", \"Microsoft Azure (Tables, CosmosDB, SQL, etc)\", \"Google Cloud Storage\", \"MariaDB\", \"Amazon DynamoDB\", \"Cassandra\", \"Google BigQuery\", \"Amazon RDS/Aurora\", \"Oracle\", \"Neo4j\", \"Memcached\", \"Amazon Redshift\", \"Apache Hive\", \"Apache HBase\", \"IBM Db2\"]}], {\"margin\": {\"l\": 50}}, {\"linkText\": \"Export to plot.ly\", \"showLink\": true})});</script>"
      ]
     },
     "metadata": {},
     "output_type": "display_data"
    }
   ],
   "source": [
    "horizontarBar(data[\"DatabaseDesireNextYear\"].dropna(),'v')"
   ]
  },
  {
   "cell_type": "markdown",
   "metadata": {},
   "source": [
    "MySQL is the most popular Database on which developer worked and want to work in over the next year. MongoDB is most in-demand Database on which developers want to work followed by PostgreSQL, SQLServer, redis and ElasticsSearch etc."
   ]
  },
  {
   "cell_type": "markdown",
   "metadata": {},
   "source": [
    "### What are the various learning tools employed by developers "
   ]
  },
  {
   "cell_type": "code",
   "execution_count": 22,
   "metadata": {},
   "outputs": [
    {
     "data": {
      "application/vnd.plotly.v1+json": {
       "data": [
        {
         "marker": {
          "color": [
           "#41B5A3",
           "#FFAF87",
           "#FF8E72",
           "#ED6A5E",
           "#377771",
           "#E89005",
           "#C6000D",
           "#000000",
           "#05668D",
           "#028090",
           "#9FD35C",
           "#02C39A",
           "#F0F3BD",
           "#41B5A3",
           "#FF6F59",
           "#254441",
           "#B2B09B",
           "#EF3054",
           "#9D9CE8",
           "#0F4777",
           "#5F67DD",
           "#235077",
           "#CCE4F9",
           "#1748D1",
           "#8BB3D6",
           "#467196",
           "#F2C4A2",
           "#F2B1A4",
           "#C42746",
           "#330C25",
           "#41B5A3",
           "#FFAF87",
           "#FF8E72",
           "#ED6A5E",
           "#377771",
           "#E89005",
           "#C6000D",
           "#000000",
           "#05668D",
           "#028090",
           "#9FD35C",
           "#02C39A",
           "#F0F3BD",
           "#41B5A3",
           "#FF6F59",
           "#254441",
           "#B2B09B",
           "#EF3054",
           "#9D9CE8",
           "#0F4777",
           "#5F67DD",
           "#235077",
           "#CCE4F9",
           "#1748D1",
           "#8BB3D6",
           "#467196",
           "#F2C4A2",
           "#F2B1A4",
           "#C42746",
           "#330C25"
          ]
         },
         "orientation": "h",
         "type": "bar",
         "x": [
          2372,
          9496,
          11119,
          11324,
          27561,
          28733,
          28779,
          47406,
          47614
         ],
         "y": [
          "Pre-scheduled tutoring or mentoring sessions with a friend or colleague",
          "Internal Wikis, chat rooms, or documentation set up by my company for employees",
          "Tapping your network of friends, family, and peers versed in the technology",
          "A college/university computer science or software engineering book",
          "The technology’s online help system",
          "Online developer communities other than Stack Overflow (ex. forums, listservs, IRC channels, etc.)",
          "A book or e-book from O’Reilly, Apress, or a similar publisher",
          "Questions & answers on Stack Overflow",
          "The official documentation and/or standards for the technology"
         ]
        }
       ],
       "layout": {
        "margin": {
         "l": 600
        }
       }
      },
      "text/html": [
       "<div id=\"117daa9b-544b-4091-a032-ae1e725f11f3\" style=\"height: 525px; width: 100%;\" class=\"plotly-graph-div\"></div><script type=\"text/javascript\">require([\"plotly\"], function(Plotly) { window.PLOTLYENV=window.PLOTLYENV || {};window.PLOTLYENV.BASE_URL=\"https://plot.ly\";Plotly.newPlot(\"117daa9b-544b-4091-a032-ae1e725f11f3\", [{\"marker\": {\"color\": [\"#41B5A3\", \"#FFAF87\", \"#FF8E72\", \"#ED6A5E\", \"#377771\", \"#E89005\", \"#C6000D\", \"#000000\", \"#05668D\", \"#028090\", \"#9FD35C\", \"#02C39A\", \"#F0F3BD\", \"#41B5A3\", \"#FF6F59\", \"#254441\", \"#B2B09B\", \"#EF3054\", \"#9D9CE8\", \"#0F4777\", \"#5F67DD\", \"#235077\", \"#CCE4F9\", \"#1748D1\", \"#8BB3D6\", \"#467196\", \"#F2C4A2\", \"#F2B1A4\", \"#C42746\", \"#330C25\", \"#41B5A3\", \"#FFAF87\", \"#FF8E72\", \"#ED6A5E\", \"#377771\", \"#E89005\", \"#C6000D\", \"#000000\", \"#05668D\", \"#028090\", \"#9FD35C\", \"#02C39A\", \"#F0F3BD\", \"#41B5A3\", \"#FF6F59\", \"#254441\", \"#B2B09B\", \"#EF3054\", \"#9D9CE8\", \"#0F4777\", \"#5F67DD\", \"#235077\", \"#CCE4F9\", \"#1748D1\", \"#8BB3D6\", \"#467196\", \"#F2C4A2\", \"#F2B1A4\", \"#C42746\", \"#330C25\"]}, \"y\": [\"Pre-scheduled tutoring or mentoring sessions with a friend or colleague\", \"Internal Wikis, chat rooms, or documentation set up by my company for employees\", \"Tapping your network of friends, family, and peers versed in the technology\", \"A college/university computer science or software engineering book\", \"The technology\\u2019s online help system\", \"Online developer communities other than Stack Overflow (ex. forums, listservs, IRC channels, etc.)\", \"A book or e-book from O\\u2019Reilly, Apress, or a similar publisher\", \"Questions & answers on Stack Overflow\", \"The official documentation and/or standards for the technology\"], \"type\": \"bar\", \"orientation\": \"h\", \"x\": [2372, 9496, 11119, 11324, 27561, 28733, 28779, 47406, 47614]}], {\"margin\": {\"l\": 600}}, {\"linkText\": \"Export to plot.ly\", \"showLink\": true})});</script>"
      ],
      "text/vnd.plotly.v1+html": [
       "<div id=\"117daa9b-544b-4091-a032-ae1e725f11f3\" style=\"height: 525px; width: 100%;\" class=\"plotly-graph-div\"></div><script type=\"text/javascript\">require([\"plotly\"], function(Plotly) { window.PLOTLYENV=window.PLOTLYENV || {};window.PLOTLYENV.BASE_URL=\"https://plot.ly\";Plotly.newPlot(\"117daa9b-544b-4091-a032-ae1e725f11f3\", [{\"marker\": {\"color\": [\"#41B5A3\", \"#FFAF87\", \"#FF8E72\", \"#ED6A5E\", \"#377771\", \"#E89005\", \"#C6000D\", \"#000000\", \"#05668D\", \"#028090\", \"#9FD35C\", \"#02C39A\", \"#F0F3BD\", \"#41B5A3\", \"#FF6F59\", \"#254441\", \"#B2B09B\", \"#EF3054\", \"#9D9CE8\", \"#0F4777\", \"#5F67DD\", \"#235077\", \"#CCE4F9\", \"#1748D1\", \"#8BB3D6\", \"#467196\", \"#F2C4A2\", \"#F2B1A4\", \"#C42746\", \"#330C25\", \"#41B5A3\", \"#FFAF87\", \"#FF8E72\", \"#ED6A5E\", \"#377771\", \"#E89005\", \"#C6000D\", \"#000000\", \"#05668D\", \"#028090\", \"#9FD35C\", \"#02C39A\", \"#F0F3BD\", \"#41B5A3\", \"#FF6F59\", \"#254441\", \"#B2B09B\", \"#EF3054\", \"#9D9CE8\", \"#0F4777\", \"#5F67DD\", \"#235077\", \"#CCE4F9\", \"#1748D1\", \"#8BB3D6\", \"#467196\", \"#F2C4A2\", \"#F2B1A4\", \"#C42746\", \"#330C25\"]}, \"y\": [\"Pre-scheduled tutoring or mentoring sessions with a friend or colleague\", \"Internal Wikis, chat rooms, or documentation set up by my company for employees\", \"Tapping your network of friends, family, and peers versed in the technology\", \"A college/university computer science or software engineering book\", \"The technology\\u2019s online help system\", \"Online developer communities other than Stack Overflow (ex. forums, listservs, IRC channels, etc.)\", \"A book or e-book from O\\u2019Reilly, Apress, or a similar publisher\", \"Questions & answers on Stack Overflow\", \"The official documentation and/or standards for the technology\"], \"type\": \"bar\", \"orientation\": \"h\", \"x\": [2372, 9496, 11119, 11324, 27561, 28733, 28779, 47406, 47614]}], {\"margin\": {\"l\": 600}}, {\"linkText\": \"Export to plot.ly\", \"showLink\": true})});</script>"
      ]
     },
     "metadata": {},
     "output_type": "display_data"
    }
   ],
   "source": [
    "horizontarBar(data[\"SelfTaughtTypes\"].dropna(),'h')"
   ]
  },
  {
   "cell_type": "markdown",
   "metadata": {},
   "source": [
    "Top resources used by peoples who taught yourself without taking a course :\n",
    "\n",
    "Approx. 47k Respondents said : The official documentation and/or standards for the technology\n",
    "\n",
    "Approx. 47k Respondents said : Q&A on the StackOverflow\n",
    "\n",
    "Approx. 28k Respondents said : A book or e-book from o'Reilly, Apress or a similar publisher\n",
    "    \n",
    "Approx. 28k Respondents said : Online developer communities other than StackOverflow(eg, forums, listservs, IRC Channels etc)\n",
    "\n",
    "Approx. 27k Respondents said :The technology's online help system\n",
    "\n",
    "Approx. 11k Respondents said : A college/University computer science or software engineering books"
   ]
  },
  {
   "cell_type": "markdown",
   "metadata": {},
   "source": [
    "### Most popular/used platforms"
   ]
  },
  {
   "cell_type": "code",
   "execution_count": 23,
   "metadata": {},
   "outputs": [
    {
     "data": {
      "application/vnd.plotly.v1+json": {
       "data": [
        {
         "marker": {
          "color": [
           "#41B5A3",
           "#FFAF87",
           "#FF8E72",
           "#ED6A5E",
           "#377771",
           "#E89005",
           "#C6000D",
           "#000000",
           "#05668D",
           "#028090",
           "#9FD35C",
           "#02C39A",
           "#F0F3BD",
           "#41B5A3",
           "#FF6F59",
           "#254441",
           "#B2B09B",
           "#EF3054",
           "#9D9CE8",
           "#0F4777",
           "#5F67DD",
           "#235077",
           "#CCE4F9",
           "#1748D1",
           "#8BB3D6",
           "#467196",
           "#F2C4A2",
           "#F2B1A4",
           "#C42746",
           "#330C25",
           "#41B5A3",
           "#FFAF87",
           "#FF8E72",
           "#ED6A5E",
           "#377771",
           "#E89005",
           "#C6000D",
           "#000000",
           "#05668D",
           "#028090",
           "#9FD35C",
           "#02C39A",
           "#F0F3BD",
           "#41B5A3",
           "#FF6F59",
           "#254441",
           "#B2B09B",
           "#EF3054",
           "#9D9CE8",
           "#0F4777",
           "#5F67DD",
           "#235077",
           "#CCE4F9",
           "#1748D1",
           "#8BB3D6",
           "#467196",
           "#F2C4A2",
           "#F2B1A4",
           "#C42746",
           "#330C25"
          ]
         },
         "orientation": "v",
         "type": "bar",
         "x": [
          "Linux",
          "Windows Desktop or Server",
          "Android",
          "AWS",
          "Mac OS",
          "Raspberry Pi",
          "WordPress",
          "iOS",
          "Firebase",
          "Azure",
          "Arduino",
          "Heroku",
          "Google Cloud Platform/App Engine",
          "Serverless",
          "Drupal",
          "Amazon Echo",
          "Windows Phone",
          "SharePoint",
          "ESP8266",
          "Salesforce",
          "Apple Watch or Apple TV",
          "IBM Cloud or Watson",
          "Google Home",
          "Gaming console",
          "Mainframe",
          "Predix"
         ],
         "y": [
          31858,
          23392,
          19156,
          15926,
          11821,
          10508,
          10485,
          10200,
          9574,
          7266,
          7005,
          6912,
          5301,
          2986,
          2009,
          1937,
          1799,
          1765,
          1465,
          1456,
          1265,
          949,
          891,
          849,
          532,
          109
         ]
        }
       ],
       "layout": {
        "margin": {
         "l": 50
        }
       }
      },
      "text/html": [
       "<div id=\"c6dd1649-8127-4656-b55d-d5e8d293e8c9\" style=\"height: 525px; width: 100%;\" class=\"plotly-graph-div\"></div><script type=\"text/javascript\">require([\"plotly\"], function(Plotly) { window.PLOTLYENV=window.PLOTLYENV || {};window.PLOTLYENV.BASE_URL=\"https://plot.ly\";Plotly.newPlot(\"c6dd1649-8127-4656-b55d-d5e8d293e8c9\", [{\"marker\": {\"color\": [\"#41B5A3\", \"#FFAF87\", \"#FF8E72\", \"#ED6A5E\", \"#377771\", \"#E89005\", \"#C6000D\", \"#000000\", \"#05668D\", \"#028090\", \"#9FD35C\", \"#02C39A\", \"#F0F3BD\", \"#41B5A3\", \"#FF6F59\", \"#254441\", \"#B2B09B\", \"#EF3054\", \"#9D9CE8\", \"#0F4777\", \"#5F67DD\", \"#235077\", \"#CCE4F9\", \"#1748D1\", \"#8BB3D6\", \"#467196\", \"#F2C4A2\", \"#F2B1A4\", \"#C42746\", \"#330C25\", \"#41B5A3\", \"#FFAF87\", \"#FF8E72\", \"#ED6A5E\", \"#377771\", \"#E89005\", \"#C6000D\", \"#000000\", \"#05668D\", \"#028090\", \"#9FD35C\", \"#02C39A\", \"#F0F3BD\", \"#41B5A3\", \"#FF6F59\", \"#254441\", \"#B2B09B\", \"#EF3054\", \"#9D9CE8\", \"#0F4777\", \"#5F67DD\", \"#235077\", \"#CCE4F9\", \"#1748D1\", \"#8BB3D6\", \"#467196\", \"#F2C4A2\", \"#F2B1A4\", \"#C42746\", \"#330C25\"]}, \"y\": [31858, 23392, 19156, 15926, 11821, 10508, 10485, 10200, 9574, 7266, 7005, 6912, 5301, 2986, 2009, 1937, 1799, 1765, 1465, 1456, 1265, 949, 891, 849, 532, 109], \"type\": \"bar\", \"orientation\": \"v\", \"x\": [\"Linux\", \"Windows Desktop or Server\", \"Android\", \"AWS\", \"Mac OS\", \"Raspberry Pi\", \"WordPress\", \"iOS\", \"Firebase\", \"Azure\", \"Arduino\", \"Heroku\", \"Google Cloud Platform/App Engine\", \"Serverless\", \"Drupal\", \"Amazon Echo\", \"Windows Phone\", \"SharePoint\", \"ESP8266\", \"Salesforce\", \"Apple Watch or Apple TV\", \"IBM Cloud or Watson\", \"Google Home\", \"Gaming console\", \"Mainframe\", \"Predix\"]}], {\"margin\": {\"l\": 50}}, {\"linkText\": \"Export to plot.ly\", \"showLink\": true})});</script>"
      ],
      "text/vnd.plotly.v1+html": [
       "<div id=\"c6dd1649-8127-4656-b55d-d5e8d293e8c9\" style=\"height: 525px; width: 100%;\" class=\"plotly-graph-div\"></div><script type=\"text/javascript\">require([\"plotly\"], function(Plotly) { window.PLOTLYENV=window.PLOTLYENV || {};window.PLOTLYENV.BASE_URL=\"https://plot.ly\";Plotly.newPlot(\"c6dd1649-8127-4656-b55d-d5e8d293e8c9\", [{\"marker\": {\"color\": [\"#41B5A3\", \"#FFAF87\", \"#FF8E72\", \"#ED6A5E\", \"#377771\", \"#E89005\", \"#C6000D\", \"#000000\", \"#05668D\", \"#028090\", \"#9FD35C\", \"#02C39A\", \"#F0F3BD\", \"#41B5A3\", \"#FF6F59\", \"#254441\", \"#B2B09B\", \"#EF3054\", \"#9D9CE8\", \"#0F4777\", \"#5F67DD\", \"#235077\", \"#CCE4F9\", \"#1748D1\", \"#8BB3D6\", \"#467196\", \"#F2C4A2\", \"#F2B1A4\", \"#C42746\", \"#330C25\", \"#41B5A3\", \"#FFAF87\", \"#FF8E72\", \"#ED6A5E\", \"#377771\", \"#E89005\", \"#C6000D\", \"#000000\", \"#05668D\", \"#028090\", \"#9FD35C\", \"#02C39A\", \"#F0F3BD\", \"#41B5A3\", \"#FF6F59\", \"#254441\", \"#B2B09B\", \"#EF3054\", \"#9D9CE8\", \"#0F4777\", \"#5F67DD\", \"#235077\", \"#CCE4F9\", \"#1748D1\", \"#8BB3D6\", \"#467196\", \"#F2C4A2\", \"#F2B1A4\", \"#C42746\", \"#330C25\"]}, \"y\": [31858, 23392, 19156, 15926, 11821, 10508, 10485, 10200, 9574, 7266, 7005, 6912, 5301, 2986, 2009, 1937, 1799, 1765, 1465, 1456, 1265, 949, 891, 849, 532, 109], \"type\": \"bar\", \"orientation\": \"v\", \"x\": [\"Linux\", \"Windows Desktop or Server\", \"Android\", \"AWS\", \"Mac OS\", \"Raspberry Pi\", \"WordPress\", \"iOS\", \"Firebase\", \"Azure\", \"Arduino\", \"Heroku\", \"Google Cloud Platform/App Engine\", \"Serverless\", \"Drupal\", \"Amazon Echo\", \"Windows Phone\", \"SharePoint\", \"ESP8266\", \"Salesforce\", \"Apple Watch or Apple TV\", \"IBM Cloud or Watson\", \"Google Home\", \"Gaming console\", \"Mainframe\", \"Predix\"]}], {\"margin\": {\"l\": 50}}, {\"linkText\": \"Export to plot.ly\", \"showLink\": true})});</script>"
      ]
     },
     "metadata": {},
     "output_type": "display_data"
    }
   ],
   "source": [
    "horizontarBar(data[\"PlatformWorkedWith\"].dropna(),'v')"
   ]
  },
  {
   "cell_type": "markdown",
   "metadata": {},
   "source": [
    "Linux is the most popular platform on which developer worked and want to work in over the next year followed by windows desktop and Android. "
   ]
  },
  {
   "cell_type": "markdown",
   "metadata": {},
   "source": [
    "### Most popular/used framework"
   ]
  },
  {
   "cell_type": "code",
   "execution_count": 24,
   "metadata": {},
   "outputs": [
    {
     "data": {
      "application/vnd.plotly.v1+json": {
       "data": [
        {
         "marker": {
          "color": [
           "#41B5A3",
           "#FFAF87",
           "#FF8E72",
           "#ED6A5E",
           "#377771",
           "#E89005",
           "#C6000D",
           "#000000",
           "#05668D",
           "#028090",
           "#9FD35C",
           "#02C39A",
           "#F0F3BD",
           "#41B5A3",
           "#FF6F59",
           "#254441",
           "#B2B09B",
           "#EF3054",
           "#9D9CE8",
           "#0F4777",
           "#5F67DD",
           "#235077",
           "#CCE4F9",
           "#1748D1",
           "#8BB3D6",
           "#467196",
           "#F2C4A2",
           "#F2B1A4",
           "#C42746",
           "#330C25",
           "#41B5A3",
           "#FFAF87",
           "#FF8E72",
           "#ED6A5E",
           "#377771",
           "#E89005",
           "#C6000D",
           "#000000",
           "#05668D",
           "#028090",
           "#9FD35C",
           "#02C39A",
           "#F0F3BD",
           "#41B5A3",
           "#FF6F59",
           "#254441",
           "#B2B09B",
           "#EF3054",
           "#9D9CE8",
           "#0F4777",
           "#5F67DD",
           "#235077",
           "#CCE4F9",
           "#1748D1",
           "#8BB3D6",
           "#467196",
           "#F2C4A2",
           "#F2B1A4",
           "#C42746",
           "#330C25"
          ]
         },
         "orientation": "v",
         "type": "bar",
         "x": [
          "Node.js",
          "Angular",
          "React",
          ".NET Core",
          "Spring",
          "Django",
          "Cordova",
          "TensorFlow",
          "Xamarin",
          "Spark",
          "Hadoop",
          "Torch/PyTorch"
         ],
         "y": [
          25597,
          19022,
          14336,
          14025,
          9078,
          6722,
          4368,
          4025,
          3795,
          2474,
          2446,
          867
         ]
        }
       ],
       "layout": {
        "margin": {
         "l": 50
        }
       }
      },
      "text/html": [
       "<div id=\"007aaa96-082d-4a55-a378-156bbed416f6\" style=\"height: 525px; width: 100%;\" class=\"plotly-graph-div\"></div><script type=\"text/javascript\">require([\"plotly\"], function(Plotly) { window.PLOTLYENV=window.PLOTLYENV || {};window.PLOTLYENV.BASE_URL=\"https://plot.ly\";Plotly.newPlot(\"007aaa96-082d-4a55-a378-156bbed416f6\", [{\"marker\": {\"color\": [\"#41B5A3\", \"#FFAF87\", \"#FF8E72\", \"#ED6A5E\", \"#377771\", \"#E89005\", \"#C6000D\", \"#000000\", \"#05668D\", \"#028090\", \"#9FD35C\", \"#02C39A\", \"#F0F3BD\", \"#41B5A3\", \"#FF6F59\", \"#254441\", \"#B2B09B\", \"#EF3054\", \"#9D9CE8\", \"#0F4777\", \"#5F67DD\", \"#235077\", \"#CCE4F9\", \"#1748D1\", \"#8BB3D6\", \"#467196\", \"#F2C4A2\", \"#F2B1A4\", \"#C42746\", \"#330C25\", \"#41B5A3\", \"#FFAF87\", \"#FF8E72\", \"#ED6A5E\", \"#377771\", \"#E89005\", \"#C6000D\", \"#000000\", \"#05668D\", \"#028090\", \"#9FD35C\", \"#02C39A\", \"#F0F3BD\", \"#41B5A3\", \"#FF6F59\", \"#254441\", \"#B2B09B\", \"#EF3054\", \"#9D9CE8\", \"#0F4777\", \"#5F67DD\", \"#235077\", \"#CCE4F9\", \"#1748D1\", \"#8BB3D6\", \"#467196\", \"#F2C4A2\", \"#F2B1A4\", \"#C42746\", \"#330C25\"]}, \"y\": [25597, 19022, 14336, 14025, 9078, 6722, 4368, 4025, 3795, 2474, 2446, 867], \"type\": \"bar\", \"orientation\": \"v\", \"x\": [\"Node.js\", \"Angular\", \"React\", \".NET Core\", \"Spring\", \"Django\", \"Cordova\", \"TensorFlow\", \"Xamarin\", \"Spark\", \"Hadoop\", \"Torch/PyTorch\"]}], {\"margin\": {\"l\": 50}}, {\"linkText\": \"Export to plot.ly\", \"showLink\": true})});</script>"
      ],
      "text/vnd.plotly.v1+html": [
       "<div id=\"007aaa96-082d-4a55-a378-156bbed416f6\" style=\"height: 525px; width: 100%;\" class=\"plotly-graph-div\"></div><script type=\"text/javascript\">require([\"plotly\"], function(Plotly) { window.PLOTLYENV=window.PLOTLYENV || {};window.PLOTLYENV.BASE_URL=\"https://plot.ly\";Plotly.newPlot(\"007aaa96-082d-4a55-a378-156bbed416f6\", [{\"marker\": {\"color\": [\"#41B5A3\", \"#FFAF87\", \"#FF8E72\", \"#ED6A5E\", \"#377771\", \"#E89005\", \"#C6000D\", \"#000000\", \"#05668D\", \"#028090\", \"#9FD35C\", \"#02C39A\", \"#F0F3BD\", \"#41B5A3\", \"#FF6F59\", \"#254441\", \"#B2B09B\", \"#EF3054\", \"#9D9CE8\", \"#0F4777\", \"#5F67DD\", \"#235077\", \"#CCE4F9\", \"#1748D1\", \"#8BB3D6\", \"#467196\", \"#F2C4A2\", \"#F2B1A4\", \"#C42746\", \"#330C25\", \"#41B5A3\", \"#FFAF87\", \"#FF8E72\", \"#ED6A5E\", \"#377771\", \"#E89005\", \"#C6000D\", \"#000000\", \"#05668D\", \"#028090\", \"#9FD35C\", \"#02C39A\", \"#F0F3BD\", \"#41B5A3\", \"#FF6F59\", \"#254441\", \"#B2B09B\", \"#EF3054\", \"#9D9CE8\", \"#0F4777\", \"#5F67DD\", \"#235077\", \"#CCE4F9\", \"#1748D1\", \"#8BB3D6\", \"#467196\", \"#F2C4A2\", \"#F2B1A4\", \"#C42746\", \"#330C25\"]}, \"y\": [25597, 19022, 14336, 14025, 9078, 6722, 4368, 4025, 3795, 2474, 2446, 867], \"type\": \"bar\", \"orientation\": \"v\", \"x\": [\"Node.js\", \"Angular\", \"React\", \".NET Core\", \"Spring\", \"Django\", \"Cordova\", \"TensorFlow\", \"Xamarin\", \"Spark\", \"Hadoop\", \"Torch/PyTorch\"]}], {\"margin\": {\"l\": 50}}, {\"linkText\": \"Export to plot.ly\", \"showLink\": true})});</script>"
      ]
     },
     "metadata": {},
     "output_type": "display_data"
    }
   ],
   "source": [
    "horizontarBar(data[\"FrameworkWorkedWith\"].dropna(),'v')"
   ]
  },
  {
   "cell_type": "markdown",
   "metadata": {},
   "source": [
    "Node.js, Angular, React and .Net core are the most popular frameworks on which developer worked and want to work in over the next year followed by Tensorflow."
   ]
  },
  {
   "cell_type": "markdown",
   "metadata": {},
   "source": [
    "### Most popular/used IDE"
   ]
  },
  {
   "cell_type": "code",
   "execution_count": 25,
   "metadata": {},
   "outputs": [
    {
     "data": {
      "application/vnd.plotly.v1+json": {
       "data": [
        {
         "marker": {
          "color": [
           "#41B5A3",
           "#FFAF87",
           "#FF8E72",
           "#ED6A5E",
           "#377771",
           "#E89005",
           "#C6000D",
           "#000000",
           "#05668D",
           "#028090",
           "#9FD35C",
           "#02C39A",
           "#F0F3BD",
           "#41B5A3",
           "#FF6F59",
           "#254441",
           "#B2B09B",
           "#EF3054",
           "#9D9CE8",
           "#0F4777",
           "#5F67DD",
           "#235077",
           "#CCE4F9",
           "#1748D1",
           "#8BB3D6",
           "#467196",
           "#F2C4A2",
           "#F2B1A4",
           "#C42746",
           "#330C25",
           "#41B5A3",
           "#FFAF87",
           "#FF8E72",
           "#ED6A5E",
           "#377771",
           "#E89005",
           "#C6000D",
           "#000000",
           "#05668D",
           "#028090",
           "#9FD35C",
           "#02C39A",
           "#F0F3BD",
           "#41B5A3",
           "#FF6F59",
           "#254441",
           "#B2B09B",
           "#EF3054",
           "#9D9CE8",
           "#0F4777",
           "#5F67DD",
           "#235077",
           "#CCE4F9",
           "#1748D1",
           "#8BB3D6",
           "#467196",
           "#F2C4A2",
           "#F2B1A4",
           "#C42746",
           "#330C25"
          ]
         },
         "orientation": "v",
         "type": "bar",
         "x": [
          "Visual Studio Code",
          "Visual Studio",
          "Notepad++",
          "Sublime Text",
          "Vim",
          "IntelliJ",
          "Android Studio",
          "Eclipse",
          "Atom",
          "PyCharm",
          "Xcode",
          "PHPStorm",
          "NetBeans",
          "IPython / Jupyter",
          "Emacs",
          "RStudio",
          "RubyMine",
          "TextMate",
          "Coda",
          "Komodo",
          "Zend",
          "Light Table"
         ],
         "y": [
          26279,
          25869,
          25754,
          21809,
          19476,
          18764,
          14557,
          14212,
          13575,
          9026,
          7985,
          6752,
          6149,
          5601,
          3080,
          2502,
          1201,
          807,
          486,
          430,
          298,
          147
         ]
        }
       ],
       "layout": {
        "margin": {
         "l": 50
        }
       }
      },
      "text/html": [
       "<div id=\"fa7461ef-5567-4db9-9871-f411b2f99967\" style=\"height: 525px; width: 100%;\" class=\"plotly-graph-div\"></div><script type=\"text/javascript\">require([\"plotly\"], function(Plotly) { window.PLOTLYENV=window.PLOTLYENV || {};window.PLOTLYENV.BASE_URL=\"https://plot.ly\";Plotly.newPlot(\"fa7461ef-5567-4db9-9871-f411b2f99967\", [{\"marker\": {\"color\": [\"#41B5A3\", \"#FFAF87\", \"#FF8E72\", \"#ED6A5E\", \"#377771\", \"#E89005\", \"#C6000D\", \"#000000\", \"#05668D\", \"#028090\", \"#9FD35C\", \"#02C39A\", \"#F0F3BD\", \"#41B5A3\", \"#FF6F59\", \"#254441\", \"#B2B09B\", \"#EF3054\", \"#9D9CE8\", \"#0F4777\", \"#5F67DD\", \"#235077\", \"#CCE4F9\", \"#1748D1\", \"#8BB3D6\", \"#467196\", \"#F2C4A2\", \"#F2B1A4\", \"#C42746\", \"#330C25\", \"#41B5A3\", \"#FFAF87\", \"#FF8E72\", \"#ED6A5E\", \"#377771\", \"#E89005\", \"#C6000D\", \"#000000\", \"#05668D\", \"#028090\", \"#9FD35C\", \"#02C39A\", \"#F0F3BD\", \"#41B5A3\", \"#FF6F59\", \"#254441\", \"#B2B09B\", \"#EF3054\", \"#9D9CE8\", \"#0F4777\", \"#5F67DD\", \"#235077\", \"#CCE4F9\", \"#1748D1\", \"#8BB3D6\", \"#467196\", \"#F2C4A2\", \"#F2B1A4\", \"#C42746\", \"#330C25\"]}, \"y\": [26279, 25869, 25754, 21809, 19476, 18764, 14557, 14212, 13575, 9026, 7985, 6752, 6149, 5601, 3080, 2502, 1201, 807, 486, 430, 298, 147], \"type\": \"bar\", \"orientation\": \"v\", \"x\": [\"Visual Studio Code\", \"Visual Studio\", \"Notepad++\", \"Sublime Text\", \"Vim\", \"IntelliJ\", \"Android Studio\", \"Eclipse\", \"Atom\", \"PyCharm\", \"Xcode\", \"PHPStorm\", \"NetBeans\", \"IPython / Jupyter\", \"Emacs\", \"RStudio\", \"RubyMine\", \"TextMate\", \"Coda\", \"Komodo\", \"Zend\", \"Light Table\"]}], {\"margin\": {\"l\": 50}}, {\"linkText\": \"Export to plot.ly\", \"showLink\": true})});</script>"
      ],
      "text/vnd.plotly.v1+html": [
       "<div id=\"fa7461ef-5567-4db9-9871-f411b2f99967\" style=\"height: 525px; width: 100%;\" class=\"plotly-graph-div\"></div><script type=\"text/javascript\">require([\"plotly\"], function(Plotly) { window.PLOTLYENV=window.PLOTLYENV || {};window.PLOTLYENV.BASE_URL=\"https://plot.ly\";Plotly.newPlot(\"fa7461ef-5567-4db9-9871-f411b2f99967\", [{\"marker\": {\"color\": [\"#41B5A3\", \"#FFAF87\", \"#FF8E72\", \"#ED6A5E\", \"#377771\", \"#E89005\", \"#C6000D\", \"#000000\", \"#05668D\", \"#028090\", \"#9FD35C\", \"#02C39A\", \"#F0F3BD\", \"#41B5A3\", \"#FF6F59\", \"#254441\", \"#B2B09B\", \"#EF3054\", \"#9D9CE8\", \"#0F4777\", \"#5F67DD\", \"#235077\", \"#CCE4F9\", \"#1748D1\", \"#8BB3D6\", \"#467196\", \"#F2C4A2\", \"#F2B1A4\", \"#C42746\", \"#330C25\", \"#41B5A3\", \"#FFAF87\", \"#FF8E72\", \"#ED6A5E\", \"#377771\", \"#E89005\", \"#C6000D\", \"#000000\", \"#05668D\", \"#028090\", \"#9FD35C\", \"#02C39A\", \"#F0F3BD\", \"#41B5A3\", \"#FF6F59\", \"#254441\", \"#B2B09B\", \"#EF3054\", \"#9D9CE8\", \"#0F4777\", \"#5F67DD\", \"#235077\", \"#CCE4F9\", \"#1748D1\", \"#8BB3D6\", \"#467196\", \"#F2C4A2\", \"#F2B1A4\", \"#C42746\", \"#330C25\"]}, \"y\": [26279, 25869, 25754, 21809, 19476, 18764, 14557, 14212, 13575, 9026, 7985, 6752, 6149, 5601, 3080, 2502, 1201, 807, 486, 430, 298, 147], \"type\": \"bar\", \"orientation\": \"v\", \"x\": [\"Visual Studio Code\", \"Visual Studio\", \"Notepad++\", \"Sublime Text\", \"Vim\", \"IntelliJ\", \"Android Studio\", \"Eclipse\", \"Atom\", \"PyCharm\", \"Xcode\", \"PHPStorm\", \"NetBeans\", \"IPython / Jupyter\", \"Emacs\", \"RStudio\", \"RubyMine\", \"TextMate\", \"Coda\", \"Komodo\", \"Zend\", \"Light Table\"]}], {\"margin\": {\"l\": 50}}, {\"linkText\": \"Export to plot.ly\", \"showLink\": true})});</script>"
      ]
     },
     "metadata": {},
     "output_type": "display_data"
    }
   ],
   "source": [
    "horizontarBar(data[\"IDE\"].dropna(),'v')"
   ]
  },
  {
   "cell_type": "markdown",
   "metadata": {},
   "source": [
    "Top most used IDE by the developers :\n",
    "\n",
    "Approx. 26k developers using Visual Studio Code\n",
    "\n",
    "Approx. 25k developers using Visual Studio\n",
    "\n",
    "Approx. 25k developers using Notepad++\n",
    "\n",
    "Approx. 21k developers using Sublime Text\n",
    "\n",
    "Approx. 19k developers using Vim"
   ]
  },
  {
   "cell_type": "markdown",
   "metadata": {},
   "source": [
    "### Most popular/used Operating Systems"
   ]
  },
  {
   "cell_type": "code",
   "execution_count": 26,
   "metadata": {},
   "outputs": [
    {
     "data": {
      "application/vnd.plotly.v1+json": {
       "data": [
        {
         "domain": {
          "x": [
           0,
           0.95
          ]
         },
         "hole": 0.7,
         "hoverinfo": "label+percent+name",
         "labels": [
          "Windows",
          "MacOS",
          "Linux-based",
          "BSD/Unix"
         ],
         "marker": {
          "colors": [
           "#330C25",
           "#C42746",
           "#F2B1A4",
           "#F2C4A2",
           "#467196",
           "#8BB3D6",
           "#1748D1",
           "#CCE4F9",
           "#235077",
           "#5F67DD",
           "#0F4777",
           "#9D9CE8",
           "#EF3054",
           "#B2B09B",
           "#254441",
           "#FF6F59",
           "#41B5A3",
           "#F0F3BD",
           "#02C39A",
           "#9FD35C",
           "#028090",
           "#05668D",
           "#000000",
           "#C6000D",
           "#E89005",
           "#377771",
           "#ED6A5E",
           "#FF8E72",
           "#FFAF87",
           "#41B5A3",
           "#330C25",
           "#C42746",
           "#F2B1A4",
           "#F2C4A2",
           "#467196",
           "#8BB3D6",
           "#1748D1",
           "#CCE4F9",
           "#235077",
           "#5F67DD",
           "#0F4777",
           "#9D9CE8",
           "#EF3054",
           "#B2B09B",
           "#254441",
           "#FF6F59",
           "#41B5A3",
           "#F0F3BD",
           "#02C39A",
           "#9FD35C",
           "#028090",
           "#05668D",
           "#000000",
           "#C6000D",
           "#E89005",
           "#377771",
           "#ED6A5E",
           "#FF8E72",
           "#FFAF87",
           "#41B5A3"
          ]
         },
         "name": "Operating Systems Used",
         "textfont": {
          "color": "#FFFFFF"
         },
         "type": "pie",
         "values": [
          38022,
          20325,
          17684,
          148
         ]
        }
       ],
       "layout": {
        "annotations": [
         {
          "font": {
           "size": 15
          },
          "showarrow": false,
          "text": "OS",
          "x": 0.47,
          "y": 0.5
         }
        ],
        "title": "Operating Systems Used"
       }
      },
      "text/html": [
       "<div id=\"5d50f9a0-01df-4576-a7c7-98c684602e0f\" style=\"height: 525px; width: 100%;\" class=\"plotly-graph-div\"></div><script type=\"text/javascript\">require([\"plotly\"], function(Plotly) { window.PLOTLYENV=window.PLOTLYENV || {};window.PLOTLYENV.BASE_URL=\"https://plot.ly\";Plotly.newPlot(\"5d50f9a0-01df-4576-a7c7-98c684602e0f\", [{\"domain\": {\"x\": [0, 0.95]}, \"name\": \"Operating Systems Used\", \"labels\": [\"Windows\", \"MacOS\", \"Linux-based\", \"BSD/Unix\"], \"textfont\": {\"color\": \"#FFFFFF\"}, \"values\": [38022, 20325, 17684, 148], \"hoverinfo\": \"label+percent+name\", \"marker\": {\"colors\": [\"#330C25\", \"#C42746\", \"#F2B1A4\", \"#F2C4A2\", \"#467196\", \"#8BB3D6\", \"#1748D1\", \"#CCE4F9\", \"#235077\", \"#5F67DD\", \"#0F4777\", \"#9D9CE8\", \"#EF3054\", \"#B2B09B\", \"#254441\", \"#FF6F59\", \"#41B5A3\", \"#F0F3BD\", \"#02C39A\", \"#9FD35C\", \"#028090\", \"#05668D\", \"#000000\", \"#C6000D\", \"#E89005\", \"#377771\", \"#ED6A5E\", \"#FF8E72\", \"#FFAF87\", \"#41B5A3\", \"#330C25\", \"#C42746\", \"#F2B1A4\", \"#F2C4A2\", \"#467196\", \"#8BB3D6\", \"#1748D1\", \"#CCE4F9\", \"#235077\", \"#5F67DD\", \"#0F4777\", \"#9D9CE8\", \"#EF3054\", \"#B2B09B\", \"#254441\", \"#FF6F59\", \"#41B5A3\", \"#F0F3BD\", \"#02C39A\", \"#9FD35C\", \"#028090\", \"#05668D\", \"#000000\", \"#C6000D\", \"#E89005\", \"#377771\", \"#ED6A5E\", \"#FF8E72\", \"#FFAF87\", \"#41B5A3\"]}, \"hole\": 0.7, \"type\": \"pie\"}], {\"annotations\": [{\"y\": 0.5, \"text\": \"OS\", \"font\": {\"size\": 15}, \"showarrow\": false, \"x\": 0.47}], \"title\": \"Operating Systems Used\"}, {\"linkText\": \"Export to plot.ly\", \"showLink\": true})});</script>"
      ],
      "text/vnd.plotly.v1+html": [
       "<div id=\"5d50f9a0-01df-4576-a7c7-98c684602e0f\" style=\"height: 525px; width: 100%;\" class=\"plotly-graph-div\"></div><script type=\"text/javascript\">require([\"plotly\"], function(Plotly) { window.PLOTLYENV=window.PLOTLYENV || {};window.PLOTLYENV.BASE_URL=\"https://plot.ly\";Plotly.newPlot(\"5d50f9a0-01df-4576-a7c7-98c684602e0f\", [{\"domain\": {\"x\": [0, 0.95]}, \"name\": \"Operating Systems Used\", \"labels\": [\"Windows\", \"MacOS\", \"Linux-based\", \"BSD/Unix\"], \"textfont\": {\"color\": \"#FFFFFF\"}, \"values\": [38022, 20325, 17684, 148], \"hoverinfo\": \"label+percent+name\", \"marker\": {\"colors\": [\"#330C25\", \"#C42746\", \"#F2B1A4\", \"#F2C4A2\", \"#467196\", \"#8BB3D6\", \"#1748D1\", \"#CCE4F9\", \"#235077\", \"#5F67DD\", \"#0F4777\", \"#9D9CE8\", \"#EF3054\", \"#B2B09B\", \"#254441\", \"#FF6F59\", \"#41B5A3\", \"#F0F3BD\", \"#02C39A\", \"#9FD35C\", \"#028090\", \"#05668D\", \"#000000\", \"#C6000D\", \"#E89005\", \"#377771\", \"#ED6A5E\", \"#FF8E72\", \"#FFAF87\", \"#41B5A3\", \"#330C25\", \"#C42746\", \"#F2B1A4\", \"#F2C4A2\", \"#467196\", \"#8BB3D6\", \"#1748D1\", \"#CCE4F9\", \"#235077\", \"#5F67DD\", \"#0F4777\", \"#9D9CE8\", \"#EF3054\", \"#B2B09B\", \"#254441\", \"#FF6F59\", \"#41B5A3\", \"#F0F3BD\", \"#02C39A\", \"#9FD35C\", \"#028090\", \"#05668D\", \"#000000\", \"#C6000D\", \"#E89005\", \"#377771\", \"#ED6A5E\", \"#FF8E72\", \"#FFAF87\", \"#41B5A3\"]}, \"hole\": 0.7, \"type\": \"pie\"}], {\"annotations\": [{\"y\": 0.5, \"text\": \"OS\", \"font\": {\"size\": 15}, \"showarrow\": false, \"x\": 0.47}], \"title\": \"Operating Systems Used\"}, {\"linkText\": \"Export to plot.ly\", \"showLink\": true})});</script>"
      ]
     },
     "metadata": {},
     "output_type": "display_data"
    }
   ],
   "source": [
    "donut_graph(data[\"OperatingSystem\"],\"OS\",\"Operating Systems Used\")"
   ]
  },
  {
   "cell_type": "markdown",
   "metadata": {},
   "source": [
    "Top Used Operating system by the developers :\n",
    "\n",
    "Approx. 50 % developers are using Windows\n",
    "\n",
    "Approx. 27 % developers are using MacOS\n",
    "\n",
    "Approx. 23 % developers are using Linux-based\n",
    "\n",
    "Only 0.2 % developers are using BSD/Unix"
   ]
  },
  {
   "cell_type": "markdown",
   "metadata": {},
   "source": [
    "### Number of monitors used by developers "
   ]
  },
  {
   "cell_type": "code",
   "execution_count": 27,
   "metadata": {
    "scrolled": false
   },
   "outputs": [
    {
     "data": {
      "application/vnd.plotly.v1+json": {
       "data": [
        {
         "domain": {
          "x": [
           0,
           0.95
          ]
         },
         "hole": 0.7,
         "hoverinfo": "label+percent+name",
         "labels": [
          "2",
          "1",
          "3",
          "More than 4",
          "4"
         ],
         "marker": {
          "colors": [
           "#330C25",
           "#C42746",
           "#F2B1A4",
           "#F2C4A2",
           "#467196",
           "#8BB3D6",
           "#1748D1",
           "#CCE4F9",
           "#235077",
           "#5F67DD",
           "#0F4777",
           "#9D9CE8",
           "#EF3054",
           "#B2B09B",
           "#254441",
           "#FF6F59",
           "#41B5A3",
           "#F0F3BD",
           "#02C39A",
           "#9FD35C",
           "#028090",
           "#05668D",
           "#000000",
           "#C6000D",
           "#E89005",
           "#377771",
           "#ED6A5E",
           "#FF8E72",
           "#FFAF87",
           "#41B5A3",
           "#330C25",
           "#C42746",
           "#F2B1A4",
           "#F2C4A2",
           "#467196",
           "#8BB3D6",
           "#1748D1",
           "#CCE4F9",
           "#235077",
           "#5F67DD",
           "#0F4777",
           "#9D9CE8",
           "#EF3054",
           "#B2B09B",
           "#254441",
           "#FF6F59",
           "#41B5A3",
           "#F0F3BD",
           "#02C39A",
           "#9FD35C",
           "#028090",
           "#05668D",
           "#000000",
           "#C6000D",
           "#E89005",
           "#377771",
           "#ED6A5E",
           "#FF8E72",
           "#FFAF87",
           "#41B5A3"
          ]
         },
         "name": "Number of Monitors used",
         "textfont": {
          "color": "#FFFFFF"
         },
         "type": "pie",
         "values": [
          39063,
          24362,
          10984,
          1085,
          904
         ]
        }
       ],
       "layout": {
        "annotations": [
         {
          "font": {
           "size": 15
          },
          "showarrow": false,
          "text": "Number of Monitors",
          "x": 0.47,
          "y": 0.5
         }
        ],
        "title": "Number of Monitors used"
       }
      },
      "text/html": [
       "<div id=\"f036352a-22ec-4993-86b6-89b01f06ebf1\" style=\"height: 525px; width: 100%;\" class=\"plotly-graph-div\"></div><script type=\"text/javascript\">require([\"plotly\"], function(Plotly) { window.PLOTLYENV=window.PLOTLYENV || {};window.PLOTLYENV.BASE_URL=\"https://plot.ly\";Plotly.newPlot(\"f036352a-22ec-4993-86b6-89b01f06ebf1\", [{\"domain\": {\"x\": [0, 0.95]}, \"name\": \"Number of Monitors used\", \"labels\": [\"2\", \"1\", \"3\", \"More than 4\", \"4\"], \"textfont\": {\"color\": \"#FFFFFF\"}, \"values\": [39063, 24362, 10984, 1085, 904], \"hoverinfo\": \"label+percent+name\", \"marker\": {\"colors\": [\"#330C25\", \"#C42746\", \"#F2B1A4\", \"#F2C4A2\", \"#467196\", \"#8BB3D6\", \"#1748D1\", \"#CCE4F9\", \"#235077\", \"#5F67DD\", \"#0F4777\", \"#9D9CE8\", \"#EF3054\", \"#B2B09B\", \"#254441\", \"#FF6F59\", \"#41B5A3\", \"#F0F3BD\", \"#02C39A\", \"#9FD35C\", \"#028090\", \"#05668D\", \"#000000\", \"#C6000D\", \"#E89005\", \"#377771\", \"#ED6A5E\", \"#FF8E72\", \"#FFAF87\", \"#41B5A3\", \"#330C25\", \"#C42746\", \"#F2B1A4\", \"#F2C4A2\", \"#467196\", \"#8BB3D6\", \"#1748D1\", \"#CCE4F9\", \"#235077\", \"#5F67DD\", \"#0F4777\", \"#9D9CE8\", \"#EF3054\", \"#B2B09B\", \"#254441\", \"#FF6F59\", \"#41B5A3\", \"#F0F3BD\", \"#02C39A\", \"#9FD35C\", \"#028090\", \"#05668D\", \"#000000\", \"#C6000D\", \"#E89005\", \"#377771\", \"#ED6A5E\", \"#FF8E72\", \"#FFAF87\", \"#41B5A3\"]}, \"hole\": 0.7, \"type\": \"pie\"}], {\"annotations\": [{\"y\": 0.5, \"text\": \"Number of Monitors\", \"font\": {\"size\": 15}, \"showarrow\": false, \"x\": 0.47}], \"title\": \"Number of Monitors used\"}, {\"linkText\": \"Export to plot.ly\", \"showLink\": true})});</script>"
      ],
      "text/vnd.plotly.v1+html": [
       "<div id=\"f036352a-22ec-4993-86b6-89b01f06ebf1\" style=\"height: 525px; width: 100%;\" class=\"plotly-graph-div\"></div><script type=\"text/javascript\">require([\"plotly\"], function(Plotly) { window.PLOTLYENV=window.PLOTLYENV || {};window.PLOTLYENV.BASE_URL=\"https://plot.ly\";Plotly.newPlot(\"f036352a-22ec-4993-86b6-89b01f06ebf1\", [{\"domain\": {\"x\": [0, 0.95]}, \"name\": \"Number of Monitors used\", \"labels\": [\"2\", \"1\", \"3\", \"More than 4\", \"4\"], \"textfont\": {\"color\": \"#FFFFFF\"}, \"values\": [39063, 24362, 10984, 1085, 904], \"hoverinfo\": \"label+percent+name\", \"marker\": {\"colors\": [\"#330C25\", \"#C42746\", \"#F2B1A4\", \"#F2C4A2\", \"#467196\", \"#8BB3D6\", \"#1748D1\", \"#CCE4F9\", \"#235077\", \"#5F67DD\", \"#0F4777\", \"#9D9CE8\", \"#EF3054\", \"#B2B09B\", \"#254441\", \"#FF6F59\", \"#41B5A3\", \"#F0F3BD\", \"#02C39A\", \"#9FD35C\", \"#028090\", \"#05668D\", \"#000000\", \"#C6000D\", \"#E89005\", \"#377771\", \"#ED6A5E\", \"#FF8E72\", \"#FFAF87\", \"#41B5A3\", \"#330C25\", \"#C42746\", \"#F2B1A4\", \"#F2C4A2\", \"#467196\", \"#8BB3D6\", \"#1748D1\", \"#CCE4F9\", \"#235077\", \"#5F67DD\", \"#0F4777\", \"#9D9CE8\", \"#EF3054\", \"#B2B09B\", \"#254441\", \"#FF6F59\", \"#41B5A3\", \"#F0F3BD\", \"#02C39A\", \"#9FD35C\", \"#028090\", \"#05668D\", \"#000000\", \"#C6000D\", \"#E89005\", \"#377771\", \"#ED6A5E\", \"#FF8E72\", \"#FFAF87\", \"#41B5A3\"]}, \"hole\": 0.7, \"type\": \"pie\"}], {\"annotations\": [{\"y\": 0.5, \"text\": \"Number of Monitors\", \"font\": {\"size\": 15}, \"showarrow\": false, \"x\": 0.47}], \"title\": \"Number of Monitors used\"}, {\"linkText\": \"Export to plot.ly\", \"showLink\": true})});</script>"
      ]
     },
     "metadata": {},
     "output_type": "display_data"
    }
   ],
   "source": [
    "donut_graph(data[\"NumberMonitors\"],\"Number of Monitors\",\"Number of Monitors used\")"
   ]
  },
  {
   "cell_type": "markdown",
   "metadata": {},
   "source": [
    "We can see that most of the developers use 2 monitors on their workstation. FOllowed by developers who use single screen for developing purposes"
   ]
  },
  {
   "cell_type": "markdown",
   "metadata": {},
   "source": [
    "### Most popular/used Version Control"
   ]
  },
  {
   "cell_type": "code",
   "execution_count": 28,
   "metadata": {},
   "outputs": [
    {
     "data": {
      "application/vnd.plotly.v1+json": {
       "data": [
        {
         "marker": {
          "color": [
           "#41B5A3",
           "#FFAF87",
           "#FF8E72",
           "#ED6A5E",
           "#377771",
           "#E89005",
           "#C6000D",
           "#000000",
           "#05668D",
           "#028090",
           "#9FD35C",
           "#02C39A",
           "#F0F3BD",
           "#41B5A3",
           "#FF6F59",
           "#254441",
           "#B2B09B",
           "#EF3054",
           "#9D9CE8",
           "#0F4777",
           "#5F67DD",
           "#235077",
           "#CCE4F9",
           "#1748D1",
           "#8BB3D6",
           "#467196",
           "#F2C4A2",
           "#F2B1A4",
           "#C42746",
           "#330C25",
           "#41B5A3",
           "#FFAF87",
           "#FF8E72",
           "#ED6A5E",
           "#377771",
           "#E89005",
           "#C6000D",
           "#000000",
           "#05668D",
           "#028090",
           "#9FD35C",
           "#02C39A",
           "#F0F3BD",
           "#41B5A3",
           "#FF6F59",
           "#254441",
           "#B2B09B",
           "#EF3054",
           "#9D9CE8",
           "#0F4777",
           "#5F67DD",
           "#235077",
           "#CCE4F9",
           "#1748D1",
           "#8BB3D6",
           "#467196",
           "#F2C4A2",
           "#F2B1A4",
           "#C42746",
           "#330C25"
          ]
         },
         "orientation": "h",
         "type": "bar",
         "x": [
          2679,
          3561,
          5845,
          5868,
          8066,
          11935,
          64823
         ],
         "y": [
          "Mercurial",
          "I don't use version control",
          "Copying and pasting files to network shares",
          "Zip file back-ups",
          "Team Foundation Version Control",
          "Subversion",
          "Git"
         ]
        }
       ],
       "layout": {
        "margin": {
         "l": 600
        }
       }
      },
      "text/html": [
       "<div id=\"863606cb-9bde-4bcc-ac11-4f7bcc9d6a38\" style=\"height: 525px; width: 100%;\" class=\"plotly-graph-div\"></div><script type=\"text/javascript\">require([\"plotly\"], function(Plotly) { window.PLOTLYENV=window.PLOTLYENV || {};window.PLOTLYENV.BASE_URL=\"https://plot.ly\";Plotly.newPlot(\"863606cb-9bde-4bcc-ac11-4f7bcc9d6a38\", [{\"marker\": {\"color\": [\"#41B5A3\", \"#FFAF87\", \"#FF8E72\", \"#ED6A5E\", \"#377771\", \"#E89005\", \"#C6000D\", \"#000000\", \"#05668D\", \"#028090\", \"#9FD35C\", \"#02C39A\", \"#F0F3BD\", \"#41B5A3\", \"#FF6F59\", \"#254441\", \"#B2B09B\", \"#EF3054\", \"#9D9CE8\", \"#0F4777\", \"#5F67DD\", \"#235077\", \"#CCE4F9\", \"#1748D1\", \"#8BB3D6\", \"#467196\", \"#F2C4A2\", \"#F2B1A4\", \"#C42746\", \"#330C25\", \"#41B5A3\", \"#FFAF87\", \"#FF8E72\", \"#ED6A5E\", \"#377771\", \"#E89005\", \"#C6000D\", \"#000000\", \"#05668D\", \"#028090\", \"#9FD35C\", \"#02C39A\", \"#F0F3BD\", \"#41B5A3\", \"#FF6F59\", \"#254441\", \"#B2B09B\", \"#EF3054\", \"#9D9CE8\", \"#0F4777\", \"#5F67DD\", \"#235077\", \"#CCE4F9\", \"#1748D1\", \"#8BB3D6\", \"#467196\", \"#F2C4A2\", \"#F2B1A4\", \"#C42746\", \"#330C25\"]}, \"y\": [\"Mercurial\", \"I don't use version control\", \"Copying and pasting files to network shares\", \"Zip file back-ups\", \"Team Foundation Version Control\", \"Subversion\", \"Git\"], \"type\": \"bar\", \"orientation\": \"h\", \"x\": [2679, 3561, 5845, 5868, 8066, 11935, 64823]}], {\"margin\": {\"l\": 600}}, {\"linkText\": \"Export to plot.ly\", \"showLink\": true})});</script>"
      ],
      "text/vnd.plotly.v1+html": [
       "<div id=\"863606cb-9bde-4bcc-ac11-4f7bcc9d6a38\" style=\"height: 525px; width: 100%;\" class=\"plotly-graph-div\"></div><script type=\"text/javascript\">require([\"plotly\"], function(Plotly) { window.PLOTLYENV=window.PLOTLYENV || {};window.PLOTLYENV.BASE_URL=\"https://plot.ly\";Plotly.newPlot(\"863606cb-9bde-4bcc-ac11-4f7bcc9d6a38\", [{\"marker\": {\"color\": [\"#41B5A3\", \"#FFAF87\", \"#FF8E72\", \"#ED6A5E\", \"#377771\", \"#E89005\", \"#C6000D\", \"#000000\", \"#05668D\", \"#028090\", \"#9FD35C\", \"#02C39A\", \"#F0F3BD\", \"#41B5A3\", \"#FF6F59\", \"#254441\", \"#B2B09B\", \"#EF3054\", \"#9D9CE8\", \"#0F4777\", \"#5F67DD\", \"#235077\", \"#CCE4F9\", \"#1748D1\", \"#8BB3D6\", \"#467196\", \"#F2C4A2\", \"#F2B1A4\", \"#C42746\", \"#330C25\", \"#41B5A3\", \"#FFAF87\", \"#FF8E72\", \"#ED6A5E\", \"#377771\", \"#E89005\", \"#C6000D\", \"#000000\", \"#05668D\", \"#028090\", \"#9FD35C\", \"#02C39A\", \"#F0F3BD\", \"#41B5A3\", \"#FF6F59\", \"#254441\", \"#B2B09B\", \"#EF3054\", \"#9D9CE8\", \"#0F4777\", \"#5F67DD\", \"#235077\", \"#CCE4F9\", \"#1748D1\", \"#8BB3D6\", \"#467196\", \"#F2C4A2\", \"#F2B1A4\", \"#C42746\", \"#330C25\"]}, \"y\": [\"Mercurial\", \"I don't use version control\", \"Copying and pasting files to network shares\", \"Zip file back-ups\", \"Team Foundation Version Control\", \"Subversion\", \"Git\"], \"type\": \"bar\", \"orientation\": \"h\", \"x\": [2679, 3561, 5845, 5868, 8066, 11935, 64823]}], {\"margin\": {\"l\": 600}}, {\"linkText\": \"Export to plot.ly\", \"showLink\": true})});</script>"
      ]
     },
     "metadata": {},
     "output_type": "display_data"
    }
   ],
   "source": [
    "horizontarBar(data[\"VersionControl\"].dropna(),'h')"
   ]
  },
  {
   "cell_type": "markdown",
   "metadata": {},
   "source": [
    "Top version control system developers regularly use :\n",
    "\n",
    "Approx. 64k developers are using Git(Most popular version control system)\n",
    "\n",
    "Approx. 11k developers are using Subversion\n",
    "\n",
    "Approx. 8k developers are using Team Foundation Version Control\n",
    "\n",
    "Approx 5k deveopers are using Zip file back-ups"
   ]
  },
  {
   "cell_type": "markdown",
   "metadata": {},
   "source": [
    "### Most popular/sed Communication tool"
   ]
  },
  {
   "cell_type": "code",
   "execution_count": 29,
   "metadata": {},
   "outputs": [
    {
     "data": {
      "application/vnd.plotly.v1+json": {
       "data": [
        {
         "marker": {
          "color": [
           "#41B5A3",
           "#FFAF87",
           "#FF8E72",
           "#ED6A5E",
           "#377771",
           "#E89005",
           "#C6000D",
           "#000000",
           "#05668D",
           "#028090",
           "#9FD35C",
           "#02C39A",
           "#F0F3BD",
           "#41B5A3",
           "#FF6F59",
           "#254441",
           "#B2B09B",
           "#EF3054",
           "#9D9CE8",
           "#0F4777",
           "#5F67DD",
           "#235077",
           "#CCE4F9",
           "#1748D1",
           "#8BB3D6",
           "#467196",
           "#F2C4A2",
           "#F2B1A4",
           "#C42746",
           "#330C25",
           "#41B5A3",
           "#FFAF87",
           "#FF8E72",
           "#ED6A5E",
           "#377771",
           "#E89005",
           "#C6000D",
           "#000000",
           "#05668D",
           "#028090",
           "#9FD35C",
           "#02C39A",
           "#F0F3BD",
           "#41B5A3",
           "#FF6F59",
           "#254441",
           "#B2B09B",
           "#EF3054",
           "#9D9CE8",
           "#0F4777",
           "#5F67DD",
           "#235077",
           "#CCE4F9",
           "#1748D1",
           "#8BB3D6",
           "#467196",
           "#F2C4A2",
           "#F2B1A4",
           "#C42746",
           "#330C25"
          ]
         },
         "orientation": "h",
         "type": "bar",
         "x": [
          1851,
          3523,
          5670,
          10220,
          12241,
          12360,
          16986,
          17878,
          22415,
          23691,
          29482
         ],
         "y": [
          "Stack Overflow Enterprise",
          "HipChat",
          "Facebook",
          "Trello",
          "Other chat system (IRC, proprietary software, etc.)",
          "Google Hangouts/Chat",
          "Confluence",
          "Other wiki tool (Github, Google Sites, proprietary software, etc.)",
          "Office / productivity suite (Microsoft Office, Google Suite, etc.)",
          "Jira",
          "Slack"
         ]
        }
       ],
       "layout": {
        "margin": {
         "l": 600
        }
       }
      },
      "text/html": [
       "<div id=\"16f3c406-6525-4f88-9284-15daf26a118a\" style=\"height: 525px; width: 100%;\" class=\"plotly-graph-div\"></div><script type=\"text/javascript\">require([\"plotly\"], function(Plotly) { window.PLOTLYENV=window.PLOTLYENV || {};window.PLOTLYENV.BASE_URL=\"https://plot.ly\";Plotly.newPlot(\"16f3c406-6525-4f88-9284-15daf26a118a\", [{\"marker\": {\"color\": [\"#41B5A3\", \"#FFAF87\", \"#FF8E72\", \"#ED6A5E\", \"#377771\", \"#E89005\", \"#C6000D\", \"#000000\", \"#05668D\", \"#028090\", \"#9FD35C\", \"#02C39A\", \"#F0F3BD\", \"#41B5A3\", \"#FF6F59\", \"#254441\", \"#B2B09B\", \"#EF3054\", \"#9D9CE8\", \"#0F4777\", \"#5F67DD\", \"#235077\", \"#CCE4F9\", \"#1748D1\", \"#8BB3D6\", \"#467196\", \"#F2C4A2\", \"#F2B1A4\", \"#C42746\", \"#330C25\", \"#41B5A3\", \"#FFAF87\", \"#FF8E72\", \"#ED6A5E\", \"#377771\", \"#E89005\", \"#C6000D\", \"#000000\", \"#05668D\", \"#028090\", \"#9FD35C\", \"#02C39A\", \"#F0F3BD\", \"#41B5A3\", \"#FF6F59\", \"#254441\", \"#B2B09B\", \"#EF3054\", \"#9D9CE8\", \"#0F4777\", \"#5F67DD\", \"#235077\", \"#CCE4F9\", \"#1748D1\", \"#8BB3D6\", \"#467196\", \"#F2C4A2\", \"#F2B1A4\", \"#C42746\", \"#330C25\"]}, \"y\": [\"Stack Overflow Enterprise\", \"HipChat\", \"Facebook\", \"Trello\", \"Other chat system (IRC, proprietary software, etc.)\", \"Google Hangouts/Chat\", \"Confluence\", \"Other wiki tool (Github, Google Sites, proprietary software, etc.)\", \"Office / productivity suite (Microsoft Office, Google Suite, etc.)\", \"Jira\", \"Slack\"], \"type\": \"bar\", \"orientation\": \"h\", \"x\": [1851, 3523, 5670, 10220, 12241, 12360, 16986, 17878, 22415, 23691, 29482]}], {\"margin\": {\"l\": 600}}, {\"linkText\": \"Export to plot.ly\", \"showLink\": true})});</script>"
      ],
      "text/vnd.plotly.v1+html": [
       "<div id=\"16f3c406-6525-4f88-9284-15daf26a118a\" style=\"height: 525px; width: 100%;\" class=\"plotly-graph-div\"></div><script type=\"text/javascript\">require([\"plotly\"], function(Plotly) { window.PLOTLYENV=window.PLOTLYENV || {};window.PLOTLYENV.BASE_URL=\"https://plot.ly\";Plotly.newPlot(\"16f3c406-6525-4f88-9284-15daf26a118a\", [{\"marker\": {\"color\": [\"#41B5A3\", \"#FFAF87\", \"#FF8E72\", \"#ED6A5E\", \"#377771\", \"#E89005\", \"#C6000D\", \"#000000\", \"#05668D\", \"#028090\", \"#9FD35C\", \"#02C39A\", \"#F0F3BD\", \"#41B5A3\", \"#FF6F59\", \"#254441\", \"#B2B09B\", \"#EF3054\", \"#9D9CE8\", \"#0F4777\", \"#5F67DD\", \"#235077\", \"#CCE4F9\", \"#1748D1\", \"#8BB3D6\", \"#467196\", \"#F2C4A2\", \"#F2B1A4\", \"#C42746\", \"#330C25\", \"#41B5A3\", \"#FFAF87\", \"#FF8E72\", \"#ED6A5E\", \"#377771\", \"#E89005\", \"#C6000D\", \"#000000\", \"#05668D\", \"#028090\", \"#9FD35C\", \"#02C39A\", \"#F0F3BD\", \"#41B5A3\", \"#FF6F59\", \"#254441\", \"#B2B09B\", \"#EF3054\", \"#9D9CE8\", \"#0F4777\", \"#5F67DD\", \"#235077\", \"#CCE4F9\", \"#1748D1\", \"#8BB3D6\", \"#467196\", \"#F2C4A2\", \"#F2B1A4\", \"#C42746\", \"#330C25\"]}, \"y\": [\"Stack Overflow Enterprise\", \"HipChat\", \"Facebook\", \"Trello\", \"Other chat system (IRC, proprietary software, etc.)\", \"Google Hangouts/Chat\", \"Confluence\", \"Other wiki tool (Github, Google Sites, proprietary software, etc.)\", \"Office / productivity suite (Microsoft Office, Google Suite, etc.)\", \"Jira\", \"Slack\"], \"type\": \"bar\", \"orientation\": \"h\", \"x\": [1851, 3523, 5670, 10220, 12241, 12360, 16986, 17878, 22415, 23691, 29482]}], {\"margin\": {\"l\": 600}}, {\"linkText\": \"Export to plot.ly\", \"showLink\": true})});</script>"
      ]
     },
     "metadata": {},
     "output_type": "display_data"
    }
   ],
   "source": [
    "horizontarBar(data[\"CommunicationTools\"].dropna(),'h')"
   ]
  },
  {
   "cell_type": "markdown",
   "metadata": {},
   "source": [
    "Most popular communication tools :\n",
    "\n",
    "Slack used by around 19 % developers.\n",
    "\n",
    "Jira used by around 15 % developers.\n",
    "\n",
    "Office / productivity suite used by around 14 % developers.\n",
    "\n",
    "Stack overflow used by only around 2 % developers."
   ]
  },
  {
   "cell_type": "markdown",
   "metadata": {},
   "source": [
    "### How satisfied are developers with their Job"
   ]
  },
  {
   "cell_type": "code",
   "execution_count": 30,
   "metadata": {},
   "outputs": [
    {
     "data": {
      "application/vnd.plotly.v1+json": {
       "data": [
        {
         "domain": {
          "x": [
           0,
           0.95
          ]
         },
         "hole": 0.7,
         "hoverinfo": "label+percent+name",
         "labels": [
          "Moderately satisfied",
          "Extremely satisfied",
          "Slightly satisfied",
          "Slightly dissatisfied",
          "Moderately dissatisfied",
          "Neither satisfied nor dissatisfied",
          "Extremely dissatisfied"
         ],
         "marker": {
          "colors": [
           "#330C25",
           "#C42746",
           "#F2B1A4",
           "#F2C4A2",
           "#467196",
           "#8BB3D6",
           "#1748D1",
           "#CCE4F9",
           "#235077",
           "#5F67DD",
           "#0F4777",
           "#9D9CE8",
           "#EF3054",
           "#B2B09B",
           "#254441",
           "#FF6F59",
           "#41B5A3",
           "#F0F3BD",
           "#02C39A",
           "#9FD35C",
           "#028090",
           "#05668D",
           "#000000",
           "#C6000D",
           "#E89005",
           "#377771",
           "#ED6A5E",
           "#FF8E72",
           "#FFAF87",
           "#41B5A3",
           "#330C25",
           "#C42746",
           "#F2B1A4",
           "#F2C4A2",
           "#467196",
           "#8BB3D6",
           "#1748D1",
           "#CCE4F9",
           "#235077",
           "#5F67DD",
           "#0F4777",
           "#9D9CE8",
           "#EF3054",
           "#B2B09B",
           "#254441",
           "#FF6F59",
           "#41B5A3",
           "#F0F3BD",
           "#02C39A",
           "#9FD35C",
           "#028090",
           "#05668D",
           "#000000",
           "#C6000D",
           "#E89005",
           "#377771",
           "#ED6A5E",
           "#FF8E72",
           "#FFAF87",
           "#41B5A3"
          ]
         },
         "name": "Are users satisfied with their job?",
         "textfont": {
          "color": "#FFFFFF"
         },
         "type": "pie",
         "values": [
          26005,
          12436,
          10012,
          7057,
          6318,
          4966,
          2482
         ]
        }
       ],
       "layout": {
        "annotations": [
         {
          "font": {
           "size": 15
          },
          "showarrow": false,
          "text": "Job Satisfaction",
          "x": 0.47,
          "y": 0.5
         }
        ],
        "title": "Are users satisfied with their job?"
       }
      },
      "text/html": [
       "<div id=\"896b87c1-f321-44fb-a473-315773e79d50\" style=\"height: 525px; width: 100%;\" class=\"plotly-graph-div\"></div><script type=\"text/javascript\">require([\"plotly\"], function(Plotly) { window.PLOTLYENV=window.PLOTLYENV || {};window.PLOTLYENV.BASE_URL=\"https://plot.ly\";Plotly.newPlot(\"896b87c1-f321-44fb-a473-315773e79d50\", [{\"domain\": {\"x\": [0, 0.95]}, \"name\": \"Are users satisfied with their job?\", \"labels\": [\"Moderately satisfied\", \"Extremely satisfied\", \"Slightly satisfied\", \"Slightly dissatisfied\", \"Moderately dissatisfied\", \"Neither satisfied nor dissatisfied\", \"Extremely dissatisfied\"], \"textfont\": {\"color\": \"#FFFFFF\"}, \"values\": [26005, 12436, 10012, 7057, 6318, 4966, 2482], \"hoverinfo\": \"label+percent+name\", \"marker\": {\"colors\": [\"#330C25\", \"#C42746\", \"#F2B1A4\", \"#F2C4A2\", \"#467196\", \"#8BB3D6\", \"#1748D1\", \"#CCE4F9\", \"#235077\", \"#5F67DD\", \"#0F4777\", \"#9D9CE8\", \"#EF3054\", \"#B2B09B\", \"#254441\", \"#FF6F59\", \"#41B5A3\", \"#F0F3BD\", \"#02C39A\", \"#9FD35C\", \"#028090\", \"#05668D\", \"#000000\", \"#C6000D\", \"#E89005\", \"#377771\", \"#ED6A5E\", \"#FF8E72\", \"#FFAF87\", \"#41B5A3\", \"#330C25\", \"#C42746\", \"#F2B1A4\", \"#F2C4A2\", \"#467196\", \"#8BB3D6\", \"#1748D1\", \"#CCE4F9\", \"#235077\", \"#5F67DD\", \"#0F4777\", \"#9D9CE8\", \"#EF3054\", \"#B2B09B\", \"#254441\", \"#FF6F59\", \"#41B5A3\", \"#F0F3BD\", \"#02C39A\", \"#9FD35C\", \"#028090\", \"#05668D\", \"#000000\", \"#C6000D\", \"#E89005\", \"#377771\", \"#ED6A5E\", \"#FF8E72\", \"#FFAF87\", \"#41B5A3\"]}, \"hole\": 0.7, \"type\": \"pie\"}], {\"annotations\": [{\"y\": 0.5, \"text\": \"Job Satisfaction\", \"font\": {\"size\": 15}, \"showarrow\": false, \"x\": 0.47}], \"title\": \"Are users satisfied with their job?\"}, {\"linkText\": \"Export to plot.ly\", \"showLink\": true})});</script>"
      ],
      "text/vnd.plotly.v1+html": [
       "<div id=\"896b87c1-f321-44fb-a473-315773e79d50\" style=\"height: 525px; width: 100%;\" class=\"plotly-graph-div\"></div><script type=\"text/javascript\">require([\"plotly\"], function(Plotly) { window.PLOTLYENV=window.PLOTLYENV || {};window.PLOTLYENV.BASE_URL=\"https://plot.ly\";Plotly.newPlot(\"896b87c1-f321-44fb-a473-315773e79d50\", [{\"domain\": {\"x\": [0, 0.95]}, \"name\": \"Are users satisfied with their job?\", \"labels\": [\"Moderately satisfied\", \"Extremely satisfied\", \"Slightly satisfied\", \"Slightly dissatisfied\", \"Moderately dissatisfied\", \"Neither satisfied nor dissatisfied\", \"Extremely dissatisfied\"], \"textfont\": {\"color\": \"#FFFFFF\"}, \"values\": [26005, 12436, 10012, 7057, 6318, 4966, 2482], \"hoverinfo\": \"label+percent+name\", \"marker\": {\"colors\": [\"#330C25\", \"#C42746\", \"#F2B1A4\", \"#F2C4A2\", \"#467196\", \"#8BB3D6\", \"#1748D1\", \"#CCE4F9\", \"#235077\", \"#5F67DD\", \"#0F4777\", \"#9D9CE8\", \"#EF3054\", \"#B2B09B\", \"#254441\", \"#FF6F59\", \"#41B5A3\", \"#F0F3BD\", \"#02C39A\", \"#9FD35C\", \"#028090\", \"#05668D\", \"#000000\", \"#C6000D\", \"#E89005\", \"#377771\", \"#ED6A5E\", \"#FF8E72\", \"#FFAF87\", \"#41B5A3\", \"#330C25\", \"#C42746\", \"#F2B1A4\", \"#F2C4A2\", \"#467196\", \"#8BB3D6\", \"#1748D1\", \"#CCE4F9\", \"#235077\", \"#5F67DD\", \"#0F4777\", \"#9D9CE8\", \"#EF3054\", \"#B2B09B\", \"#254441\", \"#FF6F59\", \"#41B5A3\", \"#F0F3BD\", \"#02C39A\", \"#9FD35C\", \"#028090\", \"#05668D\", \"#000000\", \"#C6000D\", \"#E89005\", \"#377771\", \"#ED6A5E\", \"#FF8E72\", \"#FFAF87\", \"#41B5A3\"]}, \"hole\": 0.7, \"type\": \"pie\"}], {\"annotations\": [{\"y\": 0.5, \"text\": \"Job Satisfaction\", \"font\": {\"size\": 15}, \"showarrow\": false, \"x\": 0.47}], \"title\": \"Are users satisfied with their job?\"}, {\"linkText\": \"Export to plot.ly\", \"showLink\": true})});</script>"
      ]
     },
     "metadata": {},
     "output_type": "display_data"
    }
   ],
   "source": [
    "donut_graph(data[\"JobSatisfaction\"],\"Job Satisfaction\",\"Are users satisfied with their job?\")"
   ]
  },
  {
   "cell_type": "markdown",
   "metadata": {},
   "source": [
    "We can see that majority of developers are moderately satisfied with their job. 18% of developers are extremely satisfied with their job. "
   ]
  },
  {
   "cell_type": "markdown",
   "metadata": {},
   "source": [
    "### Are developers satisfied with their Career"
   ]
  },
  {
   "cell_type": "code",
   "execution_count": 31,
   "metadata": {},
   "outputs": [
    {
     "data": {
      "application/vnd.plotly.v1+json": {
       "data": [
        {
         "domain": {
          "x": [
           0,
           0.95
          ]
         },
         "hole": 0.7,
         "hoverinfo": "label+percent+name",
         "labels": [
          "Moderately satisfied",
          "Extremely satisfied",
          "Slightly satisfied",
          "Slightly dissatisfied",
          "Neither satisfied nor dissatisfied",
          "Moderately dissatisfied",
          "Extremely dissatisfied"
         ],
         "marker": {
          "colors": [
           "#330C25",
           "#C42746",
           "#F2B1A4",
           "#F2C4A2",
           "#467196",
           "#8BB3D6",
           "#1748D1",
           "#CCE4F9",
           "#235077",
           "#5F67DD",
           "#0F4777",
           "#9D9CE8",
           "#EF3054",
           "#B2B09B",
           "#254441",
           "#FF6F59",
           "#41B5A3",
           "#F0F3BD",
           "#02C39A",
           "#9FD35C",
           "#028090",
           "#05668D",
           "#000000",
           "#C6000D",
           "#E89005",
           "#377771",
           "#ED6A5E",
           "#FF8E72",
           "#FFAF87",
           "#41B5A3",
           "#330C25",
           "#C42746",
           "#F2B1A4",
           "#F2C4A2",
           "#467196",
           "#8BB3D6",
           "#1748D1",
           "#CCE4F9",
           "#235077",
           "#5F67DD",
           "#0F4777",
           "#9D9CE8",
           "#EF3054",
           "#B2B09B",
           "#254441",
           "#FF6F59",
           "#41B5A3",
           "#F0F3BD",
           "#02C39A",
           "#9FD35C",
           "#028090",
           "#05668D",
           "#000000",
           "#C6000D",
           "#E89005",
           "#377771",
           "#ED6A5E",
           "#FF8E72",
           "#FFAF87",
           "#41B5A3"
          ]
         },
         "name": "Are users satisfied with their career",
         "textfont": {
          "color": "#FFFFFF"
         },
         "type": "pie",
         "values": [
          27926,
          14316,
          13484,
          6587,
          6316,
          5262,
          2613
         ]
        }
       ],
       "layout": {
        "annotations": [
         {
          "font": {
           "size": 15
          },
          "showarrow": false,
          "text": "Career Satisfaction",
          "x": 0.47,
          "y": 0.5
         }
        ],
        "title": "Are users satisfied with their career"
       }
      },
      "text/html": [
       "<div id=\"4db16195-c167-4cc2-a5ec-d251ca5d8b0b\" style=\"height: 525px; width: 100%;\" class=\"plotly-graph-div\"></div><script type=\"text/javascript\">require([\"plotly\"], function(Plotly) { window.PLOTLYENV=window.PLOTLYENV || {};window.PLOTLYENV.BASE_URL=\"https://plot.ly\";Plotly.newPlot(\"4db16195-c167-4cc2-a5ec-d251ca5d8b0b\", [{\"domain\": {\"x\": [0, 0.95]}, \"name\": \"Are users satisfied with their career\", \"labels\": [\"Moderately satisfied\", \"Extremely satisfied\", \"Slightly satisfied\", \"Slightly dissatisfied\", \"Neither satisfied nor dissatisfied\", \"Moderately dissatisfied\", \"Extremely dissatisfied\"], \"textfont\": {\"color\": \"#FFFFFF\"}, \"values\": [27926, 14316, 13484, 6587, 6316, 5262, 2613], \"hoverinfo\": \"label+percent+name\", \"marker\": {\"colors\": [\"#330C25\", \"#C42746\", \"#F2B1A4\", \"#F2C4A2\", \"#467196\", \"#8BB3D6\", \"#1748D1\", \"#CCE4F9\", \"#235077\", \"#5F67DD\", \"#0F4777\", \"#9D9CE8\", \"#EF3054\", \"#B2B09B\", \"#254441\", \"#FF6F59\", \"#41B5A3\", \"#F0F3BD\", \"#02C39A\", \"#9FD35C\", \"#028090\", \"#05668D\", \"#000000\", \"#C6000D\", \"#E89005\", \"#377771\", \"#ED6A5E\", \"#FF8E72\", \"#FFAF87\", \"#41B5A3\", \"#330C25\", \"#C42746\", \"#F2B1A4\", \"#F2C4A2\", \"#467196\", \"#8BB3D6\", \"#1748D1\", \"#CCE4F9\", \"#235077\", \"#5F67DD\", \"#0F4777\", \"#9D9CE8\", \"#EF3054\", \"#B2B09B\", \"#254441\", \"#FF6F59\", \"#41B5A3\", \"#F0F3BD\", \"#02C39A\", \"#9FD35C\", \"#028090\", \"#05668D\", \"#000000\", \"#C6000D\", \"#E89005\", \"#377771\", \"#ED6A5E\", \"#FF8E72\", \"#FFAF87\", \"#41B5A3\"]}, \"hole\": 0.7, \"type\": \"pie\"}], {\"annotations\": [{\"y\": 0.5, \"text\": \"Career Satisfaction\", \"font\": {\"size\": 15}, \"showarrow\": false, \"x\": 0.47}], \"title\": \"Are users satisfied with their career\"}, {\"linkText\": \"Export to plot.ly\", \"showLink\": true})});</script>"
      ],
      "text/vnd.plotly.v1+html": [
       "<div id=\"4db16195-c167-4cc2-a5ec-d251ca5d8b0b\" style=\"height: 525px; width: 100%;\" class=\"plotly-graph-div\"></div><script type=\"text/javascript\">require([\"plotly\"], function(Plotly) { window.PLOTLYENV=window.PLOTLYENV || {};window.PLOTLYENV.BASE_URL=\"https://plot.ly\";Plotly.newPlot(\"4db16195-c167-4cc2-a5ec-d251ca5d8b0b\", [{\"domain\": {\"x\": [0, 0.95]}, \"name\": \"Are users satisfied with their career\", \"labels\": [\"Moderately satisfied\", \"Extremely satisfied\", \"Slightly satisfied\", \"Slightly dissatisfied\", \"Neither satisfied nor dissatisfied\", \"Moderately dissatisfied\", \"Extremely dissatisfied\"], \"textfont\": {\"color\": \"#FFFFFF\"}, \"values\": [27926, 14316, 13484, 6587, 6316, 5262, 2613], \"hoverinfo\": \"label+percent+name\", \"marker\": {\"colors\": [\"#330C25\", \"#C42746\", \"#F2B1A4\", \"#F2C4A2\", \"#467196\", \"#8BB3D6\", \"#1748D1\", \"#CCE4F9\", \"#235077\", \"#5F67DD\", \"#0F4777\", \"#9D9CE8\", \"#EF3054\", \"#B2B09B\", \"#254441\", \"#FF6F59\", \"#41B5A3\", \"#F0F3BD\", \"#02C39A\", \"#9FD35C\", \"#028090\", \"#05668D\", \"#000000\", \"#C6000D\", \"#E89005\", \"#377771\", \"#ED6A5E\", \"#FF8E72\", \"#FFAF87\", \"#41B5A3\", \"#330C25\", \"#C42746\", \"#F2B1A4\", \"#F2C4A2\", \"#467196\", \"#8BB3D6\", \"#1748D1\", \"#CCE4F9\", \"#235077\", \"#5F67DD\", \"#0F4777\", \"#9D9CE8\", \"#EF3054\", \"#B2B09B\", \"#254441\", \"#FF6F59\", \"#41B5A3\", \"#F0F3BD\", \"#02C39A\", \"#9FD35C\", \"#028090\", \"#05668D\", \"#000000\", \"#C6000D\", \"#E89005\", \"#377771\", \"#ED6A5E\", \"#FF8E72\", \"#FFAF87\", \"#41B5A3\"]}, \"hole\": 0.7, \"type\": \"pie\"}], {\"annotations\": [{\"y\": 0.5, \"text\": \"Career Satisfaction\", \"font\": {\"size\": 15}, \"showarrow\": false, \"x\": 0.47}], \"title\": \"Are users satisfied with their career\"}, {\"linkText\": \"Export to plot.ly\", \"showLink\": true})});</script>"
      ]
     },
     "metadata": {},
     "output_type": "display_data"
    }
   ],
   "source": [
    "donut_graph(data[\"CareerSatisfaction\"],\"Career Satisfaction\",\"Are users satisfied with their career\")"
   ]
  },
  {
   "cell_type": "markdown",
   "metadata": {},
   "source": [
    "Similar to jon satisfication, majority of developers are satisfied with their careers. With more than 50% which are either extremely, moderatoly or slightly satisfied with their career."
   ]
  },
  {
   "cell_type": "markdown",
   "metadata": {},
   "source": [
    "### Effect of Wake-up time on job satisfaction\n"
   ]
  },
  {
   "cell_type": "code",
   "execution_count": 32,
   "metadata": {},
   "outputs": [
    {
     "data": {
      "application/vnd.plotly.v1+json": {
       "data": [
        {
         "name": "Extremely dissatisfied",
         "type": "bar",
         "x": [
          "After 12:01 PM",
          "Before 5:00 AM",
          "Between 10:01 - 11:00 AM",
          "Between 11:01 AM - 12:00 PM",
          "Between 5:00 - 6:00 AM",
          "Between 6:01 - 7:00 AM",
          "Between 7:01 - 8:00 AM",
          "Between 8:01 - 9:00 AM",
          "Between 9:01 - 10:00 AM",
          "I do not have a set schedule",
          "I work night shifts"
         ],
         "y": [
          12,
          92,
          29,
          15,
          290,
          564,
          586,
          289,
          118,
          81,
          16
         ]
        },
        {
         "name": "Extremely satisfied",
         "type": "bar",
         "x": [
          "After 12:01 PM",
          "Before 5:00 AM",
          "Between 10:01 - 11:00 AM",
          "Between 11:01 AM - 12:00 PM",
          "Between 5:00 - 6:00 AM",
          "Between 6:01 - 7:00 AM",
          "Between 7:01 - 8:00 AM",
          "Between 8:01 - 9:00 AM",
          "Between 9:01 - 10:00 AM",
          "I do not have a set schedule",
          "I work night shifts"
         ],
         "y": [
          36,
          283,
          138,
          51,
          1479,
          3284,
          3146,
          1569,
          489,
          453,
          33
         ]
        },
        {
         "name": "Moderately dissatisfied",
         "type": "bar",
         "x": [
          "After 12:01 PM",
          "Before 5:00 AM",
          "Between 10:01 - 11:00 AM",
          "Between 11:01 AM - 12:00 PM",
          "Between 5:00 - 6:00 AM",
          "Between 6:01 - 7:00 AM",
          "Between 7:01 - 8:00 AM",
          "Between 8:01 - 9:00 AM",
          "Between 9:01 - 10:00 AM",
          "I do not have a set schedule",
          "I work night shifts"
         ],
         "y": [
          16,
          127,
          74,
          24,
          654,
          1591,
          1691,
          885,
          276,
          169,
          14
         ]
        },
        {
         "name": "Moderately satisfied",
         "type": "bar",
         "x": [
          "After 12:01 PM",
          "Before 5:00 AM",
          "Between 10:01 - 11:00 AM",
          "Between 11:01 AM - 12:00 PM",
          "Between 5:00 - 6:00 AM",
          "Between 6:01 - 7:00 AM",
          "Between 7:01 - 8:00 AM",
          "Between 8:01 - 9:00 AM",
          "Between 9:01 - 10:00 AM",
          "I do not have a set schedule",
          "I work night shifts"
         ],
         "y": [
          64,
          423,
          286,
          108,
          2768,
          6557,
          7087,
          3590,
          1015,
          787,
          72
         ]
        },
        {
         "name": "Neither satisfied nor dissatisfied",
         "type": "bar",
         "x": [
          "After 12:01 PM",
          "Before 5:00 AM",
          "Between 10:01 - 11:00 AM",
          "Between 11:01 AM - 12:00 PM",
          "Between 5:00 - 6:00 AM",
          "Between 6:01 - 7:00 AM",
          "Between 7:01 - 8:00 AM",
          "Between 8:01 - 9:00 AM",
          "Between 9:01 - 10:00 AM",
          "I do not have a set schedule",
          "I work night shifts"
         ],
         "y": [
          16,
          103,
          78,
          24,
          532,
          1096,
          1211,
          637,
          230,
          229,
          23
         ]
        },
        {
         "name": "Slightly dissatisfied",
         "type": "bar",
         "x": [
          "After 12:01 PM",
          "Before 5:00 AM",
          "Between 10:01 - 11:00 AM",
          "Between 11:01 AM - 12:00 PM",
          "Between 5:00 - 6:00 AM",
          "Between 6:01 - 7:00 AM",
          "Between 7:01 - 8:00 AM",
          "Between 8:01 - 9:00 AM",
          "Between 9:01 - 10:00 AM",
          "I do not have a set schedule",
          "I work night shifts"
         ],
         "y": [
          28,
          136,
          74,
          29,
          750,
          1736,
          1942,
          953,
          314,
          206,
          22
         ]
        },
        {
         "name": "Slightly satisfied",
         "type": "bar",
         "x": [
          "After 12:01 PM",
          "Before 5:00 AM",
          "Between 10:01 - 11:00 AM",
          "Between 11:01 AM - 12:00 PM",
          "Between 5:00 - 6:00 AM",
          "Between 6:01 - 7:00 AM",
          "Between 7:01 - 8:00 AM",
          "Between 8:01 - 9:00 AM",
          "Between 9:01 - 10:00 AM",
          "I do not have a set schedule",
          "I work night shifts"
         ],
         "y": [
          32,
          177,
          157,
          39,
          969,
          2393,
          2734,
          1382,
          478,
          313,
          27
         ]
        }
       ],
       "layout": {
        "title": "Effect of Wake-up time on job satisfaction",
        "xaxis": {
         "title": "Wake-up time"
        }
       }
      },
      "text/html": [
       "<div id=\"173d94e1-f22d-4ff4-a3bf-7412e39e5bb4\" style=\"height: 525px; width: 100%;\" class=\"plotly-graph-div\"></div><script type=\"text/javascript\">require([\"plotly\"], function(Plotly) { window.PLOTLYENV=window.PLOTLYENV || {};window.PLOTLYENV.BASE_URL=\"https://plot.ly\";Plotly.newPlot(\"173d94e1-f22d-4ff4-a3bf-7412e39e5bb4\", [{\"y\": [12, 92, 29, 15, 290, 564, 586, 289, 118, 81, 16], \"x\": [\"After 12:01 PM\", \"Before 5:00 AM\", \"Between 10:01 - 11:00 AM\", \"Between 11:01 AM - 12:00 PM\", \"Between 5:00 - 6:00 AM\", \"Between 6:01 - 7:00 AM\", \"Between 7:01 - 8:00 AM\", \"Between 8:01 - 9:00 AM\", \"Between 9:01 - 10:00 AM\", \"I do not have a set schedule\", \"I work night shifts\"], \"type\": \"bar\", \"name\": \"Extremely dissatisfied\"}, {\"y\": [36, 283, 138, 51, 1479, 3284, 3146, 1569, 489, 453, 33], \"x\": [\"After 12:01 PM\", \"Before 5:00 AM\", \"Between 10:01 - 11:00 AM\", \"Between 11:01 AM - 12:00 PM\", \"Between 5:00 - 6:00 AM\", \"Between 6:01 - 7:00 AM\", \"Between 7:01 - 8:00 AM\", \"Between 8:01 - 9:00 AM\", \"Between 9:01 - 10:00 AM\", \"I do not have a set schedule\", \"I work night shifts\"], \"type\": \"bar\", \"name\": \"Extremely satisfied\"}, {\"y\": [16, 127, 74, 24, 654, 1591, 1691, 885, 276, 169, 14], \"x\": [\"After 12:01 PM\", \"Before 5:00 AM\", \"Between 10:01 - 11:00 AM\", \"Between 11:01 AM - 12:00 PM\", \"Between 5:00 - 6:00 AM\", \"Between 6:01 - 7:00 AM\", \"Between 7:01 - 8:00 AM\", \"Between 8:01 - 9:00 AM\", \"Between 9:01 - 10:00 AM\", \"I do not have a set schedule\", \"I work night shifts\"], \"type\": \"bar\", \"name\": \"Moderately dissatisfied\"}, {\"y\": [64, 423, 286, 108, 2768, 6557, 7087, 3590, 1015, 787, 72], \"x\": [\"After 12:01 PM\", \"Before 5:00 AM\", \"Between 10:01 - 11:00 AM\", \"Between 11:01 AM - 12:00 PM\", \"Between 5:00 - 6:00 AM\", \"Between 6:01 - 7:00 AM\", \"Between 7:01 - 8:00 AM\", \"Between 8:01 - 9:00 AM\", \"Between 9:01 - 10:00 AM\", \"I do not have a set schedule\", \"I work night shifts\"], \"type\": \"bar\", \"name\": \"Moderately satisfied\"}, {\"y\": [16, 103, 78, 24, 532, 1096, 1211, 637, 230, 229, 23], \"x\": [\"After 12:01 PM\", \"Before 5:00 AM\", \"Between 10:01 - 11:00 AM\", \"Between 11:01 AM - 12:00 PM\", \"Between 5:00 - 6:00 AM\", \"Between 6:01 - 7:00 AM\", \"Between 7:01 - 8:00 AM\", \"Between 8:01 - 9:00 AM\", \"Between 9:01 - 10:00 AM\", \"I do not have a set schedule\", \"I work night shifts\"], \"type\": \"bar\", \"name\": \"Neither satisfied nor dissatisfied\"}, {\"y\": [28, 136, 74, 29, 750, 1736, 1942, 953, 314, 206, 22], \"x\": [\"After 12:01 PM\", \"Before 5:00 AM\", \"Between 10:01 - 11:00 AM\", \"Between 11:01 AM - 12:00 PM\", \"Between 5:00 - 6:00 AM\", \"Between 6:01 - 7:00 AM\", \"Between 7:01 - 8:00 AM\", \"Between 8:01 - 9:00 AM\", \"Between 9:01 - 10:00 AM\", \"I do not have a set schedule\", \"I work night shifts\"], \"type\": \"bar\", \"name\": \"Slightly dissatisfied\"}, {\"y\": [32, 177, 157, 39, 969, 2393, 2734, 1382, 478, 313, 27], \"x\": [\"After 12:01 PM\", \"Before 5:00 AM\", \"Between 10:01 - 11:00 AM\", \"Between 11:01 AM - 12:00 PM\", \"Between 5:00 - 6:00 AM\", \"Between 6:01 - 7:00 AM\", \"Between 7:01 - 8:00 AM\", \"Between 8:01 - 9:00 AM\", \"Between 9:01 - 10:00 AM\", \"I do not have a set schedule\", \"I work night shifts\"], \"type\": \"bar\", \"name\": \"Slightly satisfied\"}], {\"xaxis\": {\"title\": \"Wake-up time\"}, \"title\": \"Effect of Wake-up time on job satisfaction\"}, {\"linkText\": \"Export to plot.ly\", \"showLink\": true})});</script>"
      ],
      "text/vnd.plotly.v1+html": [
       "<div id=\"173d94e1-f22d-4ff4-a3bf-7412e39e5bb4\" style=\"height: 525px; width: 100%;\" class=\"plotly-graph-div\"></div><script type=\"text/javascript\">require([\"plotly\"], function(Plotly) { window.PLOTLYENV=window.PLOTLYENV || {};window.PLOTLYENV.BASE_URL=\"https://plot.ly\";Plotly.newPlot(\"173d94e1-f22d-4ff4-a3bf-7412e39e5bb4\", [{\"y\": [12, 92, 29, 15, 290, 564, 586, 289, 118, 81, 16], \"x\": [\"After 12:01 PM\", \"Before 5:00 AM\", \"Between 10:01 - 11:00 AM\", \"Between 11:01 AM - 12:00 PM\", \"Between 5:00 - 6:00 AM\", \"Between 6:01 - 7:00 AM\", \"Between 7:01 - 8:00 AM\", \"Between 8:01 - 9:00 AM\", \"Between 9:01 - 10:00 AM\", \"I do not have a set schedule\", \"I work night shifts\"], \"type\": \"bar\", \"name\": \"Extremely dissatisfied\"}, {\"y\": [36, 283, 138, 51, 1479, 3284, 3146, 1569, 489, 453, 33], \"x\": [\"After 12:01 PM\", \"Before 5:00 AM\", \"Between 10:01 - 11:00 AM\", \"Between 11:01 AM - 12:00 PM\", \"Between 5:00 - 6:00 AM\", \"Between 6:01 - 7:00 AM\", \"Between 7:01 - 8:00 AM\", \"Between 8:01 - 9:00 AM\", \"Between 9:01 - 10:00 AM\", \"I do not have a set schedule\", \"I work night shifts\"], \"type\": \"bar\", \"name\": \"Extremely satisfied\"}, {\"y\": [16, 127, 74, 24, 654, 1591, 1691, 885, 276, 169, 14], \"x\": [\"After 12:01 PM\", \"Before 5:00 AM\", \"Between 10:01 - 11:00 AM\", \"Between 11:01 AM - 12:00 PM\", \"Between 5:00 - 6:00 AM\", \"Between 6:01 - 7:00 AM\", \"Between 7:01 - 8:00 AM\", \"Between 8:01 - 9:00 AM\", \"Between 9:01 - 10:00 AM\", \"I do not have a set schedule\", \"I work night shifts\"], \"type\": \"bar\", \"name\": \"Moderately dissatisfied\"}, {\"y\": [64, 423, 286, 108, 2768, 6557, 7087, 3590, 1015, 787, 72], \"x\": [\"After 12:01 PM\", \"Before 5:00 AM\", \"Between 10:01 - 11:00 AM\", \"Between 11:01 AM - 12:00 PM\", \"Between 5:00 - 6:00 AM\", \"Between 6:01 - 7:00 AM\", \"Between 7:01 - 8:00 AM\", \"Between 8:01 - 9:00 AM\", \"Between 9:01 - 10:00 AM\", \"I do not have a set schedule\", \"I work night shifts\"], \"type\": \"bar\", \"name\": \"Moderately satisfied\"}, {\"y\": [16, 103, 78, 24, 532, 1096, 1211, 637, 230, 229, 23], \"x\": [\"After 12:01 PM\", \"Before 5:00 AM\", \"Between 10:01 - 11:00 AM\", \"Between 11:01 AM - 12:00 PM\", \"Between 5:00 - 6:00 AM\", \"Between 6:01 - 7:00 AM\", \"Between 7:01 - 8:00 AM\", \"Between 8:01 - 9:00 AM\", \"Between 9:01 - 10:00 AM\", \"I do not have a set schedule\", \"I work night shifts\"], \"type\": \"bar\", \"name\": \"Neither satisfied nor dissatisfied\"}, {\"y\": [28, 136, 74, 29, 750, 1736, 1942, 953, 314, 206, 22], \"x\": [\"After 12:01 PM\", \"Before 5:00 AM\", \"Between 10:01 - 11:00 AM\", \"Between 11:01 AM - 12:00 PM\", \"Between 5:00 - 6:00 AM\", \"Between 6:01 - 7:00 AM\", \"Between 7:01 - 8:00 AM\", \"Between 8:01 - 9:00 AM\", \"Between 9:01 - 10:00 AM\", \"I do not have a set schedule\", \"I work night shifts\"], \"type\": \"bar\", \"name\": \"Slightly dissatisfied\"}, {\"y\": [32, 177, 157, 39, 969, 2393, 2734, 1382, 478, 313, 27], \"x\": [\"After 12:01 PM\", \"Before 5:00 AM\", \"Between 10:01 - 11:00 AM\", \"Between 11:01 AM - 12:00 PM\", \"Between 5:00 - 6:00 AM\", \"Between 6:01 - 7:00 AM\", \"Between 7:01 - 8:00 AM\", \"Between 8:01 - 9:00 AM\", \"Between 9:01 - 10:00 AM\", \"I do not have a set schedule\", \"I work night shifts\"], \"type\": \"bar\", \"name\": \"Slightly satisfied\"}], {\"xaxis\": {\"title\": \"Wake-up time\"}, \"title\": \"Effect of Wake-up time on job satisfaction\"}, {\"linkText\": \"Export to plot.ly\", \"showLink\": true})});</script>"
      ]
     },
     "metadata": {},
     "output_type": "display_data"
    }
   ],
   "source": [
    "# for more details see:https://plot.ly/python/bar-charts/\n",
    "dt = []\n",
    "effectwkup = data.groupby(['WakeTime','JobSatisfaction']).size().unstack()\n",
    "for i in effectwkup.columns:\n",
    "    dt.append({\n",
    "        'type' : 'bar',\n",
    "        'x' : effectwkup.index,\n",
    "        'y' : effectwkup[i],\n",
    "        'name' : i\n",
    "    })\n",
    "fig = {\n",
    "    'data' : dt,\n",
    "    'layout' : {\n",
    "        'title' :'Effect of Wake-up time on job satisfaction',\n",
    "        'xaxis' : {\n",
    "            'title' : 'Wake-up time'\n",
    "        },        \n",
    "    }\n",
    "}\n",
    "iplot(fig)"
   ]
  },
  {
   "cell_type": "markdown",
   "metadata": {},
   "source": [
    "Here we can see the relation between wakeup time and job satisfaction. Those who wake between 6 to 8 are most probable to be extremely and moderately satisfied. "
   ]
  },
  {
   "cell_type": "markdown",
   "metadata": {},
   "source": [
    "### Effect of Wake-up time on job satisfaction\n"
   ]
  },
  {
   "cell_type": "code",
   "execution_count": 33,
   "metadata": {},
   "outputs": [
    {
     "data": {
      "application/vnd.plotly.v1+json": {
       "data": [
        {
         "name": "Extremely dissatisfied",
         "type": "bar",
         "x": [
          "1 - 2 times per week",
          "3 - 4 times per week",
          "Daily or almost every day",
          "I don't typically exercise"
         ],
         "y": [
          556,
          419,
          290,
          821
         ]
        },
        {
         "name": "Extremely satisfied",
         "type": "bar",
         "x": [
          "1 - 2 times per week",
          "3 - 4 times per week",
          "Daily or almost every day",
          "I don't typically exercise"
         ],
         "y": [
          3117,
          2354,
          1717,
          3772
         ]
        },
        {
         "name": "Moderately dissatisfied",
         "type": "bar",
         "x": [
          "1 - 2 times per week",
          "3 - 4 times per week",
          "Daily or almost every day",
          "I don't typically exercise"
         ],
         "y": [
          1606,
          1106,
          692,
          2114
         ]
        },
        {
         "name": "Moderately satisfied",
         "type": "bar",
         "x": [
          "1 - 2 times per week",
          "3 - 4 times per week",
          "Daily or almost every day",
          "I don't typically exercise"
         ],
         "y": [
          6886,
          4717,
          2880,
          8262
         ]
        },
        {
         "name": "Neither satisfied nor dissatisfied",
         "type": "bar",
         "x": [
          "1 - 2 times per week",
          "3 - 4 times per week",
          "Daily or almost every day",
          "I don't typically exercise"
         ],
         "y": [
          1148,
          761,
          546,
          1715
         ]
        },
        {
         "name": "Slightly dissatisfied",
         "type": "bar",
         "x": [
          "1 - 2 times per week",
          "3 - 4 times per week",
          "Daily or almost every day",
          "I don't typically exercise"
         ],
         "y": [
          1729,
          1270,
          739,
          2447
         ]
        },
        {
         "name": "Slightly satisfied",
         "type": "bar",
         "x": [
          "1 - 2 times per week",
          "3 - 4 times per week",
          "Daily or almost every day",
          "I don't typically exercise"
         ],
         "y": [
          2625,
          1682,
          1106,
          3277
         ]
        }
       ],
       "layout": {
        "title": "Effect of Wake-up time on job satisfaction",
        "xaxis": {
         "title": "Wake-up time"
        }
       }
      },
      "text/html": [
       "<div id=\"ac166296-bbc7-4594-8fc4-78704573f243\" style=\"height: 525px; width: 100%;\" class=\"plotly-graph-div\"></div><script type=\"text/javascript\">require([\"plotly\"], function(Plotly) { window.PLOTLYENV=window.PLOTLYENV || {};window.PLOTLYENV.BASE_URL=\"https://plot.ly\";Plotly.newPlot(\"ac166296-bbc7-4594-8fc4-78704573f243\", [{\"y\": [556, 419, 290, 821], \"x\": [\"1 - 2 times per week\", \"3 - 4 times per week\", \"Daily or almost every day\", \"I don't typically exercise\"], \"type\": \"bar\", \"name\": \"Extremely dissatisfied\"}, {\"y\": [3117, 2354, 1717, 3772], \"x\": [\"1 - 2 times per week\", \"3 - 4 times per week\", \"Daily or almost every day\", \"I don't typically exercise\"], \"type\": \"bar\", \"name\": \"Extremely satisfied\"}, {\"y\": [1606, 1106, 692, 2114], \"x\": [\"1 - 2 times per week\", \"3 - 4 times per week\", \"Daily or almost every day\", \"I don't typically exercise\"], \"type\": \"bar\", \"name\": \"Moderately dissatisfied\"}, {\"y\": [6886, 4717, 2880, 8262], \"x\": [\"1 - 2 times per week\", \"3 - 4 times per week\", \"Daily or almost every day\", \"I don't typically exercise\"], \"type\": \"bar\", \"name\": \"Moderately satisfied\"}, {\"y\": [1148, 761, 546, 1715], \"x\": [\"1 - 2 times per week\", \"3 - 4 times per week\", \"Daily or almost every day\", \"I don't typically exercise\"], \"type\": \"bar\", \"name\": \"Neither satisfied nor dissatisfied\"}, {\"y\": [1729, 1270, 739, 2447], \"x\": [\"1 - 2 times per week\", \"3 - 4 times per week\", \"Daily or almost every day\", \"I don't typically exercise\"], \"type\": \"bar\", \"name\": \"Slightly dissatisfied\"}, {\"y\": [2625, 1682, 1106, 3277], \"x\": [\"1 - 2 times per week\", \"3 - 4 times per week\", \"Daily or almost every day\", \"I don't typically exercise\"], \"type\": \"bar\", \"name\": \"Slightly satisfied\"}], {\"xaxis\": {\"title\": \"Wake-up time\"}, \"title\": \"Effect of Wake-up time on job satisfaction\"}, {\"linkText\": \"Export to plot.ly\", \"showLink\": true})});</script>"
      ],
      "text/vnd.plotly.v1+html": [
       "<div id=\"ac166296-bbc7-4594-8fc4-78704573f243\" style=\"height: 525px; width: 100%;\" class=\"plotly-graph-div\"></div><script type=\"text/javascript\">require([\"plotly\"], function(Plotly) { window.PLOTLYENV=window.PLOTLYENV || {};window.PLOTLYENV.BASE_URL=\"https://plot.ly\";Plotly.newPlot(\"ac166296-bbc7-4594-8fc4-78704573f243\", [{\"y\": [556, 419, 290, 821], \"x\": [\"1 - 2 times per week\", \"3 - 4 times per week\", \"Daily or almost every day\", \"I don't typically exercise\"], \"type\": \"bar\", \"name\": \"Extremely dissatisfied\"}, {\"y\": [3117, 2354, 1717, 3772], \"x\": [\"1 - 2 times per week\", \"3 - 4 times per week\", \"Daily or almost every day\", \"I don't typically exercise\"], \"type\": \"bar\", \"name\": \"Extremely satisfied\"}, {\"y\": [1606, 1106, 692, 2114], \"x\": [\"1 - 2 times per week\", \"3 - 4 times per week\", \"Daily or almost every day\", \"I don't typically exercise\"], \"type\": \"bar\", \"name\": \"Moderately dissatisfied\"}, {\"y\": [6886, 4717, 2880, 8262], \"x\": [\"1 - 2 times per week\", \"3 - 4 times per week\", \"Daily or almost every day\", \"I don't typically exercise\"], \"type\": \"bar\", \"name\": \"Moderately satisfied\"}, {\"y\": [1148, 761, 546, 1715], \"x\": [\"1 - 2 times per week\", \"3 - 4 times per week\", \"Daily or almost every day\", \"I don't typically exercise\"], \"type\": \"bar\", \"name\": \"Neither satisfied nor dissatisfied\"}, {\"y\": [1729, 1270, 739, 2447], \"x\": [\"1 - 2 times per week\", \"3 - 4 times per week\", \"Daily or almost every day\", \"I don't typically exercise\"], \"type\": \"bar\", \"name\": \"Slightly dissatisfied\"}, {\"y\": [2625, 1682, 1106, 3277], \"x\": [\"1 - 2 times per week\", \"3 - 4 times per week\", \"Daily or almost every day\", \"I don't typically exercise\"], \"type\": \"bar\", \"name\": \"Slightly satisfied\"}], {\"xaxis\": {\"title\": \"Wake-up time\"}, \"title\": \"Effect of Wake-up time on job satisfaction\"}, {\"linkText\": \"Export to plot.ly\", \"showLink\": true})});</script>"
      ]
     },
     "metadata": {},
     "output_type": "display_data"
    }
   ],
   "source": [
    "# for more details see:https://plot.ly/python/bar-charts/\n",
    "dt = []\n",
    "effectwkup = data.groupby(['Exercise','JobSatisfaction']).size().unstack()\n",
    "for i in effectwkup.columns:\n",
    "    dt.append({\n",
    "        'type' : 'bar',\n",
    "        'x' : effectwkup.index,\n",
    "        'y' : effectwkup[i],\n",
    "        'name' : i\n",
    "    })\n",
    "fig = {\n",
    "    'data' : dt,\n",
    "    'layout' : {\n",
    "        'title' :'Effect of Wake-up time on job satisfaction',\n",
    "        'xaxis' : {\n",
    "            'title' : 'Wake-up time'\n",
    "        },        \n",
    "    }\n",
    "}\n",
    "iplot(fig)"
   ]
  },
  {
   "cell_type": "markdown",
   "metadata": {},
   "source": [
    "As far as dissatisfication is concerned, the people who dont excercise daily are more dissatisfied with their job, when compared to others.\n"
   ]
  },
  {
   "cell_type": "markdown",
   "metadata": {},
   "source": [
    "### Salary of Data Scientist / Machine Learning Specialists"
   ]
  },
  {
   "cell_type": "code",
   "execution_count": 34,
   "metadata": {},
   "outputs": [
    {
     "data": {
      "image/png": "[encoded data removed]",
      "text/plain": [
       "<Figure size 1152x432 with 1 Axes>"
      ]
     },
     "metadata": {},
     "output_type": "display_data"
    }
   ],
   "source": [
    "plt.figure(figsize = (16,6))\n",
    "\n",
    "plt.scatter(np.sort(data['ConvertedSalary'].values), range(data.shape[0]))\n",
    "plt.xlabel('Salary ($)', fontsize=10)\n",
    "plt.title(\"Salary of Data Scientist / Machine Learning Specialists\", fontsize=15)\n",
    "\n",
    "plt.show()"
   ]
  },
  {
   "cell_type": "code",
   "execution_count": 35,
   "metadata": {},
   "outputs": [
    {
     "data": {
      "text/plain": [
       "count    4.770200e+04\n",
       "mean     9.578086e+04\n",
       "std      2.023482e+05\n",
       "min      0.000000e+00\n",
       "25%      2.384400e+04\n",
       "50%      5.507500e+04\n",
       "75%      9.300000e+04\n",
       "max      2.000000e+06\n",
       "Name: ConvertedSalary, dtype: float64"
      ]
     },
     "execution_count": 35,
     "metadata": {},
     "output_type": "execute_result"
    }
   ],
   "source": [
    "data['ConvertedSalary'].describe()"
   ]
  },
  {
   "cell_type": "markdown",
   "metadata": {},
   "source": [
    "We can see that, mean salary of developers working as Data Scientist/ Machine Learning developers is $90k"
   ]
  },
  {
   "cell_type": "code",
   "execution_count": null,
   "metadata": {},
   "outputs": [],
   "source": []
  }
 ],
 "metadata": {
  "kernelspec": {
   "display_name": "Python 2",
   "language": "python",
   "name": "python2"
  },
  "language_info": {
   "codemirror_mode": {
    "name": "ipython",
    "version": 2
   },
   "file_extension": ".py",
   "mimetype": "text/x-python",
   "name": "python",
   "nbconvert_exporter": "python",
   "pygments_lexer": "ipython2",
   "version": "2.7.10"
  }
 },
 "nbformat": 4,
 "nbformat_minor": 1
}
